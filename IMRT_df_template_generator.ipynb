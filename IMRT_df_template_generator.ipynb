{
 "cells": [
  {
   "cell_type": "code",
   "execution_count": 223,
   "metadata": {},
   "outputs": [
    {
     "data": {
      "text/plain": [
       "Index(['patient id', 'timepoint', 'cell number', 'chromosome',\n",
       "       'metaphase size', 'inversion size', '# inversions',\n",
       "       '# terminal inversions', '# terminal SCEs cis patient',\n",
       "       '# terminal SCEs cis dark', '# sub-telo SCEs',\n",
       "       '# sister chromatid exchanges', '# 2 chr sat. associations',\n",
       "       '# 3 chr sat. associations', '# 4 chr sat. associations',\n",
       "       '# 5+ chr sat. associations', ' translocations intra-1,2,3',\n",
       "       ' translocations extra-1,2,3', 'notes'],\n",
       "      dtype='object')"
      ]
     },
     "execution_count": 223,
     "metadata": {},
     "output_type": "execute_result"
    }
   ],
   "source": [
    "new_df_template = pd.read_excel('testing_prostate_cancer_dataf.xlsx')\n",
    "new_df_template.columns"
   ]
  },
  {
   "cell_type": "code",
   "execution_count": 224,
   "metadata": {},
   "outputs": [
    {
     "data": {
      "text/plain": [
       "(150, 0)"
      ]
     },
     "execution_count": 224,
     "metadata": {},
     "output_type": "execute_result"
    }
   ],
   "source": [
    "#initializing template\n",
    "\n",
    "columns = ['patient id', 'timepoint', 'cell number', 'chromosome',\n",
    "       'metaphase size', 'inversion size', '# inversions',\n",
    "       '# terminal inversions', '# terminal SCEs cis patient',\n",
    "       '# terminal SCEs cis dark', '# sub-telo SCEs',\n",
    "       '# sister chromatid exchanges', '# 2 chr sat. associations',\n",
    "       '# 3 chr sat. associations', '# 4 chr sat. associations',\n",
    "       '# 5+ chr sat. associations', ' translocations intra-1,2,3',\n",
    "       ' translocations extra-1,2,3', 'notes'] \n",
    "\n",
    "#initializing template w/ empty df, index of 1-150\n",
    "template = pd.DataFrame(index=range(1,151))\n",
    "template.shape"
   ]
  },
  {
   "cell_type": "code",
   "execution_count": 246,
   "metadata": {},
   "outputs": [],
   "source": [
    "#params will be: patient id, timepoint\n",
    "#timepoints 1-15\n",
    "\n",
    "def make_prostate_cancer_dGH_timepoint_scoring_template(patient_id=None, timepoint=None):\n",
    "    \"\"\"\n",
    "    \"\"\"\n",
    "    \n",
    "    template = pd.DataFrame(index=range(1,151))\n",
    "\n",
    "    ### Set all cols/rows to zero, make cols related to size NaN\n",
    "    \n",
    "    for col in columns:\n",
    "        template[col] = 0\n",
    "\n",
    "    template['patient id'] = patient_id\n",
    "    template['timepoint'] = timepoint\n",
    "    template['metaphase size'] = 'NaN'\n",
    "    template['inversion size'] = 'NaN'\n",
    "\n",
    "\n",
    "    ### Making cell and chromosome columns counts\n",
    "\n",
    "    cell_number = []\n",
    "    chromosome = []\n",
    "    cell_count = 0\n",
    "    chr_count = 1\n",
    "\n",
    "    for num in range(1, 51):\n",
    "\n",
    "        while cell_count < 3:\n",
    "            cell_number.append(num)  \n",
    "            cell_count += 1\n",
    "\n",
    "            chromosome.append(chr_count)\n",
    "            chr_count += 1\n",
    "\n",
    "        cell_count = 0\n",
    "        chr_count = 1\n",
    "\n",
    "    # test_temp_columns = pd.DataFrame(cell_number, columns=['cell number'], index=range(1,151)) \n",
    "    # test_temp_columns['chromosome'] = chromosome\n",
    "    # test_temp_columns.head(6)\n",
    "\n",
    "    template['cell number'] = cell_number\n",
    "    template['chromosome'] = chromosome\n",
    "    \n",
    "#     print(template.shape)\n",
    "    return template\n",
    "\n",
    "\n",
    "for patient_num in range(1,17):\n",
    "    \n",
    "    if patient_num == 4:\n",
    "        continue\n",
    "\n",
    "    time_points = ['1 non irrad', '2 irrad @ 4 Gy', '3 B', '4 C']\n",
    "    concat_timepoints = []\n",
    "    concat_timepoints = pd.DataFrame(concat_timepoints)\n",
    "\n",
    "    for timepoint in time_points:\n",
    "        template = make_prostate_cancer_dGH_timepoint_scoring_template(patient_id=patient_num, timepoint=timepoint)\n",
    "        concat_timepoints = pd.concat([concat_timepoints, template], ignore_index=True)\n",
    "        \n",
    "    print(concat_timepoints.shape)\n",
    "\n",
    "    concat_timepoints.to_excel(f'SW{patient_num}_timepoints_subtelodGH.xlsx')"
   ]
  },
  {
   "cell_type": "code",
   "execution_count": 248,
   "metadata": {},
   "outputs": [
    {
     "name": "stdout",
     "output_type": "stream",
     "text": [
      "1 (600, 19)\n",
      "2 (600, 19)\n",
      "3 (600, 19)\n",
      "5 (600, 19)\n",
      "6 (600, 19)\n",
      "7 (600, 19)\n",
      "8 (600, 19)\n",
      "9 (600, 19)\n",
      "10 (600, 19)\n",
      "11 (600, 19)\n",
      "12 (600, 19)\n",
      "13 (600, 19)\n",
      "14 (600, 19)\n",
      "15 (600, 19)\n",
      "16 (600, 19)\n"
     ]
    }
   ],
   "source": [
    "def make_prostate_cancer_dGH_COMPLETE_timecourse_patient_template():\n",
    "    \n",
    "    for patient_num in range(1,17):\n",
    "        \n",
    "        #we dont have patient # 4    \n",
    "        if patient_num == 4:\n",
    "            continue\n",
    "\n",
    "        time_points = ['1 non irrad', '2 irrad @ 4 Gy', '3 B', '4 C']\n",
    "\n",
    "    #     if patient_num == 13:\n",
    "    #     time_points = ['1 non irrad', '2 irrad @ 4 Gy', '3 B'\n",
    "\n",
    "        concat_timepoints = []\n",
    "        concat_timepoints = pd.DataFrame(concat_timepoints)\n",
    "\n",
    "        for timepoint in time_points:\n",
    "            template = make_prostate_cancer_dGH_timepoint_scoring_template(patient_id=patient_num, timepoint=timepoint)\n",
    "            concat_timepoints = pd.concat([concat_timepoints, template], ignore_index=True)\n",
    "\n",
    "        print(patient_num, concat_timepoints.shape)\n",
    "        concat_timepoints.to_excel(f'SW{patient_num}_timepoints_subtelodGH.xlsx')\n",
    "\n",
    "make_prostate_cancer_dGH_COMPLETE_timecourse_patient_template()"
   ]
  },
  {
   "cell_type": "code",
   "execution_count": null,
   "metadata": {},
   "outputs": [],
   "source": []
  }
 ],
 "metadata": {
  "kernelspec": {
   "display_name": "Python 3",
   "language": "python",
   "name": "python3"
  },
  "language_info": {
   "codemirror_mode": {
    "name": "ipython",
    "version": 3
   },
   "file_extension": ".py",
   "mimetype": "text/x-python",
   "name": "python",
   "nbconvert_exporter": "python",
   "pygments_lexer": "ipython3",
   "version": "3.7.4"
  }
 },
 "nbformat": 4,
 "nbformat_minor": 2
}
