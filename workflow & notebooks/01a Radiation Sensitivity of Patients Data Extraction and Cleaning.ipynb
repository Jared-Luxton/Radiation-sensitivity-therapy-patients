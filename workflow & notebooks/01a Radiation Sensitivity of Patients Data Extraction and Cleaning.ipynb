{
 "cells": [
  {
   "cell_type": "code",
   "execution_count": 21,
   "metadata": {},
   "outputs": [
    {
     "name": "stdout",
     "output_type": "stream",
     "text": [
      "The autoreload extension is already loaded. To reload it, use:\n",
      "  %reload_ext autoreload\n"
     ]
    }
   ],
   "source": [
    "# tools for handling files\n",
    "import sys\n",
    "import os\n",
    "\n",
    "# pandas/numpy for handling data\n",
    "import pandas as pd\n",
    "import numpy as np\n",
    "from pandas import ExcelWriter\n",
    "from pandas import ExcelFile\n",
    "\n",
    "# for reading individual telomere length data from files\n",
    "from ast import literal_eval\n",
    "\n",
    "# for grabbing individual cells\n",
    "import more_itertools\n",
    "\n",
    "# my module containing functions for handling/visualizing/analyzing telomere length/chr rearrangement data\n",
    "import telomere_methods_rad_patient as telo_mrp\n",
    "\n",
    "# incase reloading modules is required\n",
    "import importlib\n",
    "%load_ext autoreload\n",
    "%autoreload "
   ]
  },
  {
   "cell_type": "markdown",
   "metadata": {},
   "source": [
    "---\n",
    "&nbsp; \n",
    "\n",
    "...\n",
    "\n",
    "&nbsp;\n",
    "\n",
    "---"
   ]
  },
  {
   "cell_type": "markdown",
   "metadata": {
    "toc-hr-collapsed": true
   },
   "source": [
    "# Handling Telomere Length Data from TeloFISH\n",
    "---"
   ]
  },
  {
   "cell_type": "markdown",
   "metadata": {
    "toc-hr-collapsed": false
   },
   "source": [
    "## Extracting telomere length data from all radiation therapy patients"
   ]
  },
  {
   "cell_type": "code",
   "execution_count": 3,
   "metadata": {},
   "outputs": [
    {
     "name": "stdout",
     "output_type": "stream",
     "text": [
      "SW9A non irrad.xlsx data extraction in progress..\n",
      "BJ1 for SW9_.xlsx data extraction in progress..\n",
      "SW11A non irrad.xlsx data extraction in progress..\n",
      "BJ1 for SW15_.xlsx data extraction in progress..\n",
      "SW6A non irrad.xlsx data extraction in progress..\n",
      "SW6A irrad @ 4 Gy.xlsx data extraction in progress..\n",
      "SW8B.xlsx data extraction in progress..\n",
      "SW14A irrad @ 4 Gy.xlsx data extraction in progress..\n",
      "SW8A irrad @ 4 Gy.xlsx data extraction in progress..\n",
      "SW5A irrad @ 4 Gy.xlsx data extraction in progress..\n",
      "SW8C.xlsx data extraction in progress..\n",
      "SW1A non irrad.xlsx data extraction in progress..\n",
      "BJ1 for SW11_.xlsx data extraction in progress..\n",
      "SW16A non irrad.xlsx data extraction in progress..\n",
      "BJ1 for SW13_.xlsx data extraction in progress..\n",
      "BJ-hTERT for SW9_.xlsx data extraction in progress..\n",
      "BJ1 for SW14_.xlsx data extraction in progress..\n",
      "SW9B.xlsx data extraction in progress..\n",
      "BJ1 for SW8_.xlsx data extraction in progress..\n",
      "SW_1_ok_3_C_.xlsx data extraction in progress..\n"
     ]
    },
    {
     "name": "stderr",
     "output_type": "stream",
     "text": [
      "/usr/local/lib/python3.7/site-packages/scipy/stats/stats.py:2275: RuntimeWarning: Mean of empty slice.\n",
      "  mns = a.mean(axis=axis)\n",
      "/usr/local/lib/python3.7/site-packages/numpy/core/_methods.py:154: RuntimeWarning: invalid value encountered in true_divide\n",
      "  ret, rcount, out=ret, casting='unsafe', subok=False)\n",
      "/usr/local/lib/python3.7/site-packages/numpy/core/_methods.py:217: RuntimeWarning: Degrees of freedom <= 0 for slice\n",
      "  keepdims=keepdims)\n",
      "/usr/local/lib/python3.7/site-packages/numpy/core/_methods.py:186: RuntimeWarning: invalid value encountered in true_divide\n",
      "  arrmean, rcount, out=arrmean, casting='unsafe', subok=False)\n",
      "/usr/local/lib/python3.7/site-packages/numpy/core/_methods.py:207: RuntimeWarning: invalid value encountered in true_divide\n",
      "  ret, rcount, out=ret, casting='unsafe', subok=False)\n"
     ]
    },
    {
     "name": "stdout",
     "output_type": "stream",
     "text": [
      "SW3A irrad @ 4 Gy.xlsx data extraction in progress..\n",
      "SW11A irrad @ 4 Gy.xlsx data extraction in progress..\n",
      "BJ1 for SW16_.xlsx data extraction in progress..\n",
      "BJ1 for SW12_.xlsx data extraction in progress..\n",
      "SW8A non irrad.xlsx data extraction in progress..\n",
      "BJ-hTERT for SW8_.xlsx data extraction in progress..\n",
      "SW10A non irrad.xlsx data extraction in progress..\n",
      "SW12A irrad @ 4 Gy.xlsx data extraction in progress..\n",
      "SW9C.xlsx data extraction in progress..\n",
      "BJ1 for SW10_.xlsx data extraction in progress..\n",
      "SW7A non irrad.xlsx data extraction in progress..\n",
      "SW1A irrad @ 4 Gy.xlsx data extraction in progress..\n",
      "SW13A irrad @ 4 Gy.xlsx data extraction in progress..\n",
      "SW1B.xlsx data extraction in progress..\n",
      "BJ-hTERT for SW6_.xlsx data extraction in progress..\n",
      "SW13B.xlsx data extraction in progress..\n",
      "BJ1 for SW2_.xlsx data extraction in progress..\n",
      "SW2A non irrad.xlsx data extraction in progress..\n",
      "SW5C.xlsx data extraction in progress..\n",
      "SW15C.xlsx data extraction in progress..\n",
      "SW7C.xlsx data extraction in progress..\n",
      "SW11B.xlsx data extraction in progress..\n",
      "SW3B.xlsx data extraction in progress..\n",
      "BJ-hTERT for SW15_.xlsx data extraction in progress..\n",
      "SW15A non irrad.xlsx data extraction in progress..\n",
      "SW12A non irrad.xlsx data extraction in progress..\n",
      "BJ-hTERT for SW11_.xlsx data extraction in progress..\n",
      "SW3C.xlsx data extraction in progress..\n",
      "SW11C.xlsx data extraction in progress..\n",
      "SW7B.xlsx data extraction in progress..\n",
      "SW15B.xlsx data extraction in progress..\n",
      "BJ1 for SW6_.xlsx data extraction in progress..\n",
      "BJ-hTERT for SW2_.xlsx data extraction in progress..\n",
      "SW5B.xlsx data extraction in progress..\n",
      "SW5A non irrad.xlsx data extraction in progress..\n",
      "SW1C.xlsx data extraction in progress..\n",
      "BJ-hTERT for SW13_.xlsx data extraction in progress..\n",
      "SW10A irrad @ 4 Gy.xlsx data extraction in progress..\n",
      "SW2A irrad @ 4 Gy.xlsx data extraction in progress..\n",
      "BJ1 for SW1_.xlsx data extraction in progress..\n",
      "SW10B.xlsx data extraction in progress..\n",
      "BJ-hTERT for SW5_.xlsx data extraction in progress..\n",
      "SW2B.xlsx data extraction in progress..\n",
      "SW13A non irrad.xlsx data extraction in progress..\n",
      "SW14C.xlsx data extraction in progress..\n",
      "SW6C.xlsx data extraction in progress..\n",
      "SW9A irrad @ 4 Gy.xlsx data extraction in progress..\n",
      "SW16A irrad @ 4 Gy.xlsx data extraction in progress..\n",
      "BJ-hTERT for SW14_.xlsx data extraction in progress..\n",
      "BJ-hTERT for SW16_.xlsx data extraction in progress..\n",
      "SW16C.xlsx data extraction in progress..\n",
      "BJ1 for SW3_.xlsx data extraction in progress..\n",
      "SW12B.xlsx data extraction in progress..\n",
      "BJ-hTERT for SW7_.xlsx data extraction in progress..\n",
      "SW12C.xlsx data extraction in progress..\n",
      "SW16B.xlsx data extraction in progress..\n",
      "BJ-hTERT for SW3_.xlsx data extraction in progress..\n",
      "BJ1 for SW7_.xlsx data extraction in progress..\n",
      "BJ-hTERT for SW12_.xlsx data extraction in progress..\n",
      "SW3A non irrad.xlsx data extraction in progress..\n",
      "SW15A irrad @ 4 Gy.xlsx data extraction in progress..\n",
      "SW7A irrad @ 4 Gy.xlsx data extraction in progress..\n",
      "BJ-hTERT for SW10_.xlsx data extraction in progress..\n",
      "SW6B.xlsx data extraction in progress..\n",
      "SW14B.xlsx data extraction in progress..\n",
      "BJ-hTERT for SW1_.xlsx data extraction in progress..\n",
      "SW14A non irrad.xlsx data extraction in progress..\n",
      "BJ1 for SW5_.xlsx data extraction in progress..\n",
      "SW2C.xlsx data extraction in progress..\n",
      "SW10C.xlsx data extraction in progress..\n",
      "completed file collection\n"
     ]
    }
   ],
   "source": [
    "all_patients_dict = telo_mrp.generate_dictionary_from_TeloLength_and_Chr_aberr_Data('../raw patient teloFISH data/')\n",
    "# all_patients_dict = telo_mrp.generate_dictionary_from_TeloLength_data('../raw patient teloFISH data/')"
   ]
  },
  {
   "cell_type": "markdown",
   "metadata": {},
   "source": [
    "## Making dataframe from dict w/ all patients telomere length data, contains telo means & individual telos as list"
   ]
  },
  {
   "cell_type": "code",
   "execution_count": 22,
   "metadata": {},
   "outputs": [
    {
     "name": "stdout",
     "output_type": "stream",
     "text": [
      "To display graphs pass the value \"yes graphs\" to the function otherwise default option=\"no graphs\"\n",
      "(59, 9)\n"
     ]
    },
    {
     "data": {
      "text/html": [
       "<div>\n",
       "<style scoped>\n",
       "    .dataframe tbody tr th:only-of-type {\n",
       "        vertical-align: middle;\n",
       "    }\n",
       "\n",
       "    .dataframe tbody tr th {\n",
       "        vertical-align: top;\n",
       "    }\n",
       "\n",
       "    .dataframe thead th {\n",
       "        text-align: right;\n",
       "    }\n",
       "</style>\n",
       "<table border=\"1\" class=\"dataframe\">\n",
       "  <thead>\n",
       "    <tr style=\"text-align: right;\">\n",
       "      <th></th>\n",
       "      <th>patient id</th>\n",
       "      <th>timepoint</th>\n",
       "      <th>telo data</th>\n",
       "      <th>chr data</th>\n",
       "      <th>status</th>\n",
       "      <th>telo means</th>\n",
       "      <th>Q1</th>\n",
       "      <th>Q2-3</th>\n",
       "      <th>Q4</th>\n",
       "    </tr>\n",
       "  </thead>\n",
       "  <tbody>\n",
       "    <tr>\n",
       "      <th>0</th>\n",
       "      <td>1</td>\n",
       "      <td>1 non irrad</td>\n",
       "      <td>0        92.916201\n",
       "1        65.463687\n",
       "2       ...</td>\n",
       "      <td>chr data</td>\n",
       "      <td>IT WORKS PEGGY &lt;333</td>\n",
       "      <td>84.796483</td>\n",
       "      <td>1195.0</td>\n",
       "      <td>2225.0</td>\n",
       "      <td>1180.0</td>\n",
       "    </tr>\n",
       "    <tr>\n",
       "      <th>1</th>\n",
       "      <td>1</td>\n",
       "      <td>2 irrad @ 4 Gy</td>\n",
       "      <td>0       112.977654\n",
       "1       104.530726\n",
       "2       ...</td>\n",
       "      <td>chr data</td>\n",
       "      <td>IT WORKS PEGGY &lt;333</td>\n",
       "      <td>90.975826</td>\n",
       "      <td>724.0</td>\n",
       "      <td>2350.0</td>\n",
       "      <td>1526.0</td>\n",
       "    </tr>\n",
       "    <tr>\n",
       "      <th>2</th>\n",
       "      <td>1</td>\n",
       "      <td>3 B</td>\n",
       "      <td>0       128.815642\n",
       "1       177.383701\n",
       "2       ...</td>\n",
       "      <td>chr data</td>\n",
       "      <td>IT WORKS PEGGY &lt;333</td>\n",
       "      <td>116.779989</td>\n",
       "      <td>231.0</td>\n",
       "      <td>1457.0</td>\n",
       "      <td>2912.0</td>\n",
       "    </tr>\n",
       "    <tr>\n",
       "      <th>3</th>\n",
       "      <td>1</td>\n",
       "      <td>4 C</td>\n",
       "      <td>0       126.703910\n",
       "1        70.743017\n",
       "2       ...</td>\n",
       "      <td>chr data</td>\n",
       "      <td>IT WORKS PEGGY &lt;333</td>\n",
       "      <td>99.346299</td>\n",
       "      <td>372.0</td>\n",
       "      <td>2241.0</td>\n",
       "      <td>1987.0</td>\n",
       "    </tr>\n",
       "  </tbody>\n",
       "</table>\n",
       "</div>"
      ],
      "text/plain": [
       "   patient id       timepoint  \\\n",
       "0           1     1 non irrad   \n",
       "1           1  2 irrad @ 4 Gy   \n",
       "2           1             3 B   \n",
       "3           1             4 C   \n",
       "\n",
       "                                           telo data  chr data  \\\n",
       "0  0        92.916201\n",
       "1        65.463687\n",
       "2       ...  chr data   \n",
       "1  0       112.977654\n",
       "1       104.530726\n",
       "2       ...  chr data   \n",
       "2  0       128.815642\n",
       "1       177.383701\n",
       "2       ...  chr data   \n",
       "3  0       126.703910\n",
       "1        70.743017\n",
       "2       ...  chr data   \n",
       "\n",
       "                status  telo means      Q1    Q2-3      Q4  \n",
       "0  IT WORKS PEGGY <333   84.796483  1195.0  2225.0  1180.0  \n",
       "1  IT WORKS PEGGY <333   90.975826   724.0  2350.0  1526.0  \n",
       "2  IT WORKS PEGGY <333  116.779989   231.0  1457.0  2912.0  \n",
       "3  IT WORKS PEGGY <333   99.346299   372.0  2241.0  1987.0  "
      ]
     },
     "execution_count": 22,
     "metadata": {},
     "output_type": "execute_result"
    }
   ],
   "source": [
    "# making df w/ all telomere data\n",
    "all_patients_df = telo_mrp.generate_dataframe_from_dict_and_generate_histograms_stats(all_patients_dict)\n",
    "\n",
    "# counting telomeres per quartile\n",
    "all_patients_df = telo_mrp.calculate_apply_teloQuartiles_dataframe(all_patients_df)\n",
    "all_patients_df['Q1'] = all_patients_df['Q1'].astype('float64')\n",
    "all_patients_df['Q2-3'] = all_patients_df['Q2-3'].astype('float64')\n",
    "all_patients_df['Q4'] = all_patients_df['Q4'].astype('float64')\n",
    "\n",
    "# don't need telo means per cell @ this time\n",
    "all_patients_df = all_patients_df.drop(['cell data'], axis=1)\n",
    "\n",
    "print(all_patients_df.shape)\n",
    "all_patients_df.head(4)"
   ]
  },
  {
   "cell_type": "markdown",
   "metadata": {
    "toc-hr-collapsed": true
   },
   "source": [
    "## Saving all patients telomere length data for later retrieval"
   ]
  },
  {
   "cell_type": "code",
   "execution_count": 23,
   "metadata": {},
   "outputs": [],
   "source": [
    "# changing telo data to list in prep for saving to csv\n",
    "\n",
    "all_patients_df['telo data'] = all_patients_df['telo data'].apply(lambda row: row.tolist())\n",
    "all_patients_df.to_csv('../compiled patient data csv files/all_patients_df.csv', index=False)"
   ]
  },
  {
   "cell_type": "markdown",
   "metadata": {},
   "source": [
    "## Generating all patients telo df containing telo counts per quartile melted into tidy data format "
   ]
  },
  {
   "cell_type": "code",
   "execution_count": 9,
   "metadata": {},
   "outputs": [
    {
     "data": {
      "text/html": [
       "<div>\n",
       "<style scoped>\n",
       "    .dataframe tbody tr th:only-of-type {\n",
       "        vertical-align: middle;\n",
       "    }\n",
       "\n",
       "    .dataframe tbody tr th {\n",
       "        vertical-align: top;\n",
       "    }\n",
       "\n",
       "    .dataframe thead th {\n",
       "        text-align: right;\n",
       "    }\n",
       "</style>\n",
       "<table border=\"1\" class=\"dataframe\">\n",
       "  <thead>\n",
       "    <tr style=\"text-align: right;\">\n",
       "      <th></th>\n",
       "      <th>patient id</th>\n",
       "      <th>timepoint</th>\n",
       "      <th>telo data</th>\n",
       "      <th>chr data</th>\n",
       "      <th>status</th>\n",
       "      <th>telo means</th>\n",
       "      <th>relative Q</th>\n",
       "      <th>Q freq counts</th>\n",
       "    </tr>\n",
       "  </thead>\n",
       "  <tbody>\n",
       "    <tr>\n",
       "      <th>0</th>\n",
       "      <td>1</td>\n",
       "      <td>1 non irrad</td>\n",
       "      <td>[78.13407813845714, 82.35754182161699, 30.6201...</td>\n",
       "      <td>chr data</td>\n",
       "      <td>IT WORKS PEGGY &lt;333</td>\n",
       "      <td>84.796738</td>\n",
       "      <td>Q1</td>\n",
       "      <td>1195.0</td>\n",
       "    </tr>\n",
       "    <tr>\n",
       "      <th>1</th>\n",
       "      <td>1</td>\n",
       "      <td>2 irrad @ 4 Gy</td>\n",
       "      <td>[137.26256970269498, 115.0893853661058, 89.748...</td>\n",
       "      <td>chr data</td>\n",
       "      <td>IT WORKS PEGGY &lt;333</td>\n",
       "      <td>90.975987</td>\n",
       "      <td>Q1</td>\n",
       "      <td>724.0</td>\n",
       "    </tr>\n",
       "    <tr>\n",
       "      <th>2</th>\n",
       "      <td>1</td>\n",
       "      <td>3 B</td>\n",
       "      <td>[95.02793287109652, 93.97206695030657, 185.832...</td>\n",
       "      <td>chr data</td>\n",
       "      <td>IT WORKS PEGGY &lt;333</td>\n",
       "      <td>116.780229</td>\n",
       "      <td>Q1</td>\n",
       "      <td>231.0</td>\n",
       "    </tr>\n",
       "    <tr>\n",
       "      <th>3</th>\n",
       "      <td>1</td>\n",
       "      <td>4 C</td>\n",
       "      <td>[124.59217865321546, 134.06280604091415, 45.40...</td>\n",
       "      <td>chr data</td>\n",
       "      <td>IT WORKS PEGGY &lt;333</td>\n",
       "      <td>99.346663</td>\n",
       "      <td>Q1</td>\n",
       "      <td>372.0</td>\n",
       "    </tr>\n",
       "  </tbody>\n",
       "</table>\n",
       "</div>"
      ],
      "text/plain": [
       "   patient id       timepoint  \\\n",
       "0           1     1 non irrad   \n",
       "1           1  2 irrad @ 4 Gy   \n",
       "2           1             3 B   \n",
       "3           1             4 C   \n",
       "\n",
       "                                           telo data  chr data  \\\n",
       "0  [78.13407813845714, 82.35754182161699, 30.6201...  chr data   \n",
       "1  [137.26256970269498, 115.0893853661058, 89.748...  chr data   \n",
       "2  [95.02793287109652, 93.97206695030657, 185.832...  chr data   \n",
       "3  [124.59217865321546, 134.06280604091415, 45.40...  chr data   \n",
       "\n",
       "                status  telo means relative Q  Q freq counts  \n",
       "0  IT WORKS PEGGY <333   84.796738         Q1         1195.0  \n",
       "1  IT WORKS PEGGY <333   90.975987         Q1          724.0  \n",
       "2  IT WORKS PEGGY <333  116.780229         Q1          231.0  \n",
       "3  IT WORKS PEGGY <333   99.346663         Q1          372.0  "
      ]
     },
     "execution_count": 9,
     "metadata": {},
     "output_type": "execute_result"
    }
   ],
   "source": [
    "melted_all_patients_df = pd.melt(\n",
    "    all_patients_df,\n",
    "    id_vars = [col for col in all_patients_df.columns if col != 'Q1' and col != 'Q2-3' and col != 'Q4'],\n",
    "    var_name='relative Q',\n",
    "    value_name='Q freq counts')\n",
    "\n",
    "melted_all_patients_df['Q freq counts'] = melted_all_patients_df['Q freq counts'].astype('float64')\n",
    "melted_all_patients_df.head(4)"
   ]
  },
  {
   "cell_type": "markdown",
   "metadata": {},
   "source": [
    "## Saving melted all patients df to csv"
   ]
  },
  {
   "cell_type": "code",
   "execution_count": 10,
   "metadata": {},
   "outputs": [],
   "source": [
    "melted_all_patients_df.to_csv('../compiled patient data csv files/melted_all_patients_df.csv', index=False)"
   ]
  },
  {
   "cell_type": "markdown",
   "metadata": {},
   "source": [
    "## Pivoted Dataframe w/ timepoints as columns, and telomere length means for each patient timepoint in rows"
   ]
  },
  {
   "cell_type": "code",
   "execution_count": 11,
   "metadata": {},
   "outputs": [
    {
     "data": {
      "text/html": [
       "<div>\n",
       "<style scoped>\n",
       "    .dataframe tbody tr th:only-of-type {\n",
       "        vertical-align: middle;\n",
       "    }\n",
       "\n",
       "    .dataframe tbody tr th {\n",
       "        vertical-align: top;\n",
       "    }\n",
       "\n",
       "    .dataframe thead th {\n",
       "        text-align: right;\n",
       "    }\n",
       "</style>\n",
       "<table border=\"1\" class=\"dataframe\">\n",
       "  <thead>\n",
       "    <tr style=\"text-align: right;\">\n",
       "      <th>timepoint</th>\n",
       "      <th>1 non irrad</th>\n",
       "      <th>2 irrad @ 4 Gy</th>\n",
       "      <th>3 B</th>\n",
       "      <th>4 C</th>\n",
       "    </tr>\n",
       "    <tr>\n",
       "      <th>patient id</th>\n",
       "      <th></th>\n",
       "      <th></th>\n",
       "      <th></th>\n",
       "      <th></th>\n",
       "    </tr>\n",
       "  </thead>\n",
       "  <tbody>\n",
       "    <tr>\n",
       "      <th>1</th>\n",
       "      <td>84.796738</td>\n",
       "      <td>90.975987</td>\n",
       "      <td>116.780229</td>\n",
       "      <td>99.346663</td>\n",
       "    </tr>\n",
       "    <tr>\n",
       "      <th>2</th>\n",
       "      <td>119.774143</td>\n",
       "      <td>133.199629</td>\n",
       "      <td>159.828115</td>\n",
       "      <td>108.915685</td>\n",
       "    </tr>\n",
       "    <tr>\n",
       "      <th>3</th>\n",
       "      <td>83.351204</td>\n",
       "      <td>87.295754</td>\n",
       "      <td>101.433049</td>\n",
       "      <td>95.669819</td>\n",
       "    </tr>\n",
       "    <tr>\n",
       "      <th>5</th>\n",
       "      <td>85.506373</td>\n",
       "      <td>113.096219</td>\n",
       "      <td>118.340987</td>\n",
       "      <td>97.832439</td>\n",
       "    </tr>\n",
       "  </tbody>\n",
       "</table>\n",
       "</div>"
      ],
      "text/plain": [
       "timepoint   1 non irrad  2 irrad @ 4 Gy         3 B         4 C\n",
       "patient id                                                     \n",
       "1             84.796738       90.975987  116.780229   99.346663\n",
       "2            119.774143      133.199629  159.828115  108.915685\n",
       "3             83.351204       87.295754  101.433049   95.669819\n",
       "5             85.506373      113.096219  118.340987   97.832439"
      ]
     },
     "execution_count": 11,
     "metadata": {},
     "output_type": "execute_result"
    }
   ],
   "source": [
    "pivot_patients_telo_means_df = all_patients_df.pivot(index='patient id', columns='timepoint', values='telo means')\n",
    "pivot_patients_telo_means_df = pivot_patients_telo_means_df.drop(13)\n",
    "pivot_patients_telo_means_df.head(4)"
   ]
  },
  {
   "cell_type": "markdown",
   "metadata": {},
   "source": [
    "## Saving pivoted telo means df to file"
   ]
  },
  {
   "cell_type": "code",
   "execution_count": 12,
   "metadata": {},
   "outputs": [],
   "source": [
    "pivot_patients_telo_means_df.to_csv('../compiled patient data csv files/pivot_patients_telo_means_df.csv', index=False)"
   ]
  },
  {
   "cell_type": "markdown",
   "metadata": {},
   "source": [
    "## Exploding individual telomere length measurements from contained list into dataframe (i.e row per individual telomere) while retaining related column info"
   ]
  },
  {
   "cell_type": "code",
   "execution_count": 24,
   "metadata": {},
   "outputs": [
    {
     "name": "stdout",
     "output_type": "stream",
     "text": [
      "(59, 4600)\n"
     ]
    },
    {
     "data": {
      "text/html": [
       "<div>\n",
       "<style scoped>\n",
       "    .dataframe tbody tr th:only-of-type {\n",
       "        vertical-align: middle;\n",
       "    }\n",
       "\n",
       "    .dataframe tbody tr th {\n",
       "        vertical-align: top;\n",
       "    }\n",
       "\n",
       "    .dataframe thead th {\n",
       "        text-align: right;\n",
       "    }\n",
       "</style>\n",
       "<table border=\"1\" class=\"dataframe\">\n",
       "  <thead>\n",
       "    <tr style=\"text-align: right;\">\n",
       "      <th></th>\n",
       "      <th>0</th>\n",
       "      <th>1</th>\n",
       "      <th>2</th>\n",
       "      <th>3</th>\n",
       "      <th>4</th>\n",
       "      <th>5</th>\n",
       "      <th>6</th>\n",
       "      <th>7</th>\n",
       "      <th>8</th>\n",
       "      <th>9</th>\n",
       "      <th>...</th>\n",
       "      <th>4590</th>\n",
       "      <th>4591</th>\n",
       "      <th>4592</th>\n",
       "      <th>4593</th>\n",
       "      <th>4594</th>\n",
       "      <th>4595</th>\n",
       "      <th>4596</th>\n",
       "      <th>4597</th>\n",
       "      <th>4598</th>\n",
       "      <th>4599</th>\n",
       "    </tr>\n",
       "  </thead>\n",
       "  <tbody>\n",
       "    <tr>\n",
       "      <th>0</th>\n",
       "      <td>92.916201</td>\n",
       "      <td>65.463687</td>\n",
       "      <td>61.240223</td>\n",
       "      <td>70.743017</td>\n",
       "      <td>102.418994</td>\n",
       "      <td>105.579101</td>\n",
       "      <td>40.122905</td>\n",
       "      <td>73.909875</td>\n",
       "      <td>68.631285</td>\n",
       "      <td>79.189944</td>\n",
       "      <td>...</td>\n",
       "      <td>64.407177</td>\n",
       "      <td>141.486033</td>\n",
       "      <td>60.184357</td>\n",
       "      <td>65.463032</td>\n",
       "      <td>115.089385</td>\n",
       "      <td>105.586592</td>\n",
       "      <td>186.888268</td>\n",
       "      <td>82.356718</td>\n",
       "      <td>96.082838</td>\n",
       "      <td>142.541899</td>\n",
       "    </tr>\n",
       "    <tr>\n",
       "      <th>1</th>\n",
       "      <td>112.977654</td>\n",
       "      <td>104.530726</td>\n",
       "      <td>111.921788</td>\n",
       "      <td>112.052958</td>\n",
       "      <td>74.966480</td>\n",
       "      <td>66.519553</td>\n",
       "      <td>47.513966</td>\n",
       "      <td>90.804469</td>\n",
       "      <td>114.032379</td>\n",
       "      <td>145.709497</td>\n",
       "      <td>...</td>\n",
       "      <td>87.636871</td>\n",
       "      <td>108.754190</td>\n",
       "      <td>69.687151</td>\n",
       "      <td>61.240223</td>\n",
       "      <td>119.312849</td>\n",
       "      <td>46.458101</td>\n",
       "      <td>86.581006</td>\n",
       "      <td>48.569832</td>\n",
       "      <td>115.088234</td>\n",
       "      <td>74.966480</td>\n",
       "    </tr>\n",
       "    <tr>\n",
       "      <th>2</th>\n",
       "      <td>128.815642</td>\n",
       "      <td>177.383701</td>\n",
       "      <td>121.424581</td>\n",
       "      <td>104.530726</td>\n",
       "      <td>63.351955</td>\n",
       "      <td>164.715084</td>\n",
       "      <td>97.139665</td>\n",
       "      <td>110.864813</td>\n",
       "      <td>152.043172</td>\n",
       "      <td>109.810056</td>\n",
       "      <td>...</td>\n",
       "      <td>83.412574</td>\n",
       "      <td>125.648045</td>\n",
       "      <td>184.776536</td>\n",
       "      <td>120.585379</td>\n",
       "      <td>142.541899</td>\n",
       "      <td>120.368715</td>\n",
       "      <td>139.372908</td>\n",
       "      <td>161.547486</td>\n",
       "      <td>120.368715</td>\n",
       "      <td>95.027933</td>\n",
       "    </tr>\n",
       "    <tr>\n",
       "      <th>3</th>\n",
       "      <td>126.703910</td>\n",
       "      <td>70.743017</td>\n",
       "      <td>83.413408</td>\n",
       "      <td>92.916201</td>\n",
       "      <td>55.960334</td>\n",
       "      <td>70.743017</td>\n",
       "      <td>91.860335</td>\n",
       "      <td>123.536313</td>\n",
       "      <td>104.530726</td>\n",
       "      <td>103.474860</td>\n",
       "      <td>...</td>\n",
       "      <td>126.702643</td>\n",
       "      <td>78.134078</td>\n",
       "      <td>66.518888</td>\n",
       "      <td>120.368715</td>\n",
       "      <td>83.413408</td>\n",
       "      <td>104.529681</td>\n",
       "      <td>161.547486</td>\n",
       "      <td>117.199945</td>\n",
       "      <td>123.535077</td>\n",
       "      <td>108.754190</td>\n",
       "    </tr>\n",
       "  </tbody>\n",
       "</table>\n",
       "<p>4 rows × 4600 columns</p>\n",
       "</div>"
      ],
      "text/plain": [
       "         0           1           2           3           4           5     \\\n",
       "0   92.916201   65.463687   61.240223   70.743017  102.418994  105.579101   \n",
       "1  112.977654  104.530726  111.921788  112.052958   74.966480   66.519553   \n",
       "2  128.815642  177.383701  121.424581  104.530726   63.351955  164.715084   \n",
       "3  126.703910   70.743017   83.413408   92.916201   55.960334   70.743017   \n",
       "\n",
       "        6           7           8           9     ...        4590        4591  \\\n",
       "0  40.122905   73.909875   68.631285   79.189944  ...   64.407177  141.486033   \n",
       "1  47.513966   90.804469  114.032379  145.709497  ...   87.636871  108.754190   \n",
       "2  97.139665  110.864813  152.043172  109.810056  ...   83.412574  125.648045   \n",
       "3  91.860335  123.536313  104.530726  103.474860  ...  126.702643   78.134078   \n",
       "\n",
       "         4592        4593        4594        4595        4596        4597  \\\n",
       "0   60.184357   65.463032  115.089385  105.586592  186.888268   82.356718   \n",
       "1   69.687151   61.240223  119.312849   46.458101   86.581006   48.569832   \n",
       "2  184.776536  120.585379  142.541899  120.368715  139.372908  161.547486   \n",
       "3   66.518888  120.368715   83.413408  104.529681  161.547486  117.199945   \n",
       "\n",
       "         4598        4599  \n",
       "0   96.082838  142.541899  \n",
       "1  115.088234   74.966480  \n",
       "2  120.368715   95.027933  \n",
       "3  123.535077  108.754190  \n",
       "\n",
       "[4 rows x 4600 columns]"
      ]
     },
     "execution_count": 24,
     "metadata": {},
     "output_type": "execute_result"
    }
   ],
   "source": [
    "# can imagine the lists containing the individual telos per patient exploding to the right; maintains the index relationship\n",
    "explode_telos_raw = all_patients_df['telo data'].apply(pd.Series)\n",
    "\n",
    "print(explode_telos_raw.shape)\n",
    "explode_telos_raw.head(4)"
   ]
  },
  {
   "cell_type": "code",
   "execution_count": 27,
   "metadata": {},
   "outputs": [
    {
     "data": {
      "text/html": [
       "<div>\n",
       "<style scoped>\n",
       "    .dataframe tbody tr th:only-of-type {\n",
       "        vertical-align: middle;\n",
       "    }\n",
       "\n",
       "    .dataframe tbody tr th {\n",
       "        vertical-align: top;\n",
       "    }\n",
       "\n",
       "    .dataframe thead th {\n",
       "        text-align: right;\n",
       "    }\n",
       "</style>\n",
       "<table border=\"1\" class=\"dataframe\">\n",
       "  <thead>\n",
       "    <tr style=\"text-align: right;\">\n",
       "      <th></th>\n",
       "      <th>patient id</th>\n",
       "      <th>timepoint</th>\n",
       "      <th>chr data</th>\n",
       "      <th>status</th>\n",
       "      <th>telo means</th>\n",
       "      <th>individual telomeres</th>\n",
       "    </tr>\n",
       "  </thead>\n",
       "  <tbody>\n",
       "    <tr>\n",
       "      <th>0</th>\n",
       "      <td>1</td>\n",
       "      <td>1 non irrad</td>\n",
       "      <td>chr data</td>\n",
       "      <td>IT WORKS PEGGY &lt;333</td>\n",
       "      <td>84.796483</td>\n",
       "      <td>92.916201</td>\n",
       "    </tr>\n",
       "    <tr>\n",
       "      <th>1</th>\n",
       "      <td>1</td>\n",
       "      <td>2 irrad @ 4 Gy</td>\n",
       "      <td>chr data</td>\n",
       "      <td>IT WORKS PEGGY &lt;333</td>\n",
       "      <td>90.975826</td>\n",
       "      <td>112.977654</td>\n",
       "    </tr>\n",
       "    <tr>\n",
       "      <th>2</th>\n",
       "      <td>1</td>\n",
       "      <td>3 B</td>\n",
       "      <td>chr data</td>\n",
       "      <td>IT WORKS PEGGY &lt;333</td>\n",
       "      <td>116.779989</td>\n",
       "      <td>128.815642</td>\n",
       "    </tr>\n",
       "    <tr>\n",
       "      <th>3</th>\n",
       "      <td>1</td>\n",
       "      <td>4 C</td>\n",
       "      <td>chr data</td>\n",
       "      <td>IT WORKS PEGGY &lt;333</td>\n",
       "      <td>99.346299</td>\n",
       "      <td>126.703910</td>\n",
       "    </tr>\n",
       "  </tbody>\n",
       "</table>\n",
       "</div>"
      ],
      "text/plain": [
       "   patient id       timepoint  chr data               status  telo means  \\\n",
       "0           1     1 non irrad  chr data  IT WORKS PEGGY <333   84.796483   \n",
       "1           1  2 irrad @ 4 Gy  chr data  IT WORKS PEGGY <333   90.975826   \n",
       "2           1             3 B  chr data  IT WORKS PEGGY <333  116.779989   \n",
       "3           1             4 C  chr data  IT WORKS PEGGY <333   99.346299   \n",
       "\n",
       "   individual telomeres  \n",
       "0             92.916201  \n",
       "1            112.977654  \n",
       "2            128.815642  \n",
       "3            126.703910  "
      ]
     },
     "execution_count": 27,
     "metadata": {},
     "output_type": "execute_result"
    }
   ],
   "source": [
    "exploded_telos_all_patients_df = (explode_telos_raw\n",
    "                                  \n",
    "    # we'll merge the exploded telos df w/ our original all patients df on the index!\n",
    "    .merge(all_patients_df, right_index = True, left_index = True)\n",
    "    .drop(['telo data', 'Q1', 'Q2-3', 'Q4'], axis = 1)\n",
    "    .melt(id_vars = ['patient id', 'timepoint', 'chr data', 'status', 'telo means'], value_name = \"individual telomeres\") \n",
    "    .drop(\"variable\", axis = 1)\n",
    "    .dropna())\n",
    "\n",
    "# exploded_telos_all_patients_df['telo data exploded'] = exploded_telos_all_patients_df['telo data exploded'].astype('float64')\n",
    "exploded_telos_all_patients_df.head(4)"
   ]
  },
  {
   "cell_type": "markdown",
   "metadata": {},
   "source": [
    "## Saving exploded telomere df for later retrieval"
   ]
  },
  {
   "cell_type": "code",
   "execution_count": 39,
   "metadata": {},
   "outputs": [],
   "source": [
    "exploded_telos_all_patients_df.to_csv('../compiled patient data csv files/exploded_telos_all_patients_df.csv', index=False)"
   ]
  },
  {
   "cell_type": "markdown",
   "metadata": {
    "toc-hr-collapsed": true
   },
   "source": [
    "# Handling Telomere Length Data from qPCR - Aidan & Lynn\n",
    "---"
   ]
  },
  {
   "cell_type": "markdown",
   "metadata": {},
   "source": [
    "## Extracting average telomere length data by qPCR data from Aidan & Lynn"
   ]
  },
  {
   "cell_type": "code",
   "execution_count": 28,
   "metadata": {},
   "outputs": [],
   "source": [
    "all_qPCR_df = pd.read_excel('../qPCR telo data/REVISED Tel +Alb (both plates) 2019-08-05 13 Quantification Cq Results.xlsx',\n",
    "                            sheet_name=1,\n",
    "                           skiprows=1,\n",
    "                            usecols=[24, 25, 26,]\n",
    "                           )\n",
    "\n",
    "all_qPCR_df.columns = ['Sample', 'telo means qPCR', 'SEM']\n",
    "all_qPCR_df['Sample'] = all_qPCR_df['Sample'].astype('str')"
   ]
  },
  {
   "cell_type": "code",
   "execution_count": 29,
   "metadata": {},
   "outputs": [],
   "source": [
    "all_qPCR_df.dropna(axis=0, inplace=True)\n",
    "all_qPCR_df.drop([24, 47, 48], axis=0, inplace=True)"
   ]
  },
  {
   "cell_type": "code",
   "execution_count": 30,
   "metadata": {},
   "outputs": [],
   "source": [
    "all_qPCR_df['Sample'] = all_qPCR_df['Sample'].apply(lambda x: telo_mrp.change_sample_ID(x))\n",
    "all_qPCR_df['timepoint'] = all_qPCR_df['Sample'].apply(lambda x: telo_mrp.make_timepoint_col(x))\n",
    "all_qPCR_df['patient id'] = all_qPCR_df['Sample'].apply(lambda x: telo_mrp.make_patient_ID(x))\n",
    "\n",
    "all_qPCR_df['patient id'] = all_qPCR_df['patient id'].astype('str')\n",
    "all_qPCR_df.drop(['Sample'], axis=1, inplace=True)"
   ]
  },
  {
   "cell_type": "code",
   "execution_count": 33,
   "metadata": {},
   "outputs": [
    {
     "data": {
      "text/html": [
       "<div>\n",
       "<style scoped>\n",
       "    .dataframe tbody tr th:only-of-type {\n",
       "        vertical-align: middle;\n",
       "    }\n",
       "\n",
       "    .dataframe tbody tr th {\n",
       "        vertical-align: top;\n",
       "    }\n",
       "\n",
       "    .dataframe thead th {\n",
       "        text-align: right;\n",
       "    }\n",
       "</style>\n",
       "<table border=\"1\" class=\"dataframe\">\n",
       "  <thead>\n",
       "    <tr style=\"text-align: right;\">\n",
       "      <th></th>\n",
       "      <th>patient id</th>\n",
       "      <th>timepoint</th>\n",
       "      <th>telo means qPCR</th>\n",
       "      <th>SEM</th>\n",
       "    </tr>\n",
       "  </thead>\n",
       "  <tbody>\n",
       "    <tr>\n",
       "      <th>0</th>\n",
       "      <td>1</td>\n",
       "      <td>1 non irrad</td>\n",
       "      <td>2.182028</td>\n",
       "      <td>0.083233</td>\n",
       "    </tr>\n",
       "    <tr>\n",
       "      <th>1</th>\n",
       "      <td>1</td>\n",
       "      <td>3 B</td>\n",
       "      <td>1.964348</td>\n",
       "      <td>0.051942</td>\n",
       "    </tr>\n",
       "    <tr>\n",
       "      <th>2</th>\n",
       "      <td>1</td>\n",
       "      <td>4 C</td>\n",
       "      <td>1.749799</td>\n",
       "      <td>0.068195</td>\n",
       "    </tr>\n",
       "    <tr>\n",
       "      <th>3</th>\n",
       "      <td>2</td>\n",
       "      <td>1 non irrad</td>\n",
       "      <td>1.669445</td>\n",
       "      <td>0.034776</td>\n",
       "    </tr>\n",
       "  </tbody>\n",
       "</table>\n",
       "</div>"
      ],
      "text/plain": [
       "  patient id    timepoint  telo means qPCR       SEM\n",
       "0          1  1 non irrad         2.182028  0.083233\n",
       "1          1          3 B         1.964348  0.051942\n",
       "2          1          4 C         1.749799  0.068195\n",
       "3          2  1 non irrad         1.669445  0.034776"
      ]
     },
     "execution_count": 33,
     "metadata": {},
     "output_type": "execute_result"
    }
   ],
   "source": [
    "cols = ['patient id', 'timepoint', 'telo means qPCR', 'SEM']\n",
    "all_qPCR_df = all_qPCR_df.reindex(columns=cols)\n",
    "all_qPCR_df.head(4)"
   ]
  },
  {
   "cell_type": "code",
   "execution_count": 34,
   "metadata": {},
   "outputs": [],
   "source": [
    "all_qPCR_df.to_csv('../qPCR telo data/all_qPCR_df.csv', index=False)"
   ]
  },
  {
   "cell_type": "markdown",
   "metadata": {},
   "source": [
    "# Handling Chromosome Aberration Data from Subtelo-dGH \n",
    "---"
   ]
  },
  {
   "cell_type": "code",
   "execution_count": 6,
   "metadata": {},
   "outputs": [],
   "source": [
    "# %load_ext autoreload\n",
    "\n",
    "%autoreload"
   ]
  },
  {
   "cell_type": "code",
   "execution_count": 8,
   "metadata": {},
   "outputs": [
    {
     "name": "stdout",
     "output_type": "stream",
     "text": [
      "<DirEntry 'SW14_timepoints_subtelodGH.xlsx'>\n",
      "<DirEntry 'SW3_timepoints_subtelodGH.xlsx'>\n",
      "<DirEntry 'SW8_timepoints_subtelodGH.xlsx'>\n",
      "<DirEntry 'SW13_timepoints_subtelodGH.xlsx'>\n",
      "<DirEntry 'SW9_timepoints_subtelodGH.xlsx'>\n",
      "<DirEntry 'SW5_timepoints_subtelodGH.xlsx'>\n",
      "<DirEntry 'SW12_timepoints_subtelodGH.xlsx'>\n",
      "<DirEntry 'SW15_timepoints_subtelodGH.xlsx'>\n",
      "<DirEntry 'SW2_timepoints_subtelodGH.xlsx'>\n",
      "<DirEntry 'SW10_timepoints_subtelodGH.xlsx'>\n",
      "<DirEntry 'SW7_timepoints_subtelodGH.xlsx'>\n",
      "<DirEntry 'SW1_timepoints_subtelodGH.xlsx'>\n",
      "<DirEntry 'SW16_timepoints_subtelodGH.xlsx'>\n",
      "<DirEntry 'SW11_timepoints_subtelodGH.xlsx'>\n",
      "<DirEntry 'SW6_timepoints_subtelodGH.xlsx'>\n"
     ]
    }
   ],
   "source": [
    "all_chr_aberr_df = telo_mrp.make_dataframe_chr_aberr_data('../dGH scoresheets/')"
   ]
  },
  {
   "cell_type": "code",
   "execution_count": 9,
   "metadata": {},
   "outputs": [
    {
     "data": {
      "text/plain": [
       "array([ 6, 11, 16,  1,  7, 10,  2, 15, 12,  5,  9, 13,  8,  3, 14])"
      ]
     },
     "execution_count": 9,
     "metadata": {},
     "output_type": "execute_result"
    }
   ],
   "source": [
    "all_chr_aberr_df['patient id'].unique()"
   ]
  },
  {
   "cell_type": "code",
   "execution_count": 10,
   "metadata": {},
   "outputs": [],
   "source": [
    "all_chr_aberr_df.to_csv('../compiled patient data csv files/all_chr_aberr_df.csv', index=False)"
   ]
  },
  {
   "cell_type": "code",
   "execution_count": null,
   "metadata": {},
   "outputs": [],
   "source": []
  }
 ],
 "metadata": {
  "kernelspec": {
   "display_name": "Python 3",
   "language": "python",
   "name": "python3"
  },
  "language_info": {
   "codemirror_mode": {
    "name": "ipython",
    "version": 3
   },
   "file_extension": ".py",
   "mimetype": "text/x-python",
   "name": "python",
   "nbconvert_exporter": "python",
   "pygments_lexer": "ipython3",
   "version": "3.7.5"
  },
  "toc-autonumbering": true
 },
 "nbformat": 4,
 "nbformat_minor": 2
}
