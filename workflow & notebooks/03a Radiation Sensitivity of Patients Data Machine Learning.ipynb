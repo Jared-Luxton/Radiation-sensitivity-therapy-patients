{
 "cells": [
  {
   "cell_type": "code",
   "execution_count": null,
   "metadata": {},
   "outputs": [],
   "source": [
    "# tools for handling files\n",
    "import sys\n",
    "import os\n",
    "\n",
    "# pandas/numpy for handling data\n",
    "import pandas as pd\n",
    "import numpy as np\n",
    "\n",
    "# seaborn/matplotlib for graphing\n",
    "import matplotlib.pyplot as plt\n",
    "import seaborn as sns\n",
    "\n",
    "# statistics\n",
    "from statistics import mean \n",
    "import statsmodels.api as sm\n",
    "from statsmodels.formula.api import ols\n",
    "from scipy import stats\n",
    "\n",
    "# for reading individual telomere length data from files\n",
    "from ast import literal_eval\n",
    "\n",
    "# for grabbing individual cells\n",
    "import more_itertools\n",
    "\n",
    "# my module containing functions for handling/visualizing/analyzing telomere length/chr rearrangement data\n",
    "import telomere_methods_rad_patient as trp\n",
    "\n",
    "# machine learning \n",
    "from sklearn.linear_model import LinearRegression\n",
    "from sklearn.model_selection import KFold\n",
    "from sklearn.tree import DecisionTreeRegressor\n",
    "from sklearn.ensemble import RandomForestRegressor\n",
    "from xgboost import XGBRegressor\n",
    "from sklearn.model_selection import train_test_split\n",
    "from sklearn.metrics import mean_absolute_error, auc, accuracy_score, r2_score\n",
    "from sklearn.model_selection import StratifiedShuffleSplit\n",
    "from sklearn.base import BaseEstimator, TransformerMixin\n",
    "from sklearn.compose import ColumnTransformer\n",
    "from sklearn.pipeline import Pipeline\n",
    "from sklearn.preprocessing import OneHotEncoder\n",
    "from sklearn.model_selection import cross_val_score\n",
    "\n",
    "import warnings\n",
    "warnings.simplefilter(action='ignore', category=FutureWarning)\n",
    "\n",
    "# setting darkgrid style for seaborn figures\n",
    "sns.set_style(style=\"darkgrid\",rc= {'patch.edgecolor': 'black'})"
   ]
  },
  {
   "cell_type": "code",
   "execution_count": null,
   "metadata": {},
   "outputs": [],
   "source": [
    "# incase reloading modules is required\n",
    "import importlib\n",
    "%load_ext autoreload\n",
    "%autoreload \n",
    "\n",
    "import telomere_methods_rad_patient as trp"
   ]
  },
  {
   "cell_type": "markdown",
   "metadata": {
    "toc-hr-collapsed": true
   },
   "source": [
    "# Machine Learning - exploring predictions of mean telomere length post-therapy"
   ]
  },
  {
   "cell_type": "markdown",
   "metadata": {},
   "source": [
    "## Loading/merging data for ML"
   ]
  },
  {
   "cell_type": "code",
   "execution_count": null,
   "metadata": {},
   "outputs": [],
   "source": [
    "exploded_telos_all_patients_df = pd.read_csv('../compiled patient data csv files/exploded_telos_all_patients_df.csv')\n",
    "all_patients_df = pd.read_csv('../compiled patient data csv files/all_patients_df.csv')"
   ]
  },
  {
   "cell_type": "code",
   "execution_count": null,
   "metadata": {},
   "outputs": [],
   "source": [
    "# cleaning & combing data; retaining features of interest\n",
    "telo_data = trp.combine_data(exploded_telos=exploded_telos_all_patients_df, \n",
    "                             all_patients_df=all_patients_df)\n",
    "\n",
    "telo_data.head()"
   ]
  },
  {
   "cell_type": "markdown",
   "metadata": {},
   "source": [
    "## Train/test split "
   ]
  },
  {
   "cell_type": "code",
   "execution_count": null,
   "metadata": {},
   "outputs": [],
   "source": [
    "telo_test = telo_data.copy()\n",
    "\n",
    "y = telo_test[['4 C telo means']]\n",
    "X = telo_test.drop(['4 C telo means'], axis=1)\n",
    "\n",
    "X_train, X_test, y_train, y_test = train_test_split(X, y, test_size=0.2, shuffle=True, stratify=y)\n",
    "\n",
    "train_set = pd.concat([X_train, y_train], axis=1).reset_index(drop=True)\n",
    "test_set = pd.concat([X_test, y_test], axis=1).reset_index(drop=True)"
   ]
  },
  {
   "cell_type": "markdown",
   "metadata": {},
   "source": [
    "## Initializing cleaning/model pipelines"
   ]
  },
  {
   "cell_type": "code",
   "execution_count": null,
   "metadata": {},
   "outputs": [],
   "source": [
    "clean_process_pipe = Pipeline([('features', trp.make_features(make_log_target=False)), \n",
    "                               ('dummies', trp.make_dummies(drop_first=True)),\n",
    "                               ('cleaner', trp.clean_data(drop_patient_id=True))\n",
    "                              ])"
   ]
  },
  {
   "cell_type": "code",
   "execution_count": null,
   "metadata": {},
   "outputs": [],
   "source": [
    "model = XGBRegressor(n_estimators=200, max_depth=7, learning_rate=0.2,\n",
    "                     objective ='reg:squarederror', random_state=0)\n",
    "\n",
    "xgb_pipe = Pipeline([('XGB', model)\n",
    "                    ])\n",
    "\n",
    "full_pipe = Pipeline([('clean_process', clean_process_pipe),\n",
    "                      ('model', model)\n",
    "                     ])"
   ]
  },
  {
   "cell_type": "markdown",
   "metadata": {},
   "source": [
    "## Cleaning/modeling data with pipeline"
   ]
  },
  {
   "cell_type": "code",
   "execution_count": null,
   "metadata": {},
   "outputs": [],
   "source": [
    "train_clean = train_set.copy()\n",
    "test_clean = test_set.copy()\n",
    "\n",
    "train_clean = clean_process_pipe.fit_transform(train_clean)\n",
    "test_clean = clean_process_pipe.fit_transform(test_clean)"
   ]
  },
  {
   "cell_type": "markdown",
   "metadata": {},
   "source": [
    "## GridSearch for pipeline/model params"
   ]
  },
  {
   "cell_type": "code",
   "execution_count": null,
   "metadata": {},
   "outputs": [],
   "source": [
    "# #XGBoost params for grid search\n",
    "# param_grid = {'XGB__max_depth': [3, 7, 9],\n",
    "#               'XGB__learning_rate': [0.05, 0.1]}\n",
    "\n",
    "# X_train = train_clean[['individual telomeres', 'timepoint_1']].copy()\n",
    "# y_train = train_clean['4 C telo means'].copy()\n",
    "\n",
    "# folds = KFold(5, shuffle=True, random_state=0)\n",
    "# df_results, best_estimator = trp.grid_search(X_train, y_train, xgb_pipe, param_grid, \n",
    "#                                           scoring='neg_mean_absolute_error', cv=folds, n_iter=2)\n",
    "# print(best_estimator)"
   ]
  },
  {
   "cell_type": "markdown",
   "metadata": {},
   "source": [
    "## Cross validation; MAE & R2 score - predicting mean telo telo post-therapy (4 C) using individual telos"
   ]
  },
  {
   "cell_type": "code",
   "execution_count": null,
   "metadata": {},
   "outputs": [],
   "source": [
    "fit_xgb_model = trp.cv_score_fit_mae_test(train_set=train_clean, test_set=test_clean,\n",
    "                                          pipe=xgb_pipe, model=model, cv=5)"
   ]
  },
  {
   "cell_type": "code",
   "execution_count": null,
   "metadata": {},
   "outputs": [],
   "source": [
    "# incase reloading modules is required\n",
    "import importlib\n",
    "%load_ext autoreload\n",
    "%autoreload \n",
    "\n",
    "import telomere_methods_rad_patient as trp"
   ]
  },
  {
   "cell_type": "code",
   "execution_count": null,
   "metadata": {},
   "outputs": [],
   "source": [
    "y_predict_list, y_true_list = trp.predict_target_4C_compare_actual(telo_data=telo_data, test_set=test_set, \n",
    "                                     model=fit_xgb_model, target='4 C telo means',\n",
    "                                     clean_process_pipe=clean_process_pipe)"
   ]
  },
  {
   "cell_type": "code",
   "execution_count": null,
   "metadata": {},
   "outputs": [],
   "source": [
    "plt.figure(figsize=(8,8))\n",
    "ax = sns.regplot(x=y_true, y=y_xgb_predict, scatter_kws={'s':200, 'edgecolor':'k'}, )\n",
    "ax.set_xlabel('Actual mean telomere lengths post-therapy', fontsize=22)\n",
    "ax.set_ylabel('Predicted mean telomere lengths post-therapy', fontsize=22)\n",
    "ax.tick_params(labelsize=14)\n",
    "ax.set_title('Fig. 1', fontsize=22, weight='bold')\n",
    "plt.savefig('predicting mean telos 3 months post.png')"
   ]
  },
  {
   "cell_type": "code",
   "execution_count": null,
   "metadata": {},
   "outputs": [],
   "source": [
    "from xgboost import plot_tree\n",
    "\n",
    "plot_tree(fit_xgb_model)"
   ]
  },
  {
   "cell_type": "markdown",
   "metadata": {},
   "source": [
    "## Looking directly at actual test 4 C telo means vs. predicted test 4 C telo means"
   ]
  },
  {
   "cell_type": "code",
   "execution_count": null,
   "metadata": {},
   "outputs": [],
   "source": [
    "test_clean_process_pipe = clean_process_pipe.set_params(cleaner__drop_patient_id=False)\n",
    "\n",
    "test_run = test_set.copy()\n",
    "test_run2 = test_clean_process_pipe.fit_transform(test_run)"
   ]
  },
  {
   "cell_type": "code",
   "execution_count": null,
   "metadata": {},
   "outputs": [],
   "source": [
    "test_run2_pred = fit_xgb_model.predict(test_run2[['individual telomeres', 'timepoint_1']])\n",
    "df_test_run2_pred = pd.DataFrame({'4C telo PREDICTIONS': test_run2_pred})\n",
    "\n",
    "viz = pd.concat([test_run2, df_test_run2_pred], axis=1)\n",
    "viz.corr()"
   ]
  },
  {
   "cell_type": "code",
   "execution_count": null,
   "metadata": {},
   "outputs": [],
   "source": [
    "viz[viz['patient id'] == 5].groupby('patient id').agg('mean')"
   ]
  },
  {
   "cell_type": "markdown",
   "metadata": {},
   "source": [
    "## Testing if model can predict 4C mean telomere length using *means"
   ]
  },
  {
   "cell_type": "code",
   "execution_count": null,
   "metadata": {},
   "outputs": [],
   "source": [
    "all_patients_4C = trp.combine_data(exploded_telos=exploded_telos_all_patients_df,\n",
    "                                   all_patients_df=all_patients_df,\n",
    "                                   prediction_objective='4 C means from telo means')"
   ]
  },
  {
   "cell_type": "code",
   "execution_count": null,
   "metadata": {},
   "outputs": [],
   "source": [
    "ML_mean_telos_pre = clean_process_pipe.set_params(cleaner__drop_patient_id=False).fit_transform(all_patients_4C)\n",
    "ML_mean_telos_clean = ML_mean_telos_pre.copy()\n",
    "\n",
    "# renaming telos means to enable compatability w/ model\n",
    "ML_mean_telos_clean.rename(columns={'telo means':'individual telomeres'}, inplace=True)\n",
    "# dropping to ensure only timepoint/ \"individual telomeres\" are seen by model\n",
    "ML_mean_telos_clean.drop(['patient id', '4 C telo means'], axis=1, inplace=True)"
   ]
  },
  {
   "cell_type": "code",
   "execution_count": null,
   "metadata": {},
   "outputs": [],
   "source": [
    "pred_4C_telos = model.predict(ML_mean_telos_clean)\n",
    "pred_4C_telos = pd.DataFrame({'y PREDICT 4C telos': pred_4C_telos})\n",
    "alpha = pd.concat([ML_mean_telos_pre[['patient id', '4 C telo means']], pred_4C_telos], axis=1)[['patient id', '4 C telo means', 'y PREDICT 4C telos']]\n",
    "alpha.corr()"
   ]
  },
  {
   "cell_type": "code",
   "execution_count": null,
   "metadata": {},
   "outputs": [],
   "source": [
    "plt.figure(figsize=(8,6))\n",
    "ax = sns.regplot(x=alpha['4 C telo means'], y=alpha['y PREDICT 4C telos'])\n",
    "ax.set_xlabel('ACTUAL 4C MEAN TELOS', fontsize=16)\n",
    "ax.set_ylabel('PREDICTED 4C MEAN TELOS BY LINEAR REG.', fontsize=16)\n",
    "ax.tick_params(labelsize=14)"
   ]
  },
  {
   "cell_type": "markdown",
   "metadata": {},
   "source": [
    "## Testing if linear regression can predict 4C mean telos using individual telos"
   ]
  },
  {
   "cell_type": "code",
   "execution_count": null,
   "metadata": {},
   "outputs": [],
   "source": [
    "lr_model = LinearRegression(normalize=True)\n",
    "lr_pipe = Pipeline([('lr_model', lr_model)\n",
    "                   ])\n",
    "\n",
    "fit_lr_model = trp.cv_score_fit_mae_test(train_set=train_clean, test_set=test_clean, \n",
    "                                         pipe=lr_pipe, model=lr_model, cv=5)"
   ]
  },
  {
   "cell_type": "code",
   "execution_count": null,
   "metadata": {},
   "outputs": [],
   "source": [
    "y_lr_predict, y_true = trp.predict_target_4C_compare_actual(telo_data=telo_data_qualify, \n",
    "                                                           train_set=train_clean, test_set=test_clean, model=lr_model)"
   ]
  },
  {
   "cell_type": "code",
   "execution_count": null,
   "metadata": {},
   "outputs": [],
   "source": [
    "plt.figure(figsize=(8,6))\n",
    "ax = sns.regplot(x=y_true, y=y_lr_predict)\n",
    "ax.set_xlabel('ACTUAL 4C MEAN TELOS', fontsize=16)\n",
    "ax.set_ylabel('PREDICTED 4C MEAN TELOS BY LINEAR REG.', fontsize=16)\n",
    "ax.tick_params(labelsize=14)"
   ]
  },
  {
   "cell_type": "code",
   "execution_count": null,
   "metadata": {},
   "outputs": [],
   "source": [
    "sns.lineplot(x='timepoint', y='telo means', hue='patient id', data=all_patients_df[all_patients_df['patient id'].isin([12, 14, 15, 16])])"
   ]
  },
  {
   "cell_type": "code",
   "execution_count": null,
   "metadata": {},
   "outputs": [],
   "source": [
    "sns.lineplot(x='timepoint', y='telo means', hue='patient id', data=all_patients_df[~all_patients_df['patient id'].isin([12, 13, 14, 15, 16])])"
   ]
  },
  {
   "cell_type": "code",
   "execution_count": null,
   "metadata": {},
   "outputs": [],
   "source": [
    "training_MAE = []\n",
    "test_MAE = []\n",
    "max_depth_XGB = [3, 4, 5, 10, 15, 20, 25]\n",
    "\n",
    "X = train_clean[['timepoint_1', 'individual telomeres']]\n",
    "y = train_clean['4 C telo means']\n",
    "\n",
    "X_train, X_val, y_train, y_val = train_test_split(X, y, shuffle=True, random_state=0)\n",
    "\n",
    "X_test = test_clean[['timepoint_1', 'individual telomeres']]\n",
    "y_test = test_clean['4 C telo means']\n",
    "\n",
    "for param in max_depth_XGB:\n",
    "    model = XGBRegressor(max_depth=param, learning_rate=0.1, n_estimators=100, objective='reg:squarederror')\n",
    "    model.fit(X_train, y_train)\n",
    "    \n",
    "    predict_y_val = model.predict(X_val)\n",
    "    training_MAE.append(mean_absolute_error(predict_y_val, y_val))\n",
    "    \n",
    "    predict_y_test = model.predict(X_test)\n",
    "    test_MAE.append(mean_absolute_error(predict_y_test, y_test))"
   ]
  },
  {
   "cell_type": "code",
   "execution_count": null,
   "metadata": {},
   "outputs": [],
   "source": [
    "viz_traintest_MAE = pd.DataFrame({'training_MAE': training_MAE,\n",
    "                                  'test_MAE': test_MAE,\n",
    "                                  'max_depth_XGB': max_depth_XGB})"
   ]
  },
  {
   "cell_type": "code",
   "execution_count": null,
   "metadata": {},
   "outputs": [],
   "source": [
    "viz_traintest_MAE = viz_traintest_MAE.melt(id_vars='max_depth_XGB',\n",
    "                                           value_vars=['training_MAE', 'test_MAE'],\n",
    "                                           var_name='data type',\n",
    "                                           value_name='MAE'\n",
    "                                           )"
   ]
  },
  {
   "cell_type": "code",
   "execution_count": null,
   "metadata": {},
   "outputs": [],
   "source": [
    "sns.lmplot(x='max_depth_XGB', y='MAE', data=viz_traintest_MAE, hue='data type', lowess=True)"
   ]
  },
  {
   "cell_type": "markdown",
   "metadata": {},
   "source": [
    "## Visualization"
   ]
  },
  {
   "cell_type": "code",
   "execution_count": null,
   "metadata": {},
   "outputs": [],
   "source": [
    "# visualize hyperparameters of XGBoost vs model accuracy\n",
    "# visualize training vs. test MAE w/ changes params\n",
    "# visualize fit "
   ]
  },
  {
   "cell_type": "code",
   "execution_count": null,
   "metadata": {},
   "outputs": [],
   "source": [
    "test2 = pd.DataFrame({'predict_y_test': predict_y_test, 'y_test': y_test}).reset_index(drop=True)\n",
    "test2['residuals'] = test2['predict_y_test'] - test2['y_test']\n",
    "test2.head()"
   ]
  },
  {
   "cell_type": "code",
   "execution_count": null,
   "metadata": {},
   "outputs": [],
   "source": [
    "sns.lmplot(x='predict_y_test', y='y_test', data=test2)"
   ]
  },
  {
   "cell_type": "code",
   "execution_count": null,
   "metadata": {},
   "outputs": [],
   "source": [
    "sns.lmplot(x='predict_y_test', y='residuals', data=test2)"
   ]
  },
  {
   "cell_type": "code",
   "execution_count": null,
   "metadata": {},
   "outputs": [],
   "source": [
    "from statsmodels.graphics.gofplots import qqplot\n",
    "qqplot(test2['residuals'])"
   ]
  },
  {
   "cell_type": "code",
   "execution_count": null,
   "metadata": {},
   "outputs": [],
   "source": [
    "sns.jointplot(x='predict_y_test', y='y_test', kind='kde', data=test2)"
   ]
  },
  {
   "cell_type": "markdown",
   "metadata": {
    "toc-hr-collapsed": true
   },
   "source": [
    "# Machine Learning - exploring predictions of #s of short telomeres post-therapy"
   ]
  },
  {
   "cell_type": "markdown",
   "metadata": {},
   "source": [
    "## Loading/merging data for ML"
   ]
  },
  {
   "cell_type": "code",
   "execution_count": null,
   "metadata": {},
   "outputs": [],
   "source": [
    "exploded_telos_all_patients_df = pd.read_csv('../compiled patient data csv files/exploded_telos_all_patients_df.csv')\n",
    "all_patients_df = pd.read_csv('../compiled patient data csv files/all_patients_df.csv')"
   ]
  },
  {
   "cell_type": "code",
   "execution_count": null,
   "metadata": {},
   "outputs": [],
   "source": [
    "# cleaning & combing data; retaining features of interest\n",
    "quartile_telo_data = trp.combine_data(exploded_telos=exploded_telos_all_patients_df, \n",
    "                                      all_patients_df=all_patients_df,\n",
    "                                      prediction_objective='4 C # short telos from individual telos')\n",
    "\n",
    "quartile_telo_data.head()"
   ]
  },
  {
   "cell_type": "markdown",
   "metadata": {},
   "source": [
    "## Train/test split "
   ]
  },
  {
   "cell_type": "code",
   "execution_count": null,
   "metadata": {},
   "outputs": [],
   "source": [
    "quartile_telo_test = quartile_telo_data.copy()\n",
    "\n",
    "y = quartile_telo_test[['4 C # short telos']]\n",
    "X = quartile_telo_test.drop(['4 C # short telos'], axis=1)\n",
    "\n",
    "X_train, X_test, y_train, y_test = train_test_split(X, y, test_size=0.2, shuffle=True, stratify=y)\n",
    "\n",
    "q_train_set = pd.concat([X_train, y_train], axis=1).reset_index(drop=True)\n",
    "q_test_set = pd.concat([X_test, y_test], axis=1).reset_index(drop=True)"
   ]
  },
  {
   "cell_type": "markdown",
   "metadata": {},
   "source": [
    "## Initializing cleaning/model pipelines"
   ]
  },
  {
   "cell_type": "code",
   "execution_count": null,
   "metadata": {},
   "outputs": [],
   "source": [
    "q_clean_process_pipe = Pipeline([('features', trp.make_features(make_log_target=False)), \n",
    "                               ('dummies', trp.make_dummies(drop_first=True)),\n",
    "                               ('cleaner', trp.clean_data(drop_patient_id=True))\n",
    "                              ])"
   ]
  },
  {
   "cell_type": "code",
   "execution_count": null,
   "metadata": {},
   "outputs": [],
   "source": [
    "# initialize XGBoost model & pipeline for hyperparams gridsearch\n",
    "q_model = XGBRegressor(n_estimators=200, max_depth=6, learning_rate=0.2,\n",
    "                       objective='reg:squarederror', random_state=0,)\n",
    "\n",
    "q_xgb_pipe = Pipeline([('XGB', model)\n",
    "                      ])\n",
    "\n",
    "q_full_pipe = Pipeline([('clean_process', clean_process_pipe),\n",
    "                        ('model', model)\n",
    "                       ])"
   ]
  },
  {
   "cell_type": "markdown",
   "metadata": {},
   "source": [
    "## Cleaning/modeling data with pipeline"
   ]
  },
  {
   "cell_type": "code",
   "execution_count": null,
   "metadata": {},
   "outputs": [],
   "source": [
    "q_train_clean = q_train_set.copy()\n",
    "q_test_clean = q_test_set.copy()\n",
    "\n",
    "q_train_clean = q_clean_process_pipe.fit_transform(q_train_clean)\n",
    "q_test_clean = q_clean_process_pipe.fit_transform(q_test_clean)"
   ]
  },
  {
   "cell_type": "markdown",
   "metadata": {},
   "source": [
    "## Cross validation; MAE & R2 score when predicting # of short telomeres post-therapy (4 C)"
   ]
  },
  {
   "cell_type": "code",
   "execution_count": null,
   "metadata": {},
   "outputs": [],
   "source": [
    "# score model by cross validation, 5 folds, on X/y_train data \n",
    "# fit model on train data\n",
    "# w/ model, predict y_test from X_test; score model by MAE/R2 - return model\n",
    "\n",
    "q_fit_xgb_model = trp.cv_score_fit_mae_test(train_set=q_train_clean, test_set=q_test_clean,\n",
    "                                            pipe=q_xgb_pipe, model=q_model, cv=5, \n",
    "                                            target='4 C # short telos')"
   ]
  },
  {
   "cell_type": "code",
   "execution_count": null,
   "metadata": {},
   "outputs": [],
   "source": [
    "q_y_xgb_predict, q_y_true = trp.predict_target_4C_compare_actual(telo_data=quartile_telo_data, test_set=q_test_set, \n",
    "                                                                 model=q_fit_xgb_model, target='4 C # short telos',\n",
    "                                                                 clean_process_pipe=q_clean_process_pipe)"
   ]
  },
  {
   "cell_type": "code",
   "execution_count": null,
   "metadata": {},
   "outputs": [],
   "source": [
    "# plt.figure(figsize=(8,6))\n",
    "# ax = sns.regplot(x=q_y_true, y=q_y_xgb_predict)\n",
    "# ax.set_xlabel('ACTUAL 4C # SHORT TELOS', fontsize=16)\n",
    "# ax.set_ylabel('PREDICTED 4C # SHORT TELOS BY XGB MODEL', fontsize=16)\n",
    "# ax.tick_params(labelsize=14)\n",
    "# plt.savefig('predicting # short telos 3 months post.png')\n",
    "\n",
    "plt.figure(figsize=(8,6))\n",
    "ax = sns.regplot(x=q_y_true, y=q_y_xgb_predict, scatter_kws={'s':200, 'edgecolor':'k'}, )\n",
    "ax.set_xlabel('Actual # short telos post-therapy', fontsize=20)\n",
    "ax.set_ylabel('Predicted # short telos post-therapy', fontsize=20)\n",
    "ax.tick_params(labelsize=14)\n",
    "ax.set_title('Fig. 2', weight='bold', fontsize=20)\n",
    "plt.savefig('predicting # short telos 3 months post.png')"
   ]
  },
  {
   "cell_type": "markdown",
   "metadata": {
    "toc-hr-collapsed": true
   },
   "source": [
    "# Machine Learning - exploring predictions of #s of short telomeres post-therapy"
   ]
  },
  {
   "cell_type": "markdown",
   "metadata": {},
   "source": [
    "## Loading/merging data for ML"
   ]
  },
  {
   "cell_type": "code",
   "execution_count": 224,
   "metadata": {},
   "outputs": [
    {
     "name": "stdout",
     "output_type": "stream",
     "text": [
      "The autoreload extension is already loaded. To reload it, use:\n",
      "  %reload_ext autoreload\n"
     ]
    }
   ],
   "source": [
    "# incase reloading modules is required\n",
    "import importlib\n",
    "%load_ext autoreload\n",
    "%autoreload \n",
    "\n",
    "import telomere_methods_rad_patient as trp"
   ]
  },
  {
   "cell_type": "code",
   "execution_count": 256,
   "metadata": {},
   "outputs": [
    {
     "data": {
      "text/html": [
       "<div>\n",
       "<style scoped>\n",
       "    .dataframe tbody tr th:only-of-type {\n",
       "        vertical-align: middle;\n",
       "    }\n",
       "\n",
       "    .dataframe tbody tr th {\n",
       "        vertical-align: top;\n",
       "    }\n",
       "\n",
       "    .dataframe thead th {\n",
       "        text-align: right;\n",
       "    }\n",
       "</style>\n",
       "<table border=\"1\" class=\"dataframe\">\n",
       "  <thead>\n",
       "    <tr style=\"text-align: right;\">\n",
       "      <th></th>\n",
       "      <th>patient id</th>\n",
       "      <th>timepoint</th>\n",
       "      <th># inversions</th>\n",
       "      <th># terminal inversions</th>\n",
       "      <th># sister chromatid exchanges</th>\n",
       "      <th># dicentrics</th>\n",
       "      <th>excess chr fragments</th>\n",
       "      <th># sat associations</th>\n",
       "      <th># terminal SCEs</th>\n",
       "      <th># translocations</th>\n",
       "    </tr>\n",
       "  </thead>\n",
       "  <tbody>\n",
       "    <tr>\n",
       "      <th>0</th>\n",
       "      <td>1</td>\n",
       "      <td>1 non irrad</td>\n",
       "      <td>0</td>\n",
       "      <td>0</td>\n",
       "      <td>1</td>\n",
       "      <td>0</td>\n",
       "      <td>0</td>\n",
       "      <td>0</td>\n",
       "      <td>0</td>\n",
       "      <td>0</td>\n",
       "    </tr>\n",
       "    <tr>\n",
       "      <th>1</th>\n",
       "      <td>1</td>\n",
       "      <td>1 non irrad</td>\n",
       "      <td>0</td>\n",
       "      <td>1</td>\n",
       "      <td>2</td>\n",
       "      <td>0</td>\n",
       "      <td>0</td>\n",
       "      <td>1</td>\n",
       "      <td>0</td>\n",
       "      <td>0</td>\n",
       "    </tr>\n",
       "    <tr>\n",
       "      <th>2</th>\n",
       "      <td>1</td>\n",
       "      <td>1 non irrad</td>\n",
       "      <td>0</td>\n",
       "      <td>0</td>\n",
       "      <td>0</td>\n",
       "      <td>0</td>\n",
       "      <td>0</td>\n",
       "      <td>1</td>\n",
       "      <td>1</td>\n",
       "      <td>0</td>\n",
       "    </tr>\n",
       "    <tr>\n",
       "      <th>3</th>\n",
       "      <td>1</td>\n",
       "      <td>1 non irrad</td>\n",
       "      <td>0</td>\n",
       "      <td>0</td>\n",
       "      <td>0</td>\n",
       "      <td>0</td>\n",
       "      <td>0</td>\n",
       "      <td>0</td>\n",
       "      <td>1</td>\n",
       "      <td>0</td>\n",
       "    </tr>\n",
       "    <tr>\n",
       "      <th>4</th>\n",
       "      <td>1</td>\n",
       "      <td>1 non irrad</td>\n",
       "      <td>0</td>\n",
       "      <td>0</td>\n",
       "      <td>1</td>\n",
       "      <td>0</td>\n",
       "      <td>0</td>\n",
       "      <td>0</td>\n",
       "      <td>0</td>\n",
       "      <td>0</td>\n",
       "    </tr>\n",
       "  </tbody>\n",
       "</table>\n",
       "</div>"
      ],
      "text/plain": [
       "   patient id    timepoint  # inversions  # terminal inversions  \\\n",
       "0           1  1 non irrad             0                      0   \n",
       "1           1  1 non irrad             0                      1   \n",
       "2           1  1 non irrad             0                      0   \n",
       "3           1  1 non irrad             0                      0   \n",
       "4           1  1 non irrad             0                      0   \n",
       "\n",
       "   # sister chromatid exchanges  # dicentrics  excess chr fragments  \\\n",
       "0                             1             0                     0   \n",
       "1                             2             0                     0   \n",
       "2                             0             0                     0   \n",
       "3                             0             0                     0   \n",
       "4                             1             0                     0   \n",
       "\n",
       "   # sat associations  # terminal SCEs  # translocations  \n",
       "0                   0                0                 0  \n",
       "1                   1                0                 0  \n",
       "2                   1                1                 0  \n",
       "3                   0                1                 0  \n",
       "4                   0                0                 0  "
      ]
     },
     "execution_count": 256,
     "metadata": {},
     "output_type": "execute_result"
    }
   ],
   "source": [
    "all_chr_aberr_df = pd.read_csv('../compiled patient data csv files/all_chr_aberr_df.csv')\n",
    "\n",
    "general_cleaner = Pipeline([('cleaner', trp.general_chr_aberr_cleaner())])\n",
    "cleaned_chr_df = general_cleaner.fit_transform(all_chr_aberr_df)\n",
    "cleaned_chr_df.head()"
   ]
  },
  {
   "cell_type": "markdown",
   "metadata": {},
   "source": [
    "## Train/test split "
   ]
  },
  {
   "cell_type": "code",
   "execution_count": 241,
   "metadata": {},
   "outputs": [],
   "source": [
    "chr_train, chr_test = train_test_split(cleaned_chr_df, test_size=0.2, shuffle=True, \n",
    "                                       stratify=cleaned_chr_df[['patient id', 'timepoint']])"
   ]
  },
  {
   "cell_type": "markdown",
   "metadata": {},
   "source": [
    "## Initializing cleaning/model pipelines"
   ]
  },
  {
   "cell_type": "code",
   "execution_count": 248,
   "metadata": {},
   "outputs": [],
   "source": [
    "make_new_features_target = Pipeline([('make features', trp.make_chr_features(combine_inversions=False, bool_features=True)),\n",
    "                                     ('make target merge', trp.make_target_merge())\n",
    "                                    ])"
   ]
  },
  {
   "cell_type": "code",
   "execution_count": 249,
   "metadata": {},
   "outputs": [],
   "source": [
    "# initialize XGBoost model & pipeline for hyperparams gridsearch\n",
    "chr_model = XGBRegressor(n_estimators=200, max_depth=15, learning_rate=0.1,\n",
    "                         objective='reg:tweedie', random_state=0,\n",
    "                         tweedie_variance_power=1)\n",
    "\n",
    "chr_xgb_pipe = Pipeline([('XGB', chr_model)\n",
    "                      ])\n",
    "\n",
    "chr_full_pipe = Pipeline([('make ftr target', make_new_features_target),\n",
    "                          ('model', chr_model)\n",
    "                         ])"
   ]
  },
  {
   "cell_type": "markdown",
   "metadata": {},
   "source": [
    "## Cleaning/modeling data with pipeline"
   ]
  },
  {
   "cell_type": "code",
   "execution_count": 250,
   "metadata": {},
   "outputs": [],
   "source": [
    "cleaned_chr_train = chr_train.copy()\n",
    "cleaned_chr_test = chr_test.copy()\n",
    "\n",
    "cleaned_chr_train = make_new_features_target.fit_transform(cleaned_chr_train)\n",
    "cleaned_chr_test = make_new_features_target.fit_transform(cleaned_chr_test)"
   ]
  },
  {
   "cell_type": "code",
   "execution_count": 251,
   "metadata": {},
   "outputs": [
    {
     "data": {
      "text/html": [
       "<div>\n",
       "<style scoped>\n",
       "    .dataframe tbody tr th:only-of-type {\n",
       "        vertical-align: middle;\n",
       "    }\n",
       "\n",
       "    .dataframe tbody tr th {\n",
       "        vertical-align: top;\n",
       "    }\n",
       "\n",
       "    .dataframe thead th {\n",
       "        text-align: right;\n",
       "    }\n",
       "</style>\n",
       "<table border=\"1\" class=\"dataframe\">\n",
       "  <thead>\n",
       "    <tr style=\"text-align: right;\">\n",
       "      <th></th>\n",
       "      <th>patient id</th>\n",
       "      <th># inversions</th>\n",
       "      <th># terminal inversions</th>\n",
       "      <th># dicentrics</th>\n",
       "      <th># translocations</th>\n",
       "      <th>BOOL # inversions</th>\n",
       "      <th>BOOL # terminal inversions</th>\n",
       "      <th>BOOL # dicentrics</th>\n",
       "      <th>BOOL # translocations</th>\n",
       "      <th>4 C mean aberration index</th>\n",
       "      <th>timepoint_2 irrad @ 4 Gy</th>\n",
       "    </tr>\n",
       "  </thead>\n",
       "  <tbody>\n",
       "    <tr>\n",
       "      <th>1</th>\n",
       "      <td>2</td>\n",
       "      <td>0</td>\n",
       "      <td>0</td>\n",
       "      <td>0</td>\n",
       "      <td>0</td>\n",
       "      <td>False</td>\n",
       "      <td>False</td>\n",
       "      <td>False</td>\n",
       "      <td>False</td>\n",
       "      <td>1.125</td>\n",
       "      <td>0</td>\n",
       "    </tr>\n",
       "    <tr>\n",
       "      <th>2</th>\n",
       "      <td>2</td>\n",
       "      <td>0</td>\n",
       "      <td>0</td>\n",
       "      <td>0</td>\n",
       "      <td>0</td>\n",
       "      <td>False</td>\n",
       "      <td>False</td>\n",
       "      <td>False</td>\n",
       "      <td>False</td>\n",
       "      <td>1.125</td>\n",
       "      <td>0</td>\n",
       "    </tr>\n",
       "    <tr>\n",
       "      <th>4</th>\n",
       "      <td>2</td>\n",
       "      <td>0</td>\n",
       "      <td>0</td>\n",
       "      <td>0</td>\n",
       "      <td>0</td>\n",
       "      <td>False</td>\n",
       "      <td>False</td>\n",
       "      <td>False</td>\n",
       "      <td>False</td>\n",
       "      <td>1.125</td>\n",
       "      <td>0</td>\n",
       "    </tr>\n",
       "    <tr>\n",
       "      <th>5</th>\n",
       "      <td>2</td>\n",
       "      <td>0</td>\n",
       "      <td>1</td>\n",
       "      <td>1</td>\n",
       "      <td>0</td>\n",
       "      <td>False</td>\n",
       "      <td>True</td>\n",
       "      <td>True</td>\n",
       "      <td>False</td>\n",
       "      <td>1.125</td>\n",
       "      <td>1</td>\n",
       "    </tr>\n",
       "    <tr>\n",
       "      <th>9</th>\n",
       "      <td>2</td>\n",
       "      <td>0</td>\n",
       "      <td>0</td>\n",
       "      <td>0</td>\n",
       "      <td>0</td>\n",
       "      <td>False</td>\n",
       "      <td>False</td>\n",
       "      <td>False</td>\n",
       "      <td>False</td>\n",
       "      <td>1.125</td>\n",
       "      <td>0</td>\n",
       "    </tr>\n",
       "  </tbody>\n",
       "</table>\n",
       "</div>"
      ],
      "text/plain": [
       "   patient id  # inversions  # terminal inversions  # dicentrics  \\\n",
       "1           2             0                      0             0   \n",
       "2           2             0                      0             0   \n",
       "4           2             0                      0             0   \n",
       "5           2             0                      1             1   \n",
       "9           2             0                      0             0   \n",
       "\n",
       "   # translocations  BOOL # inversions  BOOL # terminal inversions  \\\n",
       "1                 0              False                       False   \n",
       "2                 0              False                       False   \n",
       "4                 0              False                       False   \n",
       "5                 0              False                        True   \n",
       "9                 0              False                       False   \n",
       "\n",
       "   BOOL # dicentrics  BOOL # translocations  4 C mean aberration index  \\\n",
       "1              False                  False                      1.125   \n",
       "2              False                  False                      1.125   \n",
       "4              False                  False                      1.125   \n",
       "5               True                  False                      1.125   \n",
       "9              False                  False                      1.125   \n",
       "\n",
       "   timepoint_2 irrad @ 4 Gy  \n",
       "1                         0  \n",
       "2                         0  \n",
       "4                         0  \n",
       "5                         1  \n",
       "9                         0  "
      ]
     },
     "execution_count": 251,
     "metadata": {},
     "output_type": "execute_result"
    }
   ],
   "source": [
    "cleaned_chr_train.head()"
   ]
  },
  {
   "cell_type": "markdown",
   "metadata": {},
   "source": [
    "## GridSearch for pipeline/model params"
   ]
  },
  {
   "cell_type": "code",
   "execution_count": 79,
   "metadata": {},
   "outputs": [],
   "source": [
    "#XGBoost params for grid search\n",
    "param_grid = {'XGB__max_depth': [5, 10, 20, 30],\n",
    "              'XGB__n_estimators': [100, 200, 500, 1000, 2000],\n",
    "              'XGB__learning_rate': [0.01, 0.05, 0.1, 0.2, 0.3],\n",
    "              'XGB__objective': ['reg:tweedie', 'reg:squarederror']}\n",
    "\n",
    "features = [col for col in cleaned_chr_train.columns if col != 'patient id' and col != '4 C mean aberration index']\n",
    "X_train = cleaned_chr_train[features].copy()\n",
    "y_train = cleaned_chr_train['4 C mean aberration index'].copy()\n",
    "\n",
    "folds = KFold(5, shuffle=True, random_state=0)\n",
    "df_results, best_estimator = trp.grid_search(X_train, y_train, chr_xgb_pipe, param_grid, \n",
    "                                          scoring='neg_mean_absolute_error', cv=folds, n_iter=2)\n",
    "# print(best_estimator)"
   ]
  },
  {
   "cell_type": "markdown",
   "metadata": {},
   "source": [
    "## Cross validation; MAE & R2 score when predicting # of short telomeres post-therapy (4 C)"
   ]
  },
  {
   "cell_type": "code",
   "execution_count": 253,
   "metadata": {},
   "outputs": [
    {
     "name": "stdout",
     "output_type": "stream",
     "text": [
      "MAE per CV fold: \n",
      "[0.18769659 0.13489657 0.2093046  0.21537907 0.2667732 ] \n",
      "\n",
      "MEAN of MAE all folds: 0.2028100073735139\n",
      "STD of MAE all folds: 0.04273663763823255\n",
      "\n",
      "MAE of predict_y_test & y_test: 0.4293386369707093\n",
      "R2 between predict_y_test & y_test: -0.03953512572885409\n"
     ]
    }
   ],
   "source": [
    "# score model by cross validation, 5 folds, on X/y_train data \n",
    "# fit model on train data\n",
    "# w/ model, predict y_test from X_test; score model by MAE/R2 - return model\n",
    "\n",
    "chr_model = XGBRegressor(n_estimators=400, max_depth=15, learning_rate=1,\n",
    "                         objective='reg:tweedie', random_state=0,\n",
    "                         tweedie_variance_power=1)\n",
    "\n",
    "chr_xgb_pipe = Pipeline([('XGB', chr_model)\n",
    "                      ])\n",
    "\n",
    "chr_fit_xgb_model = trp.cv_score_fit_mae_test(train_set=cleaned_chr_train, test_set=cleaned_chr_test,\n",
    "                                              pipe=chr_xgb_pipe, model=chr_model, cv=5, \n",
    "                                              target='4 C mean aberration index',)"
   ]
  },
  {
   "cell_type": "code",
   "execution_count": 23,
   "metadata": {},
   "outputs": [
    {
     "data": {
      "text/html": [
       "<div>\n",
       "<style scoped>\n",
       "    .dataframe tbody tr th:only-of-type {\n",
       "        vertical-align: middle;\n",
       "    }\n",
       "\n",
       "    .dataframe tbody tr th {\n",
       "        vertical-align: top;\n",
       "    }\n",
       "\n",
       "    .dataframe thead th {\n",
       "        text-align: right;\n",
       "    }\n",
       "</style>\n",
       "<table border=\"1\" class=\"dataframe\">\n",
       "  <thead>\n",
       "    <tr style=\"text-align: right;\">\n",
       "      <th></th>\n",
       "      <th>patient id</th>\n",
       "      <th># inversions</th>\n",
       "      <th># terminal inversions</th>\n",
       "      <th># dicentrics</th>\n",
       "      <th>timepoint_2 irrad @ 4 Gy</th>\n",
       "      <th>4 C mean aberration index</th>\n",
       "      <th>predictions</th>\n",
       "    </tr>\n",
       "  </thead>\n",
       "  <tbody>\n",
       "    <tr>\n",
       "      <th>38</th>\n",
       "      <td>9</td>\n",
       "      <td>0</td>\n",
       "      <td>0</td>\n",
       "      <td>0</td>\n",
       "      <td>1</td>\n",
       "      <td>0.733333</td>\n",
       "      <td>0.911669</td>\n",
       "    </tr>\n",
       "    <tr>\n",
       "      <th>47</th>\n",
       "      <td>9</td>\n",
       "      <td>3</td>\n",
       "      <td>0</td>\n",
       "      <td>1</td>\n",
       "      <td>1</td>\n",
       "      <td>0.733333</td>\n",
       "      <td>1.108449</td>\n",
       "    </tr>\n",
       "    <tr>\n",
       "      <th>49</th>\n",
       "      <td>9</td>\n",
       "      <td>0</td>\n",
       "      <td>0</td>\n",
       "      <td>0</td>\n",
       "      <td>0</td>\n",
       "      <td>0.733333</td>\n",
       "      <td>0.915293</td>\n",
       "    </tr>\n",
       "    <tr>\n",
       "      <th>56</th>\n",
       "      <td>9</td>\n",
       "      <td>0</td>\n",
       "      <td>1</td>\n",
       "      <td>1</td>\n",
       "      <td>1</td>\n",
       "      <td>0.733333</td>\n",
       "      <td>0.942422</td>\n",
       "    </tr>\n",
       "    <tr>\n",
       "      <th>93</th>\n",
       "      <td>9</td>\n",
       "      <td>0</td>\n",
       "      <td>0</td>\n",
       "      <td>0</td>\n",
       "      <td>0</td>\n",
       "      <td>0.733333</td>\n",
       "      <td>0.915293</td>\n",
       "    </tr>\n",
       "    <tr>\n",
       "      <th>94</th>\n",
       "      <td>9</td>\n",
       "      <td>0</td>\n",
       "      <td>0</td>\n",
       "      <td>0</td>\n",
       "      <td>0</td>\n",
       "      <td>0.733333</td>\n",
       "      <td>0.915293</td>\n",
       "    </tr>\n",
       "    <tr>\n",
       "      <th>99</th>\n",
       "      <td>9</td>\n",
       "      <td>0</td>\n",
       "      <td>1</td>\n",
       "      <td>0</td>\n",
       "      <td>0</td>\n",
       "      <td>0.733333</td>\n",
       "      <td>0.910713</td>\n",
       "    </tr>\n",
       "    <tr>\n",
       "      <th>101</th>\n",
       "      <td>9</td>\n",
       "      <td>0</td>\n",
       "      <td>0</td>\n",
       "      <td>1</td>\n",
       "      <td>1</td>\n",
       "      <td>0.733333</td>\n",
       "      <td>0.924314</td>\n",
       "    </tr>\n",
       "    <tr>\n",
       "      <th>102</th>\n",
       "      <td>9</td>\n",
       "      <td>0</td>\n",
       "      <td>0</td>\n",
       "      <td>0</td>\n",
       "      <td>0</td>\n",
       "      <td>0.733333</td>\n",
       "      <td>0.915293</td>\n",
       "    </tr>\n",
       "    <tr>\n",
       "      <th>133</th>\n",
       "      <td>9</td>\n",
       "      <td>0</td>\n",
       "      <td>0</td>\n",
       "      <td>0</td>\n",
       "      <td>1</td>\n",
       "      <td>0.733333</td>\n",
       "      <td>0.911669</td>\n",
       "    </tr>\n",
       "    <tr>\n",
       "      <th>140</th>\n",
       "      <td>9</td>\n",
       "      <td>1</td>\n",
       "      <td>0</td>\n",
       "      <td>0</td>\n",
       "      <td>1</td>\n",
       "      <td>0.733333</td>\n",
       "      <td>0.865798</td>\n",
       "    </tr>\n",
       "    <tr>\n",
       "      <th>150</th>\n",
       "      <td>9</td>\n",
       "      <td>0</td>\n",
       "      <td>0</td>\n",
       "      <td>0</td>\n",
       "      <td>0</td>\n",
       "      <td>0.733333</td>\n",
       "      <td>0.915293</td>\n",
       "    </tr>\n",
       "  </tbody>\n",
       "</table>\n",
       "</div>"
      ],
      "text/plain": [
       "     patient id  # inversions  # terminal inversions  # dicentrics  \\\n",
       "38            9             0                      0             0   \n",
       "47            9             3                      0             1   \n",
       "49            9             0                      0             0   \n",
       "56            9             0                      1             1   \n",
       "93            9             0                      0             0   \n",
       "94            9             0                      0             0   \n",
       "99            9             0                      1             0   \n",
       "101           9             0                      0             1   \n",
       "102           9             0                      0             0   \n",
       "133           9             0                      0             0   \n",
       "140           9             1                      0             0   \n",
       "150           9             0                      0             0   \n",
       "\n",
       "     timepoint_2 irrad @ 4 Gy  4 C mean aberration index  predictions  \n",
       "38                          1                   0.733333     0.911669  \n",
       "47                          1                   0.733333     1.108449  \n",
       "49                          0                   0.733333     0.915293  \n",
       "56                          1                   0.733333     0.942422  \n",
       "93                          0                   0.733333     0.915293  \n",
       "94                          0                   0.733333     0.915293  \n",
       "99                          0                   0.733333     0.910713  \n",
       "101                         1                   0.733333     0.924314  \n",
       "102                         0                   0.733333     0.915293  \n",
       "133                         1                   0.733333     0.911669  \n",
       "140                         1                   0.733333     0.865798  \n",
       "150                         0                   0.733333     0.915293  "
      ]
     },
     "execution_count": 23,
     "metadata": {},
     "output_type": "execute_result"
    }
   ],
   "source": [
    "features = ['# inversions', '# terminal inversions', '# dicentrics', 'timepoint_2 irrad @ 4 Gy']\n",
    "predicts = chr_model.predict(chr_test_set[features])\n",
    "combined = pd.concat([chr_test_set, pd.DataFrame({'predictions':predicts})], axis=1)\n",
    "combined[combined['patient id'] == 9]"
   ]
  },
  {
   "cell_type": "code",
   "execution_count": null,
   "metadata": {},
   "outputs": [],
   "source": [
    "# testing = chr_fit_xgb_model.predict(chr_train_set[['# inversions', 'timepoint_2 irrad @ 4 Gy']])\n",
    "# pd.DataFrame(testing)"
   ]
  },
  {
   "cell_type": "code",
   "execution_count": null,
   "metadata": {},
   "outputs": [],
   "source": [
    "q_y_xgb_predict, q_y_true = trp.predict_target_4C_compare_actual(telo_data=quartile_telo_data, test_set=q_test_set, \n",
    "                                                                 model=q_fit_xgb_model, target='4 C # short telos',\n",
    "                                                                 clean_process_pipe=q_clean_process_pipe)"
   ]
  },
  {
   "cell_type": "code",
   "execution_count": null,
   "metadata": {},
   "outputs": [],
   "source": [
    "# plt.figure(figsize=(8,6))\n",
    "# ax = sns.regplot(x=q_y_true, y=q_y_xgb_predict)\n",
    "# ax.set_xlabel('ACTUAL 4C # SHORT TELOS', fontsize=16)\n",
    "# ax.set_ylabel('PREDICTED 4C # SHORT TELOS BY XGB MODEL', fontsize=16)\n",
    "# ax.tick_params(labelsize=14)\n",
    "# plt.savefig('predicting # short telos 3 months post.png')\n",
    "\n",
    "plt.figure(figsize=(8,6))\n",
    "ax = sns.regplot(x=q_y_true, y=q_y_xgb_predict, scatter_kws={'s':200, 'edgecolor':'k'}, )\n",
    "ax.set_xlabel('Actual # short telos post-therapy', fontsize=20)\n",
    "ax.set_ylabel('Predicted # short telos post-therapy', fontsize=20)\n",
    "ax.tick_params(labelsize=14)\n",
    "ax.set_title('Fig. 2', weight='bold', fontsize=20)\n",
    "plt.savefig('predicting # short telos 3 months post.png')"
   ]
  }
 ],
 "metadata": {
  "kernelspec": {
   "display_name": "Python 3",
   "language": "python",
   "name": "python3"
  },
  "language_info": {
   "codemirror_mode": {
    "name": "ipython",
    "version": 3
   },
   "file_extension": ".py",
   "mimetype": "text/x-python",
   "name": "python",
   "nbconvert_exporter": "python",
   "pygments_lexer": "ipython3",
   "version": "3.7.5"
  },
  "toc-autonumbering": true
 },
 "nbformat": 4,
 "nbformat_minor": 2
}
