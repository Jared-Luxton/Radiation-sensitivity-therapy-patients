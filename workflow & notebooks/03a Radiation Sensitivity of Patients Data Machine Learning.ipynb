{
 "cells": [
  {
   "cell_type": "code",
   "execution_count": 438,
   "metadata": {},
   "outputs": [],
   "source": [
    "# tools for handling files\n",
    "import sys\n",
    "import os\n",
    "\n",
    "# pandas/numpy for handling data\n",
    "import pandas as pd\n",
    "import numpy as np\n",
    "\n",
    "# seaborn/matplotlib for graphing\n",
    "import matplotlib.pyplot as plt\n",
    "import seaborn as sns\n",
    "\n",
    "# statistics\n",
    "from statistics import mean \n",
    "import statsmodels.api as sm\n",
    "from statsmodels.formula.api import ols\n",
    "from scipy import stats\n",
    "\n",
    "# for reading individual telomere length data from files\n",
    "from ast import literal_eval\n",
    "\n",
    "# for grabbing individual cells\n",
    "import more_itertools\n",
    "\n",
    "# my module containing functions for handling/visualizing/analyzing telomere length/chr rearrangement data\n",
    "import telomere_methods_rad_patient as trp\n",
    "\n",
    "# machine learning \n",
    "from sklearn.linear_model import LinearRegression\n",
    "from sklearn.model_selection import KFold\n",
    "from sklearn.tree import DecisionTreeRegressor\n",
    "from sklearn.ensemble import RandomForestRegressor\n",
    "from xgboost import XGBRegressor\n",
    "from sklearn.model_selection import train_test_split\n",
    "from sklearn.metrics import mean_absolute_error, auc, accuracy_score, r2_score\n",
    "from sklearn.model_selection import StratifiedShuffleSplit\n",
    "from sklearn.base import BaseEstimator, TransformerMixin\n",
    "from sklearn.compose import ColumnTransformer\n",
    "from sklearn.pipeline import Pipeline\n",
    "from sklearn.preprocessing import OneHotEncoder\n",
    "from sklearn.model_selection import cross_val_score\n",
    "from bayes_opt import BayesianOptimization\n",
    "\n",
    "import warnings\n",
    "warnings.simplefilter(action='ignore', category=FutureWarning)\n",
    "\n",
    "# setting darkgrid style for seaborn figures\n",
    "sns.set_style(style=\"darkgrid\",rc= {'patch.edgecolor': 'black'})"
   ]
  },
  {
   "cell_type": "code",
   "execution_count": 140,
   "metadata": {},
   "outputs": [
    {
     "name": "stdout",
     "output_type": "stream",
     "text": [
      "The autoreload extension is already loaded. To reload it, use:\n",
      "  %reload_ext autoreload\n"
     ]
    }
   ],
   "source": [
    "# incase reloading modules is required\n",
    "import importlib\n",
    "%load_ext autoreload\n",
    "%autoreload \n",
    "\n",
    "import telomere_methods_rad_patient as trp"
   ]
  },
  {
   "cell_type": "markdown",
   "metadata": {
    "toc-hr-collapsed": true
   },
   "source": [
    "# Machine Learning - exploring predictions of mean telomere length post-therapy"
   ]
  },
  {
   "cell_type": "markdown",
   "metadata": {},
   "source": [
    "## Loading/merging data for ML"
   ]
  },
  {
   "cell_type": "code",
   "execution_count": 420,
   "metadata": {},
   "outputs": [],
   "source": [
    "exploded_telos_all_patients_df = pd.read_csv('../compiled patient data csv files/exploded_telos_all_patients_df.csv')\n",
    "all_patients_df = pd.read_csv('../compiled patient data csv files/all_patients_df.csv')"
   ]
  },
  {
   "cell_type": "code",
   "execution_count": 421,
   "metadata": {},
   "outputs": [
    {
     "data": {
      "text/html": [
       "<div>\n",
       "<style scoped>\n",
       "    .dataframe tbody tr th:only-of-type {\n",
       "        vertical-align: middle;\n",
       "    }\n",
       "\n",
       "    .dataframe tbody tr th {\n",
       "        vertical-align: top;\n",
       "    }\n",
       "\n",
       "    .dataframe thead th {\n",
       "        text-align: right;\n",
       "    }\n",
       "</style>\n",
       "<table border=\"1\" class=\"dataframe\">\n",
       "  <thead>\n",
       "    <tr style=\"text-align: right;\">\n",
       "      <th></th>\n",
       "      <th>patient id</th>\n",
       "      <th>timepoint</th>\n",
       "      <th>individual telomeres</th>\n",
       "      <th>4 C telo means</th>\n",
       "    </tr>\n",
       "  </thead>\n",
       "  <tbody>\n",
       "    <tr>\n",
       "      <th>0</th>\n",
       "      <td>1</td>\n",
       "      <td>1 non irrad</td>\n",
       "      <td>92.916201</td>\n",
       "      <td>99.346299</td>\n",
       "    </tr>\n",
       "    <tr>\n",
       "      <th>1</th>\n",
       "      <td>1</td>\n",
       "      <td>2 irrad @ 4 Gy</td>\n",
       "      <td>112.977654</td>\n",
       "      <td>99.346299</td>\n",
       "    </tr>\n",
       "    <tr>\n",
       "      <th>2</th>\n",
       "      <td>1</td>\n",
       "      <td>1 non irrad</td>\n",
       "      <td>65.463687</td>\n",
       "      <td>99.346299</td>\n",
       "    </tr>\n",
       "    <tr>\n",
       "      <th>3</th>\n",
       "      <td>1</td>\n",
       "      <td>2 irrad @ 4 Gy</td>\n",
       "      <td>104.530726</td>\n",
       "      <td>99.346299</td>\n",
       "    </tr>\n",
       "    <tr>\n",
       "      <th>4</th>\n",
       "      <td>1</td>\n",
       "      <td>1 non irrad</td>\n",
       "      <td>61.240223</td>\n",
       "      <td>99.346299</td>\n",
       "    </tr>\n",
       "  </tbody>\n",
       "</table>\n",
       "</div>"
      ],
      "text/plain": [
       "   patient id       timepoint  individual telomeres  4 C telo means\n",
       "0           1     1 non irrad             92.916201       99.346299\n",
       "1           1  2 irrad @ 4 Gy            112.977654       99.346299\n",
       "2           1     1 non irrad             65.463687       99.346299\n",
       "3           1  2 irrad @ 4 Gy            104.530726       99.346299\n",
       "4           1     1 non irrad             61.240223       99.346299"
      ]
     },
     "execution_count": 421,
     "metadata": {},
     "output_type": "execute_result"
    }
   ],
   "source": [
    "# cleaning & combing data; retaining features of interest\n",
    "telo_data = trp.combine_data(exploded_telos=exploded_telos_all_patients_df, \n",
    "                             all_patients_df=all_patients_df)\n",
    "\n",
    "telo_data.head()"
   ]
  },
  {
   "cell_type": "markdown",
   "metadata": {},
   "source": [
    "## Train/test split "
   ]
  },
  {
   "cell_type": "code",
   "execution_count": 475,
   "metadata": {},
   "outputs": [],
   "source": [
    "telo_test = telo_data.copy()\n",
    "# telo_test = telo_test[~telo_test['patient id'].isin([2, 6, 11])]\n",
    "train_set, test_set = train_test_split(telo_test, test_size=0.2, shuffle=True, stratify=telo_test[['patient id',\n",
    "                                                                                                   'timepoint']])"
   ]
  },
  {
   "cell_type": "code",
   "execution_count": 422,
   "metadata": {},
   "outputs": [],
   "source": [
    "# telo_test = telo_data.copy()\n",
    "\n",
    "# y = telo_test[['4 C telo means']]\n",
    "# X = telo_test.drop(['4 C telo means'], axis=1)\n",
    "\n",
    "# X_train, X_test, y_train, y_test = train_test_split(X, y, test_size=0.2, shuffle=True, stratify=X[['patient id', \n",
    "#                                                                                                    'timepoint']])\n",
    "\n",
    "# train_set = pd.concat([X_train, y_train], axis=1).reset_index(drop=True)\n",
    "# test_set = pd.concat([X_test, y_test], axis=1).reset_index(drop=True)"
   ]
  },
  {
   "cell_type": "markdown",
   "metadata": {},
   "source": [
    "## Initializing cleaning/model pipelines"
   ]
  },
  {
   "cell_type": "code",
   "execution_count": 456,
   "metadata": {},
   "outputs": [],
   "source": [
    "clean_process_pipe = Pipeline([('features', trp.make_features(make_log_target=False)), \n",
    "                               ('dummies', trp.make_dummies(drop_first=True)),\n",
    "                               ('cleaner', trp.clean_data(drop_patient_id=True))\n",
    "                              ])"
   ]
  },
  {
   "cell_type": "code",
   "execution_count": 457,
   "metadata": {},
   "outputs": [],
   "source": [
    "model = XGBRegressor(n_estimators=200, max_depth=7, learning_rate=0.2,\n",
    "                     objective ='reg:squarederror', random_state=0)\n",
    "\n",
    "xgb_pipe = Pipeline([('XGB', model)\n",
    "                    ])\n",
    "\n",
    "full_pipe = Pipeline([('clean_process', clean_process_pipe),\n",
    "                      ('model', model)\n",
    "                     ])"
   ]
  },
  {
   "cell_type": "markdown",
   "metadata": {},
   "source": [
    "## Cleaning/modeling data with pipeline"
   ]
  },
  {
   "cell_type": "code",
   "execution_count": 476,
   "metadata": {},
   "outputs": [],
   "source": [
    "train_clean = train_set.copy()\n",
    "test_clean = test_set.copy()\n",
    "\n",
    "train_clean = clean_process_pipe.fit_transform(train_clean)\n",
    "test_clean = clean_process_pipe.fit_transform(test_clean)"
   ]
  },
  {
   "cell_type": "markdown",
   "metadata": {},
   "source": [
    "## Random GridSearch for pipeline/model params"
   ]
  },
  {
   "cell_type": "code",
   "execution_count": null,
   "metadata": {},
   "outputs": [],
   "source": [
    "# #XGBoost params for random grid search\n",
    "# param_grid = {'XGB__max_depth': [3, 7, 9],\n",
    "#               'XGB__learning_rate': [0.05, 0.1]}\n",
    "\n",
    "# X_train = train_clean[['individual telomeres', 'timepoint_1']].copy()\n",
    "# y_train = train_clean['4 C telo means'].copy()\n",
    "\n",
    "# folds = KFold(5, shuffle=True, random_state=0)\n",
    "# df_results, best_estimator = trp.grid_search(X_train, y_train, xgb_pipe, param_grid, \n",
    "#                                           scoring='neg_mean_absolute_error', cv=folds, n_iter=2)\n",
    "# print(best_estimator)"
   ]
  },
  {
   "cell_type": "markdown",
   "metadata": {},
   "source": [
    "## Bayesian Optimization"
   ]
  },
  {
   "cell_type": "code",
   "execution_count": 442,
   "metadata": {},
   "outputs": [],
   "source": [
    "# target = '4 C telo means'\n",
    "# features = [col for col in train_clean if col != target and col != 'patient id']\n",
    "\n",
    "# X_train = train_clean[features].copy()\n",
    "# y_train = train_clean[target].copy()"
   ]
  },
  {
   "cell_type": "code",
   "execution_count": 451,
   "metadata": {},
   "outputs": [],
   "source": [
    "# pbounds = {\n",
    "#     'learning_rate': (0.1, 0.2),\n",
    "#     'n_estimators': (100, 200),\n",
    "#     'max_depth': (3, 30),\n",
    "#     'subsample': (.80, 1.0),  \n",
    "#     'colsample': (1.0, 1.0),  # Change for datasets with lots of features\n",
    "#     'gamma': (0, 1)}\n",
    "\n",
    "# def xgboost_hyper_param(learning_rate, n_estimators, max_depth,\n",
    "#                         subsample, colsample, gamma):\n",
    " \n",
    "#     max_depth = int(max_depth)\n",
    "#     n_estimators = int(n_estimators)\n",
    " \n",
    "#     clf = XGBRegressor(max_depth=max_depth,\n",
    "#                        learning_rate=learning_rate,\n",
    "#                        n_estimators=n_estimators,\n",
    "#                        gamma=gamma, objective='reg:squarederror')\n",
    "    \n",
    "#     return np.mean(cross_val_score(clf, X_train, y_train, cv=5, scoring='neg_mean_absolute_error'))\n",
    " \n",
    "# optimizer = BayesianOptimization(\n",
    "#     f=xgboost_hyper_param,\n",
    "#     pbounds=pbounds,\n",
    "#     random_state=1,)\n",
    "\n",
    "# optimizer.maximize(init_points=10, n_iter=5)"
   ]
  },
  {
   "cell_type": "code",
   "execution_count": 472,
   "metadata": {},
   "outputs": [],
   "source": [
    "# bayesian optimized model\n",
    "bo_model = XGBRegressor(n_estimators=260, max_depth=17, learning_rate=0.25,\n",
    "                       objective ='reg:squarederror', random_state=0, subsample=.9,\n",
    "                       gamma=1.7)"
   ]
  },
  {
   "cell_type": "markdown",
   "metadata": {},
   "source": [
    "## Cross validation; MAE & R2 score - predicting mean telo telo post-therapy (4 C) using individual telos"
   ]
  },
  {
   "cell_type": "code",
   "execution_count": 473,
   "metadata": {},
   "outputs": [
    {
     "name": "stdout",
     "output_type": "stream",
     "text": [
      "MAE per CV fold: \n",
      "[0.24681493 0.28069254 0.27735928 0.24357757 0.26625496] \n",
      "\n",
      "MEAN of MAE all folds: 0.2629398547236823\n",
      "STD of MAE all folds: 0.015290380371862861\n",
      "\n",
      "MAE of predict_y_test & y_test: 0.23205458578746527\n",
      "R2 between predict_y_test & y_test: 0.9875505973324449\n"
     ]
    }
   ],
   "source": [
    "fit_xgb_model = trp.cv_score_fit_mae_test(train_set=train_clean, test_set=test_clean,\n",
    "                                          model=model, cv=5)"
   ]
  },
  {
   "cell_type": "code",
   "execution_count": 477,
   "metadata": {},
   "outputs": [
    {
     "name": "stdout",
     "output_type": "stream",
     "text": [
      "patient 1: ACTUAL 4 C telo means: 99.35 --- PREDICTED 4 C telo means: 99.25\n",
      "patient 2: ACTUAL 4 C telo means: 108.92 --- PREDICTED 4 C telo means: 98.37\n",
      "patient 3: ACTUAL 4 C telo means: 95.67 --- PREDICTED 4 C telo means: 95.65\n",
      "patient 5: ACTUAL 4 C telo means: 97.83 --- PREDICTED 4 C telo means: 97.80\n",
      "patient 6: ACTUAL 4 C telo means: 130.12 --- PREDICTED 4 C telo means: 97.49\n",
      "patient 7: ACTUAL 4 C telo means: 101.40 --- PREDICTED 4 C telo means: 101.27\n",
      "patient 8: ACTUAL 4 C telo means: 106.65 --- PREDICTED 4 C telo means: 106.41\n",
      "patient 9: ACTUAL 4 C telo means: 107.67 --- PREDICTED 4 C telo means: 107.41\n",
      "patient 10: ACTUAL 4 C telo means: 93.35 --- PREDICTED 4 C telo means: 93.47\n",
      "patient 11: ACTUAL 4 C telo means: 108.57 --- PREDICTED 4 C telo means: 96.43\n",
      "patient 12: ACTUAL 4 C telo means: 73.99 --- PREDICTED 4 C telo means: 74.29\n",
      "patient 14: ACTUAL 4 C telo means: 93.28 --- PREDICTED 4 C telo means: 93.31\n",
      "patient 15: ACTUAL 4 C telo means: 90.68 --- PREDICTED 4 C telo means: 90.82\n",
      "patient 16: ACTUAL 4 C telo means: 77.96 --- PREDICTED 4 C telo means: 78.16\n",
      "MAE predicted vs. actual 4 C telo means: 4.063220284255476\n",
      "R2 predicted vs. actual 4 C telo means: 0.4732550117754266\n"
     ]
    }
   ],
   "source": [
    "y_predict_list, y_true_list = trp.predict_target_4C_compare_actual(telo_data=telo_test, test_set=test_set, \n",
    "                                     model=fit_xgb_model, target='4 C telo means',\n",
    "                                     clean_process_pipe=clean_process_pipe)"
   ]
  },
  {
   "cell_type": "code",
   "execution_count": 106,
   "metadata": {},
   "outputs": [
    {
     "data": {
      "text/plain": [
       "Text(0.5, 1.0, 'Fig. 1')"
      ]
     },
     "execution_count": 106,
     "metadata": {},
     "output_type": "execute_result"
    },
    {
     "data": {
      "image/png": "[encoded data removed]",
      "text/plain": [
       "<Figure size 576x576 with 1 Axes>"
      ]
     },
     "metadata": {},
     "output_type": "display_data"
    }
   ],
   "source": [
    "plt.figure(figsize=(8,8))\n",
    "ax = sns.regplot(x=y_true_list, y=y_predict_list, scatter_kws={'s':200, 'edgecolor':'k'}, )\n",
    "ax.set_xlabel('Actual mean telomere lengths post-therapy', fontsize=22)\n",
    "ax.set_ylabel('Predicted mean telomere lengths post-therapy', fontsize=22)\n",
    "ax.tick_params(labelsize=14)\n",
    "ax.set_title('Fig. 1', fontsize=22, weight='bold')\n",
    "# plt.savefig('predicting mean telos 3 months post.png')"
   ]
  },
  {
   "cell_type": "code",
   "execution_count": null,
   "metadata": {},
   "outputs": [],
   "source": [
    "from xgboost import plot_tree\n",
    "\n",
    "plot_tree(fit_xgb_model)"
   ]
  },
  {
   "cell_type": "markdown",
   "metadata": {},
   "source": [
    "## Looking directly at actual test 4 C telo means vs. predicted test 4 C telo means"
   ]
  },
  {
   "cell_type": "code",
   "execution_count": null,
   "metadata": {},
   "outputs": [],
   "source": [
    "test_clean_process_pipe = clean_process_pipe.set_params(cleaner__drop_patient_id=False)\n",
    "\n",
    "test_run = test_set.copy()\n",
    "test_run2 = test_clean_process_pipe.fit_transform(test_run)"
   ]
  },
  {
   "cell_type": "code",
   "execution_count": null,
   "metadata": {},
   "outputs": [],
   "source": [
    "test_run2_pred = fit_xgb_model.predict(test_run2[['individual telomeres', 'timepoint_1']])\n",
    "df_test_run2_pred = pd.DataFrame({'4C telo PREDICTIONS': test_run2_pred})\n",
    "\n",
    "viz = pd.concat([test_run2, df_test_run2_pred], axis=1)\n",
    "viz.corr()"
   ]
  },
  {
   "cell_type": "code",
   "execution_count": null,
   "metadata": {},
   "outputs": [],
   "source": [
    "viz[viz['patient id'] == 5].groupby('patient id').agg('mean')"
   ]
  },
  {
   "cell_type": "markdown",
   "metadata": {},
   "source": [
    "## Testing if model can predict 4C mean telomere length using *means"
   ]
  },
  {
   "cell_type": "code",
   "execution_count": null,
   "metadata": {},
   "outputs": [],
   "source": [
    "all_patients_4C = trp.combine_data(exploded_telos=exploded_telos_all_patients_df,\n",
    "                                   all_patients_df=all_patients_df,\n",
    "                                   prediction_objective='4 C means from telo means')"
   ]
  },
  {
   "cell_type": "code",
   "execution_count": null,
   "metadata": {},
   "outputs": [],
   "source": [
    "ML_mean_telos_pre = clean_process_pipe.set_params(cleaner__drop_patient_id=False).fit_transform(all_patients_4C)\n",
    "ML_mean_telos_clean = ML_mean_telos_pre.copy()\n",
    "\n",
    "# renaming telos means to enable compatability w/ model\n",
    "ML_mean_telos_clean.rename(columns={'telo means':'individual telomeres'}, inplace=True)\n",
    "# dropping to ensure only timepoint/ \"individual telomeres\" are seen by model\n",
    "ML_mean_telos_clean.drop(['patient id', '4 C telo means'], axis=1, inplace=True)"
   ]
  },
  {
   "cell_type": "code",
   "execution_count": null,
   "metadata": {},
   "outputs": [],
   "source": [
    "pred_4C_telos = model.predict(ML_mean_telos_clean)\n",
    "pred_4C_telos = pd.DataFrame({'y PREDICT 4C telos': pred_4C_telos})\n",
    "alpha = pd.concat([ML_mean_telos_pre[['patient id', '4 C telo means']], pred_4C_telos], axis=1)[['patient id', '4 C telo means', 'y PREDICT 4C telos']]\n",
    "alpha.corr()"
   ]
  },
  {
   "cell_type": "code",
   "execution_count": null,
   "metadata": {},
   "outputs": [],
   "source": [
    "plt.figure(figsize=(8,6))\n",
    "ax = sns.regplot(x=alpha['4 C telo means'], y=alpha['y PREDICT 4C telos'])\n",
    "ax.set_xlabel('ACTUAL 4C MEAN TELOS', fontsize=16)\n",
    "ax.set_ylabel('PREDICTED 4C MEAN TELOS BY LINEAR REG.', fontsize=16)\n",
    "ax.tick_params(labelsize=14)"
   ]
  },
  {
   "cell_type": "markdown",
   "metadata": {},
   "source": [
    "## Testing if linear regression can predict 4C mean telos using individual telos"
   ]
  },
  {
   "cell_type": "code",
   "execution_count": 134,
   "metadata": {},
   "outputs": [
    {
     "name": "stdout",
     "output_type": "stream",
     "text": [
      "MAE per CV fold: \n",
      "[9.50646244 9.63597336 9.44524462 9.48229668 9.50325208] \n",
      "\n",
      "MEAN of MAE all folds: 9.514645837533445\n",
      "STD of MAE all folds: 0.0644672770023963\n",
      "\n",
      "MAE of predict_y_test & y_test: 9.511133811589918\n",
      "R2 between predict_y_test & y_test: 0.04561072746690764\n"
     ]
    }
   ],
   "source": [
    "lr_model = LinearRegression(normalize=True)\n",
    "lr_pipe = Pipeline([('lr_model', lr_model)\n",
    "                   ])\n",
    "\n",
    "fit_lr_model = trp.cv_score_fit_mae_test(train_set=train_clean, test_set=test_clean, \n",
    "                                         pipe=lr_pipe, model=lr_model, cv=5)"
   ]
  },
  {
   "cell_type": "code",
   "execution_count": 135,
   "metadata": {},
   "outputs": [
    {
     "ename": "NameError",
     "evalue": "name 'telo_data_qualify' is not defined",
     "output_type": "error",
     "traceback": [
      "\u001b[0;31m---------------------------------------------------------------------------\u001b[0m",
      "\u001b[0;31mNameError\u001b[0m                                 Traceback (most recent call last)",
      "\u001b[0;32m<ipython-input-135-8a113d2fd039>\u001b[0m in \u001b[0;36m<module>\u001b[0;34m\u001b[0m\n\u001b[0;32m----> 1\u001b[0;31m y_lr_predict, y_true = trp.predict_target_4C_compare_actual(telo_data=telo_data_qualify, \n\u001b[0m\u001b[1;32m      2\u001b[0m                                                            train_set=train_clean, test_set=test_clean, model=lr_model)\n",
      "\u001b[0;31mNameError\u001b[0m: name 'telo_data_qualify' is not defined"
     ]
    }
   ],
   "source": [
    "y_lr_predict, y_true = trp.predict_target_4C_compare_actual(telo_data=telo_data_qualify, \n",
    "                                                           train_set=train_clean, test_set=test_clean, model=lr_model)"
   ]
  },
  {
   "cell_type": "code",
   "execution_count": null,
   "metadata": {},
   "outputs": [],
   "source": [
    "plt.figure(figsize=(8,6))\n",
    "ax = sns.regplot(x=y_true, y=y_lr_predict)\n",
    "ax.set_xlabel('ACTUAL 4C MEAN TELOS', fontsize=16)\n",
    "ax.set_ylabel('PREDICTED 4C MEAN TELOS BY LINEAR REG.', fontsize=16)\n",
    "ax.tick_params(labelsize=14)"
   ]
  },
  {
   "cell_type": "code",
   "execution_count": null,
   "metadata": {},
   "outputs": [],
   "source": [
    "sns.lineplot(x='timepoint', y='telo means', hue='patient id', data=all_patients_df[all_patients_df['patient id'].isin([12, 14, 15, 16])])"
   ]
  },
  {
   "cell_type": "code",
   "execution_count": null,
   "metadata": {},
   "outputs": [],
   "source": [
    "sns.lineplot(x='timepoint', y='telo means', hue='patient id', data=all_patients_df[~all_patients_df['patient id'].isin([12, 13, 14, 15, 16])])"
   ]
  },
  {
   "cell_type": "code",
   "execution_count": null,
   "metadata": {},
   "outputs": [],
   "source": [
    "training_MAE = []\n",
    "test_MAE = []\n",
    "max_depth_XGB = [3, 4, 5, 10, 15, 20, 25]\n",
    "\n",
    "X = train_clean[['timepoint_1', 'individual telomeres']]\n",
    "y = train_clean['4 C telo means']\n",
    "\n",
    "X_train, X_val, y_train, y_val = train_test_split(X, y, shuffle=True, random_state=0)\n",
    "\n",
    "X_test = test_clean[['timepoint_1', 'individual telomeres']]\n",
    "y_test = test_clean['4 C telo means']\n",
    "\n",
    "for param in max_depth_XGB:\n",
    "    model = XGBRegressor(max_depth=param, learning_rate=0.1, n_estimators=100, objective='reg:squarederror')\n",
    "    model.fit(X_train, y_train)\n",
    "    \n",
    "    predict_y_val = model.predict(X_val)\n",
    "    training_MAE.append(mean_absolute_error(predict_y_val, y_val))\n",
    "    \n",
    "    predict_y_test = model.predict(X_test)\n",
    "    test_MAE.append(mean_absolute_error(predict_y_test, y_test))"
   ]
  },
  {
   "cell_type": "code",
   "execution_count": null,
   "metadata": {},
   "outputs": [],
   "source": [
    "viz_traintest_MAE = pd.DataFrame({'training_MAE': training_MAE,\n",
    "                                  'test_MAE': test_MAE,\n",
    "                                  'max_depth_XGB': max_depth_XGB})"
   ]
  },
  {
   "cell_type": "code",
   "execution_count": null,
   "metadata": {},
   "outputs": [],
   "source": [
    "viz_traintest_MAE = viz_traintest_MAE.melt(id_vars='max_depth_XGB',\n",
    "                                           value_vars=['training_MAE', 'test_MAE'],\n",
    "                                           var_name='data type',\n",
    "                                           value_name='MAE'\n",
    "                                           )"
   ]
  },
  {
   "cell_type": "code",
   "execution_count": null,
   "metadata": {},
   "outputs": [],
   "source": [
    "sns.lmplot(x='max_depth_XGB', y='MAE', data=viz_traintest_MAE, hue='data type', lowess=True)"
   ]
  },
  {
   "cell_type": "markdown",
   "metadata": {},
   "source": [
    "## Visualization"
   ]
  },
  {
   "cell_type": "code",
   "execution_count": null,
   "metadata": {},
   "outputs": [],
   "source": [
    "# visualize hyperparameters of XGBoost vs model accuracy\n",
    "# visualize training vs. test MAE w/ changes params\n",
    "# visualize fit "
   ]
  },
  {
   "cell_type": "code",
   "execution_count": null,
   "metadata": {},
   "outputs": [],
   "source": [
    "test2 = pd.DataFrame({'predict_y_test': predict_y_test, 'y_test': y_test}).reset_index(drop=True)\n",
    "test2['residuals'] = test2['predict_y_test'] - test2['y_test']\n",
    "test2.head()"
   ]
  },
  {
   "cell_type": "code",
   "execution_count": null,
   "metadata": {},
   "outputs": [],
   "source": [
    "sns.lmplot(x='predict_y_test', y='y_test', data=test2)"
   ]
  },
  {
   "cell_type": "code",
   "execution_count": null,
   "metadata": {},
   "outputs": [],
   "source": [
    "sns.lmplot(x='predict_y_test', y='residuals', data=test2)"
   ]
  },
  {
   "cell_type": "code",
   "execution_count": null,
   "metadata": {},
   "outputs": [],
   "source": [
    "from statsmodels.graphics.gofplots import qqplot\n",
    "qqplot(test2['residuals'])"
   ]
  },
  {
   "cell_type": "code",
   "execution_count": null,
   "metadata": {},
   "outputs": [],
   "source": [
    "sns.jointplot(x='predict_y_test', y='y_test', kind='kde', data=test2)"
   ]
  },
  {
   "cell_type": "markdown",
   "metadata": {
    "toc-hr-collapsed": true
   },
   "source": [
    "# Machine Learning - exploring predictions of #s of short telomeres post-therapy"
   ]
  },
  {
   "cell_type": "markdown",
   "metadata": {},
   "source": [
    "## Loading/merging data for ML"
   ]
  },
  {
   "cell_type": "code",
   "execution_count": 107,
   "metadata": {},
   "outputs": [],
   "source": [
    "exploded_telos_all_patients_df = pd.read_csv('../compiled patient data csv files/exploded_telos_all_patients_df.csv')\n",
    "all_patients_df = pd.read_csv('../compiled patient data csv files/all_patients_df.csv')"
   ]
  },
  {
   "cell_type": "code",
   "execution_count": 108,
   "metadata": {},
   "outputs": [
    {
     "data": {
      "text/html": [
       "<div>\n",
       "<style scoped>\n",
       "    .dataframe tbody tr th:only-of-type {\n",
       "        vertical-align: middle;\n",
       "    }\n",
       "\n",
       "    .dataframe tbody tr th {\n",
       "        vertical-align: top;\n",
       "    }\n",
       "\n",
       "    .dataframe thead th {\n",
       "        text-align: right;\n",
       "    }\n",
       "</style>\n",
       "<table border=\"1\" class=\"dataframe\">\n",
       "  <thead>\n",
       "    <tr style=\"text-align: right;\">\n",
       "      <th></th>\n",
       "      <th>patient id</th>\n",
       "      <th>timepoint</th>\n",
       "      <th>individual telomeres</th>\n",
       "      <th>4 C # short telos</th>\n",
       "    </tr>\n",
       "  </thead>\n",
       "  <tbody>\n",
       "    <tr>\n",
       "      <th>0</th>\n",
       "      <td>1</td>\n",
       "      <td>1 non irrad</td>\n",
       "      <td>92.916201</td>\n",
       "      <td>372.0</td>\n",
       "    </tr>\n",
       "    <tr>\n",
       "      <th>1</th>\n",
       "      <td>1</td>\n",
       "      <td>2 irrad @ 4 Gy</td>\n",
       "      <td>112.977654</td>\n",
       "      <td>372.0</td>\n",
       "    </tr>\n",
       "    <tr>\n",
       "      <th>2</th>\n",
       "      <td>1</td>\n",
       "      <td>1 non irrad</td>\n",
       "      <td>65.463687</td>\n",
       "      <td>372.0</td>\n",
       "    </tr>\n",
       "    <tr>\n",
       "      <th>3</th>\n",
       "      <td>1</td>\n",
       "      <td>2 irrad @ 4 Gy</td>\n",
       "      <td>104.530726</td>\n",
       "      <td>372.0</td>\n",
       "    </tr>\n",
       "    <tr>\n",
       "      <th>4</th>\n",
       "      <td>1</td>\n",
       "      <td>1 non irrad</td>\n",
       "      <td>61.240223</td>\n",
       "      <td>372.0</td>\n",
       "    </tr>\n",
       "  </tbody>\n",
       "</table>\n",
       "</div>"
      ],
      "text/plain": [
       "   patient id       timepoint  individual telomeres  4 C # short telos\n",
       "0           1     1 non irrad             92.916201              372.0\n",
       "1           1  2 irrad @ 4 Gy            112.977654              372.0\n",
       "2           1     1 non irrad             65.463687              372.0\n",
       "3           1  2 irrad @ 4 Gy            104.530726              372.0\n",
       "4           1     1 non irrad             61.240223              372.0"
      ]
     },
     "execution_count": 108,
     "metadata": {},
     "output_type": "execute_result"
    }
   ],
   "source": [
    "# cleaning & combing data; retaining features of interest\n",
    "quartile_telo_data = trp.combine_data(exploded_telos=exploded_telos_all_patients_df, \n",
    "                                      all_patients_df=all_patients_df,\n",
    "                                      prediction_objective='4 C # short telos from individual telos')\n",
    "\n",
    "quartile_telo_data.head()"
   ]
  },
  {
   "cell_type": "markdown",
   "metadata": {},
   "source": [
    "## Train/test split "
   ]
  },
  {
   "cell_type": "code",
   "execution_count": 110,
   "metadata": {},
   "outputs": [],
   "source": [
    "quartile_telo_test = quartile_telo_data.copy()\n",
    "\n",
    "y = quartile_telo_test[['4 C # short telos']]\n",
    "X = quartile_telo_test.drop(['4 C # short telos'], axis=1)\n",
    "\n",
    "X_train, X_test, y_train, y_test = train_test_split(X, y, test_size=0.2, shuffle=True, stratify=y)\n",
    "\n",
    "q_train_set = pd.concat([X_train, y_train], axis=1).reset_index(drop=True)\n",
    "q_test_set = pd.concat([X_test, y_test], axis=1).reset_index(drop=True)"
   ]
  },
  {
   "cell_type": "markdown",
   "metadata": {},
   "source": [
    "## Initializing cleaning/model pipelines"
   ]
  },
  {
   "cell_type": "code",
   "execution_count": 111,
   "metadata": {},
   "outputs": [],
   "source": [
    "q_clean_process_pipe = Pipeline([('features', trp.make_features(make_log_target=False)), \n",
    "                               ('dummies', trp.make_dummies(drop_first=True)),\n",
    "                               ('cleaner', trp.clean_data(drop_patient_id=True))\n",
    "                              ])"
   ]
  },
  {
   "cell_type": "code",
   "execution_count": 112,
   "metadata": {},
   "outputs": [],
   "source": [
    "# initialize XGBoost model & pipeline for hyperparams gridsearch\n",
    "q_model = XGBRegressor(n_estimators=200, max_depth=6, learning_rate=0.2,\n",
    "                       objective='reg:squarederror', random_state=0,)\n",
    "\n",
    "q_xgb_pipe = Pipeline([('XGB', model)\n",
    "                      ])\n",
    "\n",
    "q_full_pipe = Pipeline([('clean_process', clean_process_pipe),\n",
    "                        ('model', model)\n",
    "                       ])"
   ]
  },
  {
   "cell_type": "markdown",
   "metadata": {},
   "source": [
    "## Cleaning/modeling data with pipeline"
   ]
  },
  {
   "cell_type": "code",
   "execution_count": 113,
   "metadata": {},
   "outputs": [],
   "source": [
    "q_train_clean = q_train_set.copy()\n",
    "q_test_clean = q_test_set.copy()\n",
    "\n",
    "q_train_clean = q_clean_process_pipe.fit_transform(q_train_clean)\n",
    "q_test_clean = q_clean_process_pipe.fit_transform(q_test_clean)"
   ]
  },
  {
   "cell_type": "markdown",
   "metadata": {},
   "source": [
    "## Cross validation; MAE & R2 score when predicting # of short telomeres post-therapy (4 C)"
   ]
  },
  {
   "cell_type": "code",
   "execution_count": 114,
   "metadata": {},
   "outputs": [
    {
     "name": "stdout",
     "output_type": "stream",
     "text": [
      "MAE per CV fold: \n",
      "[189.64827466 193.72047161 188.77548284 194.63174634 189.67952202] \n",
      "\n",
      "MEAN of MAE all folds: 191.2910994944365\n",
      "STD of MAE all folds: 2.3952516660404783\n",
      "\n",
      "MAE of predict_y_test & y_test: 232.71273224398217\n",
      "R2 between predict_y_test & y_test: 0.8172831215187366\n"
     ]
    }
   ],
   "source": [
    "# score model by cross validation, 5 folds, on X/y_train data \n",
    "# fit model on train data\n",
    "# w/ model, predict y_test from X_test; score model by MAE/R2 - return model\n",
    "\n",
    "q_fit_xgb_model = trp.cv_score_fit_mae_test(train_set=q_train_clean, test_set=q_test_clean,\n",
    "                                            model=q_model, cv=5, \n",
    "                                            target='4 C # short telos')"
   ]
  },
  {
   "cell_type": "code",
   "execution_count": 115,
   "metadata": {},
   "outputs": [
    {
     "name": "stdout",
     "output_type": "stream",
     "text": [
      "patient 1: ACTUAL 4 C # short telos: 372.00 --- PREDICTED 4 C # short telos: 602.42\n",
      "patient 2: ACTUAL 4 C # short telos: 1182.00 --- PREDICTED 4 C # short telos: 1150.62\n",
      "patient 3: ACTUAL 4 C # short telos: 503.00 --- PREDICTED 4 C # short telos: 645.83\n",
      "patient 5: ACTUAL 4 C # short telos: 521.00 --- PREDICTED 4 C # short telos: 690.93\n",
      "patient 6: ACTUAL 4 C # short telos: 124.00 --- PREDICTED 4 C # short telos: 426.83\n",
      "patient 7: ACTUAL 4 C # short telos: 1666.00 --- PREDICTED 4 C # short telos: 1458.90\n",
      "patient 8: ACTUAL 4 C # short telos: 1298.00 --- PREDICTED 4 C # short telos: 1187.30\n",
      "patient 9: ACTUAL 4 C # short telos: 829.00 --- PREDICTED 4 C # short telos: 885.21\n",
      "patient 10: ACTUAL 4 C # short telos: 2585.00 --- PREDICTED 4 C # short telos: 1925.21\n",
      "patient 11: ACTUAL 4 C # short telos: 1258.00 --- PREDICTED 4 C # short telos: 1172.16\n",
      "patient 12: ACTUAL 4 C # short telos: 2028.00 --- PREDICTED 4 C # short telos: 1629.16\n",
      "patient 14: ACTUAL 4 C # short telos: 222.00 --- PREDICTED 4 C # short telos: 432.57\n",
      "patient 15: ACTUAL 4 C # short telos: 319.00 --- PREDICTED 4 C # short telos: 513.67\n",
      "patient 16: ACTUAL 4 C # short telos: 244.00 --- PREDICTED 4 C # short telos: 399.95\n",
      "MAE predicted vs. actual 4 C # short telos: 211.21976797921317\n",
      "R2 predicted vs. actual 4 C # short telos: 0.8710450339053498\n"
     ]
    }
   ],
   "source": [
    "q_y_xgb_predict, q_y_true = trp.predict_target_4C_compare_actual(telo_data=quartile_telo_data, test_set=q_test_set, \n",
    "                                                                 model=q_fit_xgb_model, target='4 C # short telos',\n",
    "                                                                 clean_process_pipe=q_clean_process_pipe)"
   ]
  },
  {
   "cell_type": "code",
   "execution_count": 116,
   "metadata": {},
   "outputs": [
    {
     "data": {
      "image/png": "[encoded data removed]",
      "text/plain": [
       "<Figure size 576x432 with 1 Axes>"
      ]
     },
     "metadata": {},
     "output_type": "display_data"
    }
   ],
   "source": [
    "# plt.figure(figsize=(8,6))\n",
    "# ax = sns.regplot(x=q_y_true, y=q_y_xgb_predict)\n",
    "# ax.set_xlabel('ACTUAL 4C # SHORT TELOS', fontsize=16)\n",
    "# ax.set_ylabel('PREDICTED 4C # SHORT TELOS BY XGB MODEL', fontsize=16)\n",
    "# ax.tick_params(labelsize=14)\n",
    "# plt.savefig('predicting # short telos 3 months post.png')\n",
    "\n",
    "plt.figure(figsize=(8,6))\n",
    "ax = sns.regplot(x=q_y_true, y=q_y_xgb_predict, scatter_kws={'s':200, 'edgecolor':'k'}, )\n",
    "ax.set_xlabel('Actual # short telos post-therapy', fontsize=20)\n",
    "ax.set_ylabel('Predicted # short telos post-therapy', fontsize=20)\n",
    "ax.tick_params(labelsize=14)\n",
    "ax.set_title('Fig. 2', weight='bold', fontsize=20)\n",
    "plt.savefig('predicting # short telos 3 months post.png')"
   ]
  },
  {
   "cell_type": "markdown",
   "metadata": {
    "toc-hr-collapsed": false
   },
   "source": [
    "# Machine Learning - exploring predictions of chromosome rearrangements"
   ]
  },
  {
   "cell_type": "markdown",
   "metadata": {},
   "source": [
    "## Loading/merging data for ML"
   ]
  },
  {
   "cell_type": "code",
   "execution_count": 396,
   "metadata": {},
   "outputs": [
    {
     "name": "stdout",
     "output_type": "stream",
     "text": [
      "The autoreload extension is already loaded. To reload it, use:\n",
      "  %reload_ext autoreload\n"
     ]
    }
   ],
   "source": [
    "# incase reloading modules is required\n",
    "import importlib\n",
    "%load_ext autoreload\n",
    "%autoreload \n",
    "\n",
    "import telomere_methods_rad_patient as trp"
   ]
  },
  {
   "cell_type": "code",
   "execution_count": 397,
   "metadata": {},
   "outputs": [],
   "source": [
    "all_chr_aberr_df = pd.read_csv('../compiled patient data csv files/all_chr_aberr_df.csv')\n",
    "\n",
    "general_cleaner = Pipeline([('cleaner', trp.general_chr_aberr_cleaner())])\n",
    "cleaned_chr_df = general_cleaner.fit_transform(all_chr_aberr_df)"
   ]
  },
  {
   "cell_type": "markdown",
   "metadata": {},
   "source": [
    "## Train/test split "
   ]
  },
  {
   "cell_type": "code",
   "execution_count": 425,
   "metadata": {},
   "outputs": [],
   "source": [
    "chr_train, chr_test = train_test_split(cleaned_chr_df, test_size=0.2, shuffle=True, \n",
    "                                       stratify=cleaned_chr_df[['patient id', 'timepoint']])"
   ]
  },
  {
   "cell_type": "code",
   "execution_count": 399,
   "metadata": {},
   "outputs": [
    {
     "data": {
      "text/plain": [
       "(504, 10)"
      ]
     },
     "execution_count": 399,
     "metadata": {},
     "output_type": "execute_result"
    }
   ],
   "source": [
    "chr_test.shape"
   ]
  },
  {
   "cell_type": "markdown",
   "metadata": {},
   "source": [
    "## Initializing cleaning/model pipelines"
   ]
  },
  {
   "cell_type": "code",
   "execution_count": 406,
   "metadata": {},
   "outputs": [],
   "source": [
    "features = ['# inversions', \n",
    "            '# terminal inversions', \n",
    "            '# dicentrics', \n",
    "            '# translocations'\n",
    "           ]\n",
    "\n",
    "make_new_features_target = Pipeline([('make features', trp.make_chr_features(combine_inversions=False, \n",
    "                                                                             bool_features=False,\n",
    "                                                                             features=features)),\n",
    "                                     ('make target merge', trp.make_target_merge(target='aberration index',\n",
    "                                                                                 features=features))\n",
    "                                    ])"
   ]
  },
  {
   "cell_type": "code",
   "execution_count": 407,
   "metadata": {},
   "outputs": [],
   "source": [
    "# initialize XGBoost model & pipeline for hyperparams gridsearch\n",
    "chr_model = XGBRegressor(n_estimators=200, max_depth=15, learning_rate=0.1,\n",
    "                         objective='reg:squarederror',\n",
    "                         random_state=0,\n",
    "                        )\n",
    "\n",
    "chr_xgb_pipe = Pipeline([('XGB', chr_model)\n",
    "                      ])\n",
    "\n",
    "chr_full_pipe = Pipeline([('make ftr target', make_new_features_target),\n",
    "                          ('model', chr_model)\n",
    "                         ])"
   ]
  },
  {
   "cell_type": "markdown",
   "metadata": {},
   "source": [
    "## Cleaning/modeling data with pipeline"
   ]
  },
  {
   "cell_type": "code",
   "execution_count": 408,
   "metadata": {},
   "outputs": [],
   "source": [
    "cleaned_chr_train = chr_train.copy()\n",
    "cleaned_chr_test = chr_test.copy()\n",
    "\n",
    "cleaned_chr_train = make_new_features_target.fit_transform(cleaned_chr_train)\n",
    "cleaned_chr_test = make_new_features_target.fit_transform(cleaned_chr_test)"
   ]
  },
  {
   "cell_type": "markdown",
   "metadata": {},
   "source": [
    "## Bayesian Optimization"
   ]
  },
  {
   "cell_type": "code",
   "execution_count": 411,
   "metadata": {},
   "outputs": [],
   "source": [
    "target = '4 C aberration index'\n",
    "features = [col for col in cleaned_chr_train if col != target and col != 'patient id']\n",
    "\n",
    "X_train = cleaned_chr_train[features].copy()\n",
    "y_train = cleaned_chr_train[target].copy()"
   ]
  },
  {
   "cell_type": "code",
   "execution_count": 412,
   "metadata": {},
   "outputs": [
    {
     "name": "stdout",
     "output_type": "stream",
     "text": [
      "|   iter    |  target   | colsample |   gamma   | learni... | max_depth | n_esti... | subsample |\n",
      "-------------------------------------------------------------------------------------------------\n",
      "| \u001b[0m 1       \u001b[0m | \u001b[0m-0.1848  \u001b[0m | \u001b[0m 0.8834  \u001b[0m | \u001b[0m 2.161   \u001b[0m | \u001b[0m 0.1     \u001b[0m | \u001b[0m 11.16   \u001b[0m | \u001b[0m 114.7   \u001b[0m | \u001b[0m 1.0     \u001b[0m |\n",
      "| \u001b[0m 2       \u001b[0m | \u001b[0m-0.1848  \u001b[0m | \u001b[0m 0.8373  \u001b[0m | \u001b[0m 1.037   \u001b[0m | \u001b[0m 0.1794  \u001b[0m | \u001b[0m 17.55   \u001b[0m | \u001b[0m 141.9   \u001b[0m | \u001b[0m 1.0     \u001b[0m |\n",
      "| \u001b[0m 3       \u001b[0m | \u001b[0m-0.1848  \u001b[0m | \u001b[0m 0.8409  \u001b[0m | \u001b[0m 2.634   \u001b[0m | \u001b[0m 0.1055  \u001b[0m | \u001b[0m 21.1    \u001b[0m | \u001b[0m 141.7   \u001b[0m | \u001b[0m 1.0     \u001b[0m |\n",
      "| \u001b[0m 4       \u001b[0m | \u001b[0m-0.1848  \u001b[0m | \u001b[0m 0.8281  \u001b[0m | \u001b[0m 0.5943  \u001b[0m | \u001b[0m 0.2601  \u001b[0m | \u001b[0m 29.14   \u001b[0m | \u001b[0m 131.3   \u001b[0m | \u001b[0m 1.0     \u001b[0m |\n",
      "| \u001b[0m 5       \u001b[0m | \u001b[0m-0.1848  \u001b[0m | \u001b[0m 0.9753  \u001b[0m | \u001b[0m 2.684   \u001b[0m | \u001b[0m 0.117   \u001b[0m | \u001b[0m 4.054   \u001b[0m | \u001b[0m 117.0   \u001b[0m | \u001b[0m 1.0     \u001b[0m |\n",
      "| \u001b[0m 6       \u001b[0m | \u001b[0m-0.1848  \u001b[0m | \u001b[0m 0.8452  \u001b[0m | \u001b[0m 2.428   \u001b[0m | \u001b[0m 0.1496  \u001b[0m | \u001b[0m 3.437   \u001b[0m | \u001b[0m 199.9   \u001b[0m | \u001b[0m 1.0     \u001b[0m |\n"
     ]
    },
    {
     "ename": "KeyboardInterrupt",
     "evalue": "",
     "output_type": "error",
     "traceback": [
      "\u001b[0;31m---------------------------------------------------------------------------\u001b[0m",
      "\u001b[0;31mStopIteration\u001b[0m                             Traceback (most recent call last)",
      "\u001b[0;32m/usr/local/lib/python3.7/site-packages/bayes_opt/bayesian_optimization.py\u001b[0m in \u001b[0;36mmaximize\u001b[0;34m(self, init_points, n_iter, acq, kappa, xi, **gp_params)\u001b[0m\n\u001b[1;32m    168\u001b[0m             \u001b[0;32mtry\u001b[0m\u001b[0;34m:\u001b[0m\u001b[0;34m\u001b[0m\u001b[0;34m\u001b[0m\u001b[0m\n\u001b[0;32m--> 169\u001b[0;31m                 \u001b[0mx_probe\u001b[0m \u001b[0;34m=\u001b[0m \u001b[0mnext\u001b[0m\u001b[0;34m(\u001b[0m\u001b[0mself\u001b[0m\u001b[0;34m.\u001b[0m\u001b[0m_queue\u001b[0m\u001b[0;34m)\u001b[0m\u001b[0;34m\u001b[0m\u001b[0;34m\u001b[0m\u001b[0m\n\u001b[0m\u001b[1;32m    170\u001b[0m             \u001b[0;32mexcept\u001b[0m \u001b[0mStopIteration\u001b[0m\u001b[0;34m:\u001b[0m\u001b[0;34m\u001b[0m\u001b[0;34m\u001b[0m\u001b[0m\n",
      "\u001b[0;32m/usr/local/lib/python3.7/site-packages/bayes_opt/bayesian_optimization.py\u001b[0m in \u001b[0;36m__next__\u001b[0;34m(self)\u001b[0m\n\u001b[1;32m     25\u001b[0m         \u001b[0;32mif\u001b[0m \u001b[0mself\u001b[0m\u001b[0;34m.\u001b[0m\u001b[0mempty\u001b[0m\u001b[0;34m:\u001b[0m\u001b[0;34m\u001b[0m\u001b[0;34m\u001b[0m\u001b[0m\n\u001b[0;32m---> 26\u001b[0;31m             \u001b[0;32mraise\u001b[0m \u001b[0mStopIteration\u001b[0m\u001b[0;34m(\u001b[0m\u001b[0;34m\"Queue is empty, no more objects to retrieve.\"\u001b[0m\u001b[0;34m)\u001b[0m\u001b[0;34m\u001b[0m\u001b[0;34m\u001b[0m\u001b[0m\n\u001b[0m\u001b[1;32m     27\u001b[0m         \u001b[0mobj\u001b[0m \u001b[0;34m=\u001b[0m \u001b[0mself\u001b[0m\u001b[0;34m.\u001b[0m\u001b[0m_queue\u001b[0m\u001b[0;34m[\u001b[0m\u001b[0;36m0\u001b[0m\u001b[0;34m]\u001b[0m\u001b[0;34m\u001b[0m\u001b[0;34m\u001b[0m\u001b[0m\n",
      "\u001b[0;31mStopIteration\u001b[0m: Queue is empty, no more objects to retrieve.",
      "\nDuring handling of the above exception, another exception occurred:\n",
      "\u001b[0;31mKeyboardInterrupt\u001b[0m                         Traceback (most recent call last)",
      "\u001b[0;32m<ipython-input-412-402f2a9c2636>\u001b[0m in \u001b[0;36m<module>\u001b[0;34m\u001b[0m\n\u001b[1;32m     26\u001b[0m     random_state=1,)\n\u001b[1;32m     27\u001b[0m \u001b[0;34m\u001b[0m\u001b[0m\n\u001b[0;32m---> 28\u001b[0;31m \u001b[0moptimizer\u001b[0m\u001b[0;34m.\u001b[0m\u001b[0mmaximize\u001b[0m\u001b[0;34m(\u001b[0m\u001b[0minit_points\u001b[0m\u001b[0;34m=\u001b[0m\u001b[0;36m5\u001b[0m\u001b[0;34m,\u001b[0m \u001b[0mn_iter\u001b[0m\u001b[0;34m=\u001b[0m\u001b[0;36m3\u001b[0m\u001b[0;34m)\u001b[0m\u001b[0;34m\u001b[0m\u001b[0;34m\u001b[0m\u001b[0m\n\u001b[0m",
      "\u001b[0;32m/usr/local/lib/python3.7/site-packages/bayes_opt/bayesian_optimization.py\u001b[0m in \u001b[0;36mmaximize\u001b[0;34m(self, init_points, n_iter, acq, kappa, xi, **gp_params)\u001b[0m\n\u001b[1;32m    169\u001b[0m                 \u001b[0mx_probe\u001b[0m \u001b[0;34m=\u001b[0m \u001b[0mnext\u001b[0m\u001b[0;34m(\u001b[0m\u001b[0mself\u001b[0m\u001b[0;34m.\u001b[0m\u001b[0m_queue\u001b[0m\u001b[0;34m)\u001b[0m\u001b[0;34m\u001b[0m\u001b[0;34m\u001b[0m\u001b[0m\n\u001b[1;32m    170\u001b[0m             \u001b[0;32mexcept\u001b[0m \u001b[0mStopIteration\u001b[0m\u001b[0;34m:\u001b[0m\u001b[0;34m\u001b[0m\u001b[0;34m\u001b[0m\u001b[0m\n\u001b[0;32m--> 171\u001b[0;31m                 \u001b[0mx_probe\u001b[0m \u001b[0;34m=\u001b[0m \u001b[0mself\u001b[0m\u001b[0;34m.\u001b[0m\u001b[0msuggest\u001b[0m\u001b[0;34m(\u001b[0m\u001b[0mutil\u001b[0m\u001b[0;34m)\u001b[0m\u001b[0;34m\u001b[0m\u001b[0;34m\u001b[0m\u001b[0m\n\u001b[0m\u001b[1;32m    172\u001b[0m                 \u001b[0miteration\u001b[0m \u001b[0;34m+=\u001b[0m \u001b[0;36m1\u001b[0m\u001b[0;34m\u001b[0m\u001b[0;34m\u001b[0m\u001b[0m\n\u001b[1;32m    173\u001b[0m \u001b[0;34m\u001b[0m\u001b[0m\n",
      "\u001b[0;32m/usr/local/lib/python3.7/site-packages/bayes_opt/bayesian_optimization.py\u001b[0m in \u001b[0;36msuggest\u001b[0;34m(self, utility_function)\u001b[0m\n\u001b[1;32m    122\u001b[0m         \u001b[0;32mwith\u001b[0m \u001b[0mwarnings\u001b[0m\u001b[0;34m.\u001b[0m\u001b[0mcatch_warnings\u001b[0m\u001b[0;34m(\u001b[0m\u001b[0;34m)\u001b[0m\u001b[0;34m:\u001b[0m\u001b[0;34m\u001b[0m\u001b[0;34m\u001b[0m\u001b[0m\n\u001b[1;32m    123\u001b[0m             \u001b[0mwarnings\u001b[0m\u001b[0;34m.\u001b[0m\u001b[0msimplefilter\u001b[0m\u001b[0;34m(\u001b[0m\u001b[0;34m\"ignore\"\u001b[0m\u001b[0;34m)\u001b[0m\u001b[0;34m\u001b[0m\u001b[0;34m\u001b[0m\u001b[0m\n\u001b[0;32m--> 124\u001b[0;31m             \u001b[0mself\u001b[0m\u001b[0;34m.\u001b[0m\u001b[0m_gp\u001b[0m\u001b[0;34m.\u001b[0m\u001b[0mfit\u001b[0m\u001b[0;34m(\u001b[0m\u001b[0mself\u001b[0m\u001b[0;34m.\u001b[0m\u001b[0m_space\u001b[0m\u001b[0;34m.\u001b[0m\u001b[0mparams\u001b[0m\u001b[0;34m,\u001b[0m \u001b[0mself\u001b[0m\u001b[0;34m.\u001b[0m\u001b[0m_space\u001b[0m\u001b[0;34m.\u001b[0m\u001b[0mtarget\u001b[0m\u001b[0;34m)\u001b[0m\u001b[0;34m\u001b[0m\u001b[0;34m\u001b[0m\u001b[0m\n\u001b[0m\u001b[1;32m    125\u001b[0m \u001b[0;34m\u001b[0m\u001b[0m\n\u001b[1;32m    126\u001b[0m         \u001b[0;31m# Finding argmax of the acquisition function.\u001b[0m\u001b[0;34m\u001b[0m\u001b[0;34m\u001b[0m\u001b[0;34m\u001b[0m\u001b[0m\n",
      "\u001b[0;32m/usr/local/lib/python3.7/site-packages/sklearn/gaussian_process/gpr.py\u001b[0m in \u001b[0;36mfit\u001b[0;34m(self, X, y)\u001b[0m\n\u001b[1;32m    245\u001b[0m                     optima.append(\n\u001b[1;32m    246\u001b[0m                         self._constrained_optimization(obj_func, theta_initial,\n\u001b[0;32m--> 247\u001b[0;31m                                                        bounds))\n\u001b[0m\u001b[1;32m    248\u001b[0m             \u001b[0;31m# Select result from run with minimal (negative) log-marginal\u001b[0m\u001b[0;34m\u001b[0m\u001b[0;34m\u001b[0m\u001b[0;34m\u001b[0m\u001b[0m\n\u001b[1;32m    249\u001b[0m             \u001b[0;31m# likelihood\u001b[0m\u001b[0;34m\u001b[0m\u001b[0;34m\u001b[0m\u001b[0;34m\u001b[0m\u001b[0m\n",
      "\u001b[0;32m/usr/local/lib/python3.7/site-packages/sklearn/gaussian_process/gpr.py\u001b[0m in \u001b[0;36m_constrained_optimization\u001b[0;34m(self, obj_func, initial_theta, bounds)\u001b[0m\n\u001b[1;32m    474\u001b[0m         \u001b[0;32mif\u001b[0m \u001b[0mself\u001b[0m\u001b[0;34m.\u001b[0m\u001b[0moptimizer\u001b[0m \u001b[0;34m==\u001b[0m \u001b[0;34m\"fmin_l_bfgs_b\"\u001b[0m\u001b[0;34m:\u001b[0m\u001b[0;34m\u001b[0m\u001b[0;34m\u001b[0m\u001b[0m\n\u001b[1;32m    475\u001b[0m             \u001b[0mtheta_opt\u001b[0m\u001b[0;34m,\u001b[0m \u001b[0mfunc_min\u001b[0m\u001b[0;34m,\u001b[0m \u001b[0mconvergence_dict\u001b[0m \u001b[0;34m=\u001b[0m\u001b[0;31m \u001b[0m\u001b[0;31m\\\u001b[0m\u001b[0;34m\u001b[0m\u001b[0;34m\u001b[0m\u001b[0m\n\u001b[0;32m--> 476\u001b[0;31m                 \u001b[0mfmin_l_bfgs_b\u001b[0m\u001b[0;34m(\u001b[0m\u001b[0mobj_func\u001b[0m\u001b[0;34m,\u001b[0m \u001b[0minitial_theta\u001b[0m\u001b[0;34m,\u001b[0m \u001b[0mbounds\u001b[0m\u001b[0;34m=\u001b[0m\u001b[0mbounds\u001b[0m\u001b[0;34m)\u001b[0m\u001b[0;34m\u001b[0m\u001b[0;34m\u001b[0m\u001b[0m\n\u001b[0m\u001b[1;32m    477\u001b[0m             \u001b[0;32mif\u001b[0m \u001b[0mconvergence_dict\u001b[0m\u001b[0;34m[\u001b[0m\u001b[0;34m\"warnflag\"\u001b[0m\u001b[0;34m]\u001b[0m \u001b[0;34m!=\u001b[0m \u001b[0;36m0\u001b[0m\u001b[0;34m:\u001b[0m\u001b[0;34m\u001b[0m\u001b[0;34m\u001b[0m\u001b[0m\n\u001b[1;32m    478\u001b[0m                 warnings.warn(\"fmin_l_bfgs_b terminated abnormally with the \"\n",
      "\u001b[0;32m/usr/local/lib/python3.7/site-packages/scipy/optimize/lbfgsb.py\u001b[0m in \u001b[0;36mfmin_l_bfgs_b\u001b[0;34m(func, x0, fprime, args, approx_grad, bounds, m, factr, pgtol, epsilon, iprint, maxfun, maxiter, disp, callback, maxls)\u001b[0m\n\u001b[1;32m    197\u001b[0m \u001b[0;34m\u001b[0m\u001b[0m\n\u001b[1;32m    198\u001b[0m     res = _minimize_lbfgsb(fun, x0, args=args, jac=jac, bounds=bounds,\n\u001b[0;32m--> 199\u001b[0;31m                            **opts)\n\u001b[0m\u001b[1;32m    200\u001b[0m     d = {'grad': res['jac'],\n\u001b[1;32m    201\u001b[0m          \u001b[0;34m'task'\u001b[0m\u001b[0;34m:\u001b[0m \u001b[0mres\u001b[0m\u001b[0;34m[\u001b[0m\u001b[0;34m'message'\u001b[0m\u001b[0;34m]\u001b[0m\u001b[0;34m,\u001b[0m\u001b[0;34m\u001b[0m\u001b[0;34m\u001b[0m\u001b[0m\n",
      "\u001b[0;32m/usr/local/lib/python3.7/site-packages/scipy/optimize/lbfgsb.py\u001b[0m in \u001b[0;36m_minimize_lbfgsb\u001b[0;34m(fun, x0, args, jac, bounds, disp, maxcor, ftol, gtol, eps, maxfun, maxiter, iprint, callback, maxls, **unknown_options)\u001b[0m\n\u001b[1;32m    333\u001b[0m             \u001b[0;31m# until the completion of the current minimization iteration.\u001b[0m\u001b[0;34m\u001b[0m\u001b[0;34m\u001b[0m\u001b[0;34m\u001b[0m\u001b[0m\n\u001b[1;32m    334\u001b[0m             \u001b[0;31m# Overwrite f and g:\u001b[0m\u001b[0;34m\u001b[0m\u001b[0;34m\u001b[0m\u001b[0;34m\u001b[0m\u001b[0m\n\u001b[0;32m--> 335\u001b[0;31m             \u001b[0mf\u001b[0m\u001b[0;34m,\u001b[0m \u001b[0mg\u001b[0m \u001b[0;34m=\u001b[0m \u001b[0mfunc_and_grad\u001b[0m\u001b[0;34m(\u001b[0m\u001b[0mx\u001b[0m\u001b[0;34m)\u001b[0m\u001b[0;34m\u001b[0m\u001b[0;34m\u001b[0m\u001b[0m\n\u001b[0m\u001b[1;32m    336\u001b[0m         \u001b[0;32melif\u001b[0m \u001b[0mtask_str\u001b[0m\u001b[0;34m.\u001b[0m\u001b[0mstartswith\u001b[0m\u001b[0;34m(\u001b[0m\u001b[0;34mb'NEW_X'\u001b[0m\u001b[0;34m)\u001b[0m\u001b[0;34m:\u001b[0m\u001b[0;34m\u001b[0m\u001b[0;34m\u001b[0m\u001b[0m\n\u001b[1;32m    337\u001b[0m             \u001b[0;31m# new iteration\u001b[0m\u001b[0;34m\u001b[0m\u001b[0;34m\u001b[0m\u001b[0;34m\u001b[0m\u001b[0m\n",
      "\u001b[0;32m/usr/local/lib/python3.7/site-packages/scipy/optimize/lbfgsb.py\u001b[0m in \u001b[0;36mfunc_and_grad\u001b[0;34m(x)\u001b[0m\n\u001b[1;32m    283\u001b[0m     \u001b[0;32melse\u001b[0m\u001b[0;34m:\u001b[0m\u001b[0;34m\u001b[0m\u001b[0;34m\u001b[0m\u001b[0m\n\u001b[1;32m    284\u001b[0m         \u001b[0;32mdef\u001b[0m \u001b[0mfunc_and_grad\u001b[0m\u001b[0;34m(\u001b[0m\u001b[0mx\u001b[0m\u001b[0;34m)\u001b[0m\u001b[0;34m:\u001b[0m\u001b[0;34m\u001b[0m\u001b[0;34m\u001b[0m\u001b[0m\n\u001b[0;32m--> 285\u001b[0;31m             \u001b[0mf\u001b[0m \u001b[0;34m=\u001b[0m \u001b[0mfun\u001b[0m\u001b[0;34m(\u001b[0m\u001b[0mx\u001b[0m\u001b[0;34m,\u001b[0m \u001b[0;34m*\u001b[0m\u001b[0margs\u001b[0m\u001b[0;34m)\u001b[0m\u001b[0;34m\u001b[0m\u001b[0;34m\u001b[0m\u001b[0m\n\u001b[0m\u001b[1;32m    286\u001b[0m             \u001b[0mg\u001b[0m \u001b[0;34m=\u001b[0m \u001b[0mjac\u001b[0m\u001b[0;34m(\u001b[0m\u001b[0mx\u001b[0m\u001b[0;34m,\u001b[0m \u001b[0;34m*\u001b[0m\u001b[0margs\u001b[0m\u001b[0;34m)\u001b[0m\u001b[0;34m\u001b[0m\u001b[0;34m\u001b[0m\u001b[0m\n\u001b[1;32m    287\u001b[0m             \u001b[0;32mreturn\u001b[0m \u001b[0mf\u001b[0m\u001b[0;34m,\u001b[0m \u001b[0mg\u001b[0m\u001b[0;34m\u001b[0m\u001b[0;34m\u001b[0m\u001b[0m\n",
      "\u001b[0;32m/usr/local/lib/python3.7/site-packages/scipy/optimize/optimize.py\u001b[0m in \u001b[0;36mfunction_wrapper\u001b[0;34m(*wrapper_args)\u001b[0m\n\u001b[1;32m    298\u001b[0m     \u001b[0;32mdef\u001b[0m \u001b[0mfunction_wrapper\u001b[0m\u001b[0;34m(\u001b[0m\u001b[0;34m*\u001b[0m\u001b[0mwrapper_args\u001b[0m\u001b[0;34m)\u001b[0m\u001b[0;34m:\u001b[0m\u001b[0;34m\u001b[0m\u001b[0;34m\u001b[0m\u001b[0m\n\u001b[1;32m    299\u001b[0m         \u001b[0mncalls\u001b[0m\u001b[0;34m[\u001b[0m\u001b[0;36m0\u001b[0m\u001b[0;34m]\u001b[0m \u001b[0;34m+=\u001b[0m \u001b[0;36m1\u001b[0m\u001b[0;34m\u001b[0m\u001b[0;34m\u001b[0m\u001b[0m\n\u001b[0;32m--> 300\u001b[0;31m         \u001b[0;32mreturn\u001b[0m \u001b[0mfunction\u001b[0m\u001b[0;34m(\u001b[0m\u001b[0;34m*\u001b[0m\u001b[0;34m(\u001b[0m\u001b[0mwrapper_args\u001b[0m \u001b[0;34m+\u001b[0m \u001b[0margs\u001b[0m\u001b[0;34m)\u001b[0m\u001b[0;34m)\u001b[0m\u001b[0;34m\u001b[0m\u001b[0;34m\u001b[0m\u001b[0m\n\u001b[0m\u001b[1;32m    301\u001b[0m \u001b[0;34m\u001b[0m\u001b[0m\n\u001b[1;32m    302\u001b[0m     \u001b[0;32mreturn\u001b[0m \u001b[0mncalls\u001b[0m\u001b[0;34m,\u001b[0m \u001b[0mfunction_wrapper\u001b[0m\u001b[0;34m\u001b[0m\u001b[0;34m\u001b[0m\u001b[0m\n",
      "\u001b[0;32m/usr/local/lib/python3.7/site-packages/scipy/optimize/optimize.py\u001b[0m in \u001b[0;36m__call__\u001b[0;34m(self, x, *args)\u001b[0m\n\u001b[1;32m     61\u001b[0m     \u001b[0;32mdef\u001b[0m \u001b[0m__call__\u001b[0m\u001b[0;34m(\u001b[0m\u001b[0mself\u001b[0m\u001b[0;34m,\u001b[0m \u001b[0mx\u001b[0m\u001b[0;34m,\u001b[0m \u001b[0;34m*\u001b[0m\u001b[0margs\u001b[0m\u001b[0;34m)\u001b[0m\u001b[0;34m:\u001b[0m\u001b[0;34m\u001b[0m\u001b[0;34m\u001b[0m\u001b[0m\n\u001b[1;32m     62\u001b[0m         \u001b[0mself\u001b[0m\u001b[0;34m.\u001b[0m\u001b[0mx\u001b[0m \u001b[0;34m=\u001b[0m \u001b[0mnumpy\u001b[0m\u001b[0;34m.\u001b[0m\u001b[0masarray\u001b[0m\u001b[0;34m(\u001b[0m\u001b[0mx\u001b[0m\u001b[0;34m)\u001b[0m\u001b[0;34m.\u001b[0m\u001b[0mcopy\u001b[0m\u001b[0;34m(\u001b[0m\u001b[0;34m)\u001b[0m\u001b[0;34m\u001b[0m\u001b[0;34m\u001b[0m\u001b[0m\n\u001b[0;32m---> 63\u001b[0;31m         \u001b[0mfg\u001b[0m \u001b[0;34m=\u001b[0m \u001b[0mself\u001b[0m\u001b[0;34m.\u001b[0m\u001b[0mfun\u001b[0m\u001b[0;34m(\u001b[0m\u001b[0mx\u001b[0m\u001b[0;34m,\u001b[0m \u001b[0;34m*\u001b[0m\u001b[0margs\u001b[0m\u001b[0;34m)\u001b[0m\u001b[0;34m\u001b[0m\u001b[0;34m\u001b[0m\u001b[0m\n\u001b[0m\u001b[1;32m     64\u001b[0m         \u001b[0mself\u001b[0m\u001b[0;34m.\u001b[0m\u001b[0mjac\u001b[0m \u001b[0;34m=\u001b[0m \u001b[0mfg\u001b[0m\u001b[0;34m[\u001b[0m\u001b[0;36m1\u001b[0m\u001b[0;34m]\u001b[0m\u001b[0;34m\u001b[0m\u001b[0;34m\u001b[0m\u001b[0m\n\u001b[1;32m     65\u001b[0m         \u001b[0;32mreturn\u001b[0m \u001b[0mfg\u001b[0m\u001b[0;34m[\u001b[0m\u001b[0;36m0\u001b[0m\u001b[0;34m]\u001b[0m\u001b[0;34m\u001b[0m\u001b[0;34m\u001b[0m\u001b[0m\n",
      "\u001b[0;32m/usr/local/lib/python3.7/site-packages/sklearn/gaussian_process/gpr.py\u001b[0m in \u001b[0;36mobj_func\u001b[0;34m(theta, eval_gradient)\u001b[0m\n\u001b[1;32m    222\u001b[0m                 \u001b[0;32mif\u001b[0m \u001b[0meval_gradient\u001b[0m\u001b[0;34m:\u001b[0m\u001b[0;34m\u001b[0m\u001b[0;34m\u001b[0m\u001b[0m\n\u001b[1;32m    223\u001b[0m                     lml, grad = self.log_marginal_likelihood(\n\u001b[0;32m--> 224\u001b[0;31m                         theta, eval_gradient=True)\n\u001b[0m\u001b[1;32m    225\u001b[0m                     \u001b[0;32mreturn\u001b[0m \u001b[0;34m-\u001b[0m\u001b[0mlml\u001b[0m\u001b[0;34m,\u001b[0m \u001b[0;34m-\u001b[0m\u001b[0mgrad\u001b[0m\u001b[0;34m\u001b[0m\u001b[0;34m\u001b[0m\u001b[0m\n\u001b[1;32m    226\u001b[0m                 \u001b[0;32melse\u001b[0m\u001b[0;34m:\u001b[0m\u001b[0;34m\u001b[0m\u001b[0;34m\u001b[0m\u001b[0m\n",
      "\u001b[0;32m/usr/local/lib/python3.7/site-packages/sklearn/gaussian_process/gpr.py\u001b[0m in \u001b[0;36mlog_marginal_likelihood\u001b[0;34m(self, theta, eval_gradient)\u001b[0m\n\u001b[1;32m    432\u001b[0m \u001b[0;34m\u001b[0m\u001b[0m\n\u001b[1;32m    433\u001b[0m         \u001b[0;32mif\u001b[0m \u001b[0meval_gradient\u001b[0m\u001b[0;34m:\u001b[0m\u001b[0;34m\u001b[0m\u001b[0;34m\u001b[0m\u001b[0m\n\u001b[0;32m--> 434\u001b[0;31m             \u001b[0mK\u001b[0m\u001b[0;34m,\u001b[0m \u001b[0mK_gradient\u001b[0m \u001b[0;34m=\u001b[0m \u001b[0mkernel\u001b[0m\u001b[0;34m(\u001b[0m\u001b[0mself\u001b[0m\u001b[0;34m.\u001b[0m\u001b[0mX_train_\u001b[0m\u001b[0;34m,\u001b[0m \u001b[0meval_gradient\u001b[0m\u001b[0;34m=\u001b[0m\u001b[0;32mTrue\u001b[0m\u001b[0;34m)\u001b[0m\u001b[0;34m\u001b[0m\u001b[0;34m\u001b[0m\u001b[0m\n\u001b[0m\u001b[1;32m    435\u001b[0m         \u001b[0;32melse\u001b[0m\u001b[0;34m:\u001b[0m\u001b[0;34m\u001b[0m\u001b[0;34m\u001b[0m\u001b[0m\n\u001b[1;32m    436\u001b[0m             \u001b[0mK\u001b[0m \u001b[0;34m=\u001b[0m \u001b[0mkernel\u001b[0m\u001b[0;34m(\u001b[0m\u001b[0mself\u001b[0m\u001b[0;34m.\u001b[0m\u001b[0mX_train_\u001b[0m\u001b[0;34m)\u001b[0m\u001b[0;34m\u001b[0m\u001b[0;34m\u001b[0m\u001b[0m\n",
      "\u001b[0;32m/usr/local/lib/python3.7/site-packages/sklearn/gaussian_process/kernels.py\u001b[0m in \u001b[0;36m__call__\u001b[0;34m(self, X, Y, eval_gradient)\u001b[0m\n\u001b[1;32m   1329\u001b[0m         \"\"\"\n\u001b[1;32m   1330\u001b[0m         \u001b[0mX\u001b[0m \u001b[0;34m=\u001b[0m \u001b[0mnp\u001b[0m\u001b[0;34m.\u001b[0m\u001b[0matleast_2d\u001b[0m\u001b[0;34m(\u001b[0m\u001b[0mX\u001b[0m\u001b[0;34m)\u001b[0m\u001b[0;34m\u001b[0m\u001b[0;34m\u001b[0m\u001b[0m\n\u001b[0;32m-> 1331\u001b[0;31m         \u001b[0mlength_scale\u001b[0m \u001b[0;34m=\u001b[0m \u001b[0m_check_length_scale\u001b[0m\u001b[0;34m(\u001b[0m\u001b[0mX\u001b[0m\u001b[0;34m,\u001b[0m \u001b[0mself\u001b[0m\u001b[0;34m.\u001b[0m\u001b[0mlength_scale\u001b[0m\u001b[0;34m)\u001b[0m\u001b[0;34m\u001b[0m\u001b[0;34m\u001b[0m\u001b[0m\n\u001b[0m\u001b[1;32m   1332\u001b[0m         \u001b[0;32mif\u001b[0m \u001b[0mY\u001b[0m \u001b[0;32mis\u001b[0m \u001b[0;32mNone\u001b[0m\u001b[0;34m:\u001b[0m\u001b[0;34m\u001b[0m\u001b[0;34m\u001b[0m\u001b[0m\n\u001b[1;32m   1333\u001b[0m             \u001b[0mdists\u001b[0m \u001b[0;34m=\u001b[0m \u001b[0mpdist\u001b[0m\u001b[0;34m(\u001b[0m\u001b[0mX\u001b[0m \u001b[0;34m/\u001b[0m \u001b[0mlength_scale\u001b[0m\u001b[0;34m,\u001b[0m \u001b[0mmetric\u001b[0m\u001b[0;34m=\u001b[0m\u001b[0;34m'euclidean'\u001b[0m\u001b[0;34m)\u001b[0m\u001b[0;34m\u001b[0m\u001b[0;34m\u001b[0m\u001b[0m\n",
      "\u001b[0;32m/usr/local/lib/python3.7/site-packages/sklearn/gaussian_process/kernels.py\u001b[0m in \u001b[0;36m_check_length_scale\u001b[0;34m(X, length_scale)\u001b[0m\n\u001b[1;32m     36\u001b[0m \u001b[0;32mdef\u001b[0m \u001b[0m_check_length_scale\u001b[0m\u001b[0;34m(\u001b[0m\u001b[0mX\u001b[0m\u001b[0;34m,\u001b[0m \u001b[0mlength_scale\u001b[0m\u001b[0;34m)\u001b[0m\u001b[0;34m:\u001b[0m\u001b[0;34m\u001b[0m\u001b[0;34m\u001b[0m\u001b[0m\n\u001b[1;32m     37\u001b[0m     \u001b[0mlength_scale\u001b[0m \u001b[0;34m=\u001b[0m \u001b[0mnp\u001b[0m\u001b[0;34m.\u001b[0m\u001b[0msqueeze\u001b[0m\u001b[0;34m(\u001b[0m\u001b[0mlength_scale\u001b[0m\u001b[0;34m)\u001b[0m\u001b[0;34m.\u001b[0m\u001b[0mastype\u001b[0m\u001b[0;34m(\u001b[0m\u001b[0mfloat\u001b[0m\u001b[0;34m)\u001b[0m\u001b[0;34m\u001b[0m\u001b[0;34m\u001b[0m\u001b[0m\n\u001b[0;32m---> 38\u001b[0;31m     \u001b[0;32mif\u001b[0m \u001b[0mnp\u001b[0m\u001b[0;34m.\u001b[0m\u001b[0mndim\u001b[0m\u001b[0;34m(\u001b[0m\u001b[0mlength_scale\u001b[0m\u001b[0;34m)\u001b[0m \u001b[0;34m>\u001b[0m \u001b[0;36m1\u001b[0m\u001b[0;34m:\u001b[0m\u001b[0;34m\u001b[0m\u001b[0;34m\u001b[0m\u001b[0m\n\u001b[0m\u001b[1;32m     39\u001b[0m         \u001b[0;32mraise\u001b[0m \u001b[0mValueError\u001b[0m\u001b[0;34m(\u001b[0m\u001b[0;34m\"length_scale cannot be of dimension greater than 1\"\u001b[0m\u001b[0;34m)\u001b[0m\u001b[0;34m\u001b[0m\u001b[0;34m\u001b[0m\u001b[0m\n\u001b[1;32m     40\u001b[0m     \u001b[0;32mif\u001b[0m \u001b[0mnp\u001b[0m\u001b[0;34m.\u001b[0m\u001b[0mndim\u001b[0m\u001b[0;34m(\u001b[0m\u001b[0mlength_scale\u001b[0m\u001b[0;34m)\u001b[0m \u001b[0;34m==\u001b[0m \u001b[0;36m1\u001b[0m \u001b[0;32mand\u001b[0m \u001b[0mX\u001b[0m\u001b[0;34m.\u001b[0m\u001b[0mshape\u001b[0m\u001b[0;34m[\u001b[0m\u001b[0;36m1\u001b[0m\u001b[0;34m]\u001b[0m \u001b[0;34m!=\u001b[0m \u001b[0mlength_scale\u001b[0m\u001b[0;34m.\u001b[0m\u001b[0mshape\u001b[0m\u001b[0;34m[\u001b[0m\u001b[0;36m0\u001b[0m\u001b[0;34m]\u001b[0m\u001b[0;34m:\u001b[0m\u001b[0;34m\u001b[0m\u001b[0;34m\u001b[0m\u001b[0m\n",
      "\u001b[0;31mKeyboardInterrupt\u001b[0m: "
     ]
    }
   ],
   "source": [
    "def xgboost_hyper_param(learning_rate, n_estimators, max_depth,\n",
    "                        subsample, colsample, gamma):\n",
    " \n",
    "    max_depth = int(max_depth)\n",
    "    n_estimators = int(n_estimators)\n",
    " \n",
    "    clf = XGBRegressor(max_depth=max_depth,\n",
    "                       learning_rate=learning_rate,\n",
    "                       n_estimators=n_estimators,\n",
    "                       gamma=gamma, objective='reg:tweedie',)\n",
    "    \n",
    "    return np.mean(cross_val_score(clf, X_train, y_train, cv=5, scoring='neg_mean_absolute_error'))\n",
    "\n",
    "pbounds = {\n",
    "    'learning_rate': (0.1, 0.3),\n",
    "    'n_estimators': (100, 200),\n",
    "    'max_depth': (3, 30),\n",
    "    'subsample': (1.0, 1.0),  # Change for big datasets\n",
    "    'colsample': (0.8, 1.0),  # Change for datasets with lots of features\n",
    "    'gamma': (0, 3),\n",
    "    }\n",
    " \n",
    "optimizer = BayesianOptimization(\n",
    "    f=xgboost_hyper_param,\n",
    "    pbounds=pbounds,\n",
    "    random_state=1,)\n",
    "\n",
    "optimizer.maximize(init_points=5, n_iter=3)"
   ]
  },
  {
   "cell_type": "markdown",
   "metadata": {},
   "source": [
    "## Cross validation; MAE & R2 score when predicting # of short telomeres post-therapy (4 C)"
   ]
  },
  {
   "cell_type": "code",
   "execution_count": 413,
   "metadata": {},
   "outputs": [],
   "source": [
    "bo_model = XGBRegressor(n_estimators=100, \n",
    "                        max_depth=3, \n",
    "                        learning_rate=0.29,\n",
    "                        objective='reg:squarederror',\n",
    "                        colsample=.8897,\n",
    "                        gamma=3.185,\n",
    "                        random_state=0,\n",
    "                        )"
   ]
  },
  {
   "cell_type": "code",
   "execution_count": 414,
   "metadata": {},
   "outputs": [
    {
     "name": "stdout",
     "output_type": "stream",
     "text": [
      "MAE per CV fold: \n",
      "[0.11271772 0.17787715 0.24579682 0.20165449 0.18574336] \n",
      "\n",
      "MEAN of MAE all folds: 0.1847579063692502\n",
      "STD of MAE all folds: 0.04301010884903175\n",
      "\n",
      "MAE of predict_y_test & y_test: 0.33418415841602145\n",
      "R2 between predict_y_test & y_test: -0.026981615800344194\n"
     ]
    }
   ],
   "source": [
    "# score model by cross validation, 5 folds, on X/y_train data \n",
    "# fit model on train data\n",
    "# w/ model, predict y_test from X_test; score model by MAE/R2 - return model\n",
    "\n",
    "chr_fit_xgb_model = trp.cv_score_fit_mae_test(train_set=cleaned_chr_train, test_set=cleaned_chr_test,\n",
    "                                              model=bo_model, cv=5, \n",
    "                                              target='4 C aberration index',)"
   ]
  },
  {
   "cell_type": "code",
   "execution_count": 415,
   "metadata": {},
   "outputs": [
    {
     "data": {
      "text/html": [
       "<div>\n",
       "<style scoped>\n",
       "    .dataframe tbody tr th:only-of-type {\n",
       "        vertical-align: middle;\n",
       "    }\n",
       "\n",
       "    .dataframe tbody tr th {\n",
       "        vertical-align: top;\n",
       "    }\n",
       "\n",
       "    .dataframe thead th {\n",
       "        text-align: right;\n",
       "    }\n",
       "</style>\n",
       "<table border=\"1\" class=\"dataframe\">\n",
       "  <thead>\n",
       "    <tr style=\"text-align: right;\">\n",
       "      <th></th>\n",
       "      <th>patient id</th>\n",
       "      <th># inversions</th>\n",
       "      <th># terminal inversions</th>\n",
       "      <th># dicentrics</th>\n",
       "      <th># translocations</th>\n",
       "      <th>4 C aberration index</th>\n",
       "      <th>timepoint_2 irrad @ 4 Gy</th>\n",
       "    </tr>\n",
       "  </thead>\n",
       "  <tbody>\n",
       "    <tr>\n",
       "      <th>0</th>\n",
       "      <td>16</td>\n",
       "      <td>0</td>\n",
       "      <td>0</td>\n",
       "      <td>0</td>\n",
       "      <td>1</td>\n",
       "      <td>1.25</td>\n",
       "      <td>1</td>\n",
       "    </tr>\n",
       "    <tr>\n",
       "      <th>3</th>\n",
       "      <td>16</td>\n",
       "      <td>0</td>\n",
       "      <td>0</td>\n",
       "      <td>0</td>\n",
       "      <td>0</td>\n",
       "      <td>1.25</td>\n",
       "      <td>1</td>\n",
       "    </tr>\n",
       "    <tr>\n",
       "      <th>4</th>\n",
       "      <td>16</td>\n",
       "      <td>2</td>\n",
       "      <td>0</td>\n",
       "      <td>0</td>\n",
       "      <td>0</td>\n",
       "      <td>1.25</td>\n",
       "      <td>0</td>\n",
       "    </tr>\n",
       "    <tr>\n",
       "      <th>5</th>\n",
       "      <td>16</td>\n",
       "      <td>0</td>\n",
       "      <td>0</td>\n",
       "      <td>0</td>\n",
       "      <td>0</td>\n",
       "      <td>1.25</td>\n",
       "      <td>0</td>\n",
       "    </tr>\n",
       "    <tr>\n",
       "      <th>6</th>\n",
       "      <td>16</td>\n",
       "      <td>0</td>\n",
       "      <td>1</td>\n",
       "      <td>0</td>\n",
       "      <td>0</td>\n",
       "      <td>1.25</td>\n",
       "      <td>0</td>\n",
       "    </tr>\n",
       "  </tbody>\n",
       "</table>\n",
       "</div>"
      ],
      "text/plain": [
       "   patient id  # inversions  # terminal inversions  # dicentrics  \\\n",
       "0          16             0                      0             0   \n",
       "3          16             0                      0             0   \n",
       "4          16             2                      0             0   \n",
       "5          16             0                      0             0   \n",
       "6          16             0                      1             0   \n",
       "\n",
       "   # translocations  4 C aberration index  timepoint_2 irrad @ 4 Gy  \n",
       "0                 1                  1.25                         1  \n",
       "3                 0                  1.25                         1  \n",
       "4                 0                  1.25                         0  \n",
       "5                 0                  1.25                         0  \n",
       "6                 0                  1.25                         0  "
      ]
     },
     "execution_count": 415,
     "metadata": {},
     "output_type": "execute_result"
    }
   ],
   "source": [
    "cleaned_chr_test.head()"
   ]
  },
  {
   "cell_type": "code",
   "execution_count": 419,
   "metadata": {},
   "outputs": [
    {
     "data": {
      "text/plain": [
       "['# inversions',\n",
       " '# terminal inversions',\n",
       " '# dicentrics',\n",
       " '# translocations',\n",
       " 'timepoint_2 irrad @ 4 Gy']"
      ]
     },
     "execution_count": 419,
     "metadata": {},
     "output_type": "execute_result"
    }
   ],
   "source": [
    "target = '4 C aberration index'\n",
    "features = [col for col in cleaned_chr_test if col != target and col != 'patient id']\n",
    "features\n",
    "# predicts = chr_fit_xgb_model.predict(cleaned_chr_test[features])\n",
    "# combined = pd.concat([cleaned_chr_test.reset_index(), pd.DataFrame({'predictions':predicts})], axis=1)\n",
    "# predicts"
   ]
  },
  {
   "cell_type": "code",
   "execution_count": 129,
   "metadata": {},
   "outputs": [],
   "source": [
    "# testing = chr_fit_xgb_model.predict(chr_train_set[['# inversions', 'timepoint_2 irrad @ 4 Gy']])\n",
    "# pd.DataFrame(testing)"
   ]
  },
  {
   "cell_type": "code",
   "execution_count": 131,
   "metadata": {},
   "outputs": [],
   "source": [
    "# q_y_xgb_predict, q_y_true = trp.predict_target_4C_compare_actual(telo_data=quartile_telo_data, test_set=q_test_set, \n",
    "#                                                                  model=q_fit_xgb_model, target='4 C # short telos',\n",
    "#                                                                  clean_process_pipe=q_clean_process_pipe)"
   ]
  },
  {
   "cell_type": "code",
   "execution_count": null,
   "metadata": {},
   "outputs": [],
   "source": [
    "# plt.figure(figsize=(8,6))\n",
    "# ax = sns.regplot(x=q_y_true, y=q_y_xgb_predict)\n",
    "# ax.set_xlabel('ACTUAL 4C # SHORT TELOS', fontsize=16)\n",
    "# ax.set_ylabel('PREDICTED 4C # SHORT TELOS BY XGB MODEL', fontsize=16)\n",
    "# ax.tick_params(labelsize=14)\n",
    "# plt.savefig('predicting # short telos 3 months post.png')\n",
    "\n",
    "plt.figure(figsize=(8,6))\n",
    "ax = sns.regplot(x=q_y_true, y=q_y_xgb_predict, scatter_kws={'s':200, 'edgecolor':'k'}, )\n",
    "ax.set_xlabel('Actual # short telos post-therapy', fontsize=20)\n",
    "ax.set_ylabel('Predicted # short telos post-therapy', fontsize=20)\n",
    "ax.tick_params(labelsize=14)\n",
    "ax.set_title('Fig. 2', weight='bold', fontsize=20)\n",
    "plt.savefig('predicting # short telos 3 months post.png')"
   ]
  },
  {
   "cell_type": "markdown",
   "metadata": {},
   "source": [
    "12/9/19\n",
    "\n",
    "CAN SUPPORT VECTOR MACHINE DISTINGUISH MULTIDIMESONIAL CLUSTERED DATA?\n",
    "\n",
    "HOW TO DISTINGUISH MULTI DIMENSIONAL TIME SERIES DATA?"
   ]
  },
  {
   "cell_type": "markdown",
   "metadata": {},
   "source": [
    "# Clustering telomere data"
   ]
  },
  {
   "cell_type": "code",
   "execution_count": 61,
   "metadata": {},
   "outputs": [
    {
     "data": {
      "text/html": [
       "<div>\n",
       "<style scoped>\n",
       "    .dataframe tbody tr th:only-of-type {\n",
       "        vertical-align: middle;\n",
       "    }\n",
       "\n",
       "    .dataframe tbody tr th {\n",
       "        vertical-align: top;\n",
       "    }\n",
       "\n",
       "    .dataframe thead th {\n",
       "        text-align: right;\n",
       "    }\n",
       "</style>\n",
       "<table border=\"1\" class=\"dataframe\">\n",
       "  <thead>\n",
       "    <tr style=\"text-align: right;\">\n",
       "      <th></th>\n",
       "      <th>individual telomeres</th>\n",
       "      <th>4 C telo means</th>\n",
       "      <th>timepoint_1</th>\n",
       "    </tr>\n",
       "  </thead>\n",
       "  <tbody>\n",
       "    <tr>\n",
       "      <th>0</th>\n",
       "      <td>122.219644</td>\n",
       "      <td>101.402469</td>\n",
       "      <td>1</td>\n",
       "    </tr>\n",
       "    <tr>\n",
       "      <th>1</th>\n",
       "      <td>131.103071</td>\n",
       "      <td>93.352253</td>\n",
       "      <td>0</td>\n",
       "    </tr>\n",
       "    <tr>\n",
       "      <th>2</th>\n",
       "      <td>106.899427</td>\n",
       "      <td>93.352253</td>\n",
       "      <td>0</td>\n",
       "    </tr>\n",
       "    <tr>\n",
       "      <th>3</th>\n",
       "      <td>66.021608</td>\n",
       "      <td>90.680352</td>\n",
       "      <td>1</td>\n",
       "    </tr>\n",
       "    <tr>\n",
       "      <th>4</th>\n",
       "      <td>97.916639</td>\n",
       "      <td>106.652869</td>\n",
       "      <td>1</td>\n",
       "    </tr>\n",
       "  </tbody>\n",
       "</table>\n",
       "</div>"
      ],
      "text/plain": [
       "   individual telomeres  4 C telo means  timepoint_1\n",
       "0            122.219644      101.402469            1\n",
       "1            131.103071       93.352253            0\n",
       "2            106.899427       93.352253            0\n",
       "3             66.021608       90.680352            1\n",
       "4             97.916639      106.652869            1"
      ]
     },
     "execution_count": 61,
     "metadata": {},
     "output_type": "execute_result"
    }
   ],
   "source": [
    "train_clean.head()"
   ]
  },
  {
   "cell_type": "code",
   "execution_count": 81,
   "metadata": {},
   "outputs": [
    {
     "data": {
      "image/png": "[encoded data removed]",
      "text/plain": [
       "<Figure size 576x432 with 1 Axes>"
      ]
     },
     "metadata": {},
     "output_type": "display_data"
    }
   ],
   "source": [
    "telos_0 = train_clean[train_clean['timepoint_1'] == 0]['individual telomeres']\n",
    "telos_1 = train_clean[train_clean['timepoint_1'] == 1]['individual telomeres']\n",
    "\n",
    "plt.figure(figsize=(8,6))\n",
    "ax = sns.distplot(telos_0, kde=False, label='0 - non irrad')\n",
    "ax = sns.distplot(telos_1, kde=False, label='1 - irrad @ 4 Gy')\n",
    "plt.legend(fontsize='x-large')\n",
    "ax.tick_params(labelsize=12)\n",
    "ax.set_ylabel('Counts of Individual Telomeres', fontsize=18)\n",
    "ax.set_xlabel('Bins of Individual Telomere Fluorescence (RFI)', fontsize=18)\n",
    "plt.savefig('../graphs/nonrad vs irrad telos.png', dpi=400)"
   ]
  },
  {
   "cell_type": "code",
   "execution_count": null,
   "metadata": {},
   "outputs": [],
   "source": []
  }
 ],
 "metadata": {
  "kernelspec": {
   "display_name": "Python 3",
   "language": "python",
   "name": "python3"
  },
  "language_info": {
   "codemirror_mode": {
    "name": "ipython",
    "version": 3
   },
   "file_extension": ".py",
   "mimetype": "text/x-python",
   "name": "python",
   "nbconvert_exporter": "python",
   "pygments_lexer": "ipython3",
   "version": "3.7.5"
  },
  "toc-autonumbering": true
 },
 "nbformat": 4,
 "nbformat_minor": 2
}
