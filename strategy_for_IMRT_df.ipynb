{
 "cells": [
  {
   "cell_type": "code",
   "execution_count": 78,
   "metadata": {},
   "outputs": [],
   "source": [
    "new_df_test = pd.read_excel('testing_prostate_cancer_dataf.xlsx', sheet_name=0)\n",
    "new_df_test = new_df_test.drop(['metaphase size', 'notes', 'inversion size'], axis=1)"
   ]
  },
  {
   "cell_type": "code",
   "execution_count": 79,
   "metadata": {},
   "outputs": [
    {
     "data": {
      "text/html": [
       "<div>\n",
       "<style scoped>\n",
       "    .dataframe tbody tr th:only-of-type {\n",
       "        vertical-align: middle;\n",
       "    }\n",
       "\n",
       "    .dataframe tbody tr th {\n",
       "        vertical-align: top;\n",
       "    }\n",
       "\n",
       "    .dataframe thead th {\n",
       "        text-align: right;\n",
       "    }\n",
       "</style>\n",
       "<table border=\"1\" class=\"dataframe\">\n",
       "  <thead>\n",
       "    <tr style=\"text-align: right;\">\n",
       "      <th></th>\n",
       "      <th>patient id</th>\n",
       "      <th>timepoint</th>\n",
       "      <th>cell number</th>\n",
       "      <th>chromosome</th>\n",
       "      <th>#  translocations</th>\n",
       "      <th># inversions</th>\n",
       "      <th># terminal inversions</th>\n",
       "      <th># sister chromatid exchanges</th>\n",
       "      <th># satellite associations</th>\n",
       "    </tr>\n",
       "  </thead>\n",
       "  <tbody>\n",
       "    <tr>\n",
       "      <th>0</th>\n",
       "      <td>1</td>\n",
       "      <td>1 non irrad</td>\n",
       "      <td>1</td>\n",
       "      <td>1</td>\n",
       "      <td>0</td>\n",
       "      <td>0</td>\n",
       "      <td>0</td>\n",
       "      <td>0</td>\n",
       "      <td>0</td>\n",
       "    </tr>\n",
       "    <tr>\n",
       "      <th>1</th>\n",
       "      <td>1</td>\n",
       "      <td>1 non irrad</td>\n",
       "      <td>1</td>\n",
       "      <td>2</td>\n",
       "      <td>0</td>\n",
       "      <td>1</td>\n",
       "      <td>0</td>\n",
       "      <td>0</td>\n",
       "      <td>0</td>\n",
       "    </tr>\n",
       "    <tr>\n",
       "      <th>2</th>\n",
       "      <td>1</td>\n",
       "      <td>1 non irrad</td>\n",
       "      <td>1</td>\n",
       "      <td>3</td>\n",
       "      <td>0</td>\n",
       "      <td>0</td>\n",
       "      <td>0</td>\n",
       "      <td>0</td>\n",
       "      <td>0</td>\n",
       "    </tr>\n",
       "    <tr>\n",
       "      <th>3</th>\n",
       "      <td>1</td>\n",
       "      <td>1 non irrad</td>\n",
       "      <td>2</td>\n",
       "      <td>1</td>\n",
       "      <td>0</td>\n",
       "      <td>0</td>\n",
       "      <td>0</td>\n",
       "      <td>0</td>\n",
       "      <td>0</td>\n",
       "    </tr>\n",
       "  </tbody>\n",
       "</table>\n",
       "</div>"
      ],
      "text/plain": [
       "   patient id    timepoint  cell number  chromosome  #  translocations  \\\n",
       "0           1  1 non irrad            1           1                  0   \n",
       "1           1  1 non irrad            1           2                  0   \n",
       "2           1  1 non irrad            1           3                  0   \n",
       "3           1  1 non irrad            2           1                  0   \n",
       "\n",
       "   # inversions  # terminal inversions  # sister chromatid exchanges  \\\n",
       "0             0                      0                             0   \n",
       "1             1                      0                             0   \n",
       "2             0                      0                             0   \n",
       "3             0                      0                             0   \n",
       "\n",
       "   # satellite associations  \n",
       "0                         0  \n",
       "1                         0  \n",
       "2                         0  \n",
       "3                         0  "
      ]
     },
     "execution_count": 79,
     "metadata": {},
     "output_type": "execute_result"
    }
   ],
   "source": [
    "new_df_test.head(4)"
   ]
  },
  {
   "cell_type": "code",
   "execution_count": 58,
   "metadata": {},
   "outputs": [],
   "source": [
    "old_df_test = pd.read_excel('testing_prostate_cancer_dataf.xlsx', sheet_name=1)\n",
    "old_df_test = old_df_test.drop(['metaphase size', 'notes'], axis=1)"
   ]
  },
  {
   "cell_type": "code",
   "execution_count": 59,
   "metadata": {},
   "outputs": [
    {
     "data": {
      "text/html": [
       "<div>\n",
       "<style scoped>\n",
       "    .dataframe tbody tr th:only-of-type {\n",
       "        vertical-align: middle;\n",
       "    }\n",
       "\n",
       "    .dataframe tbody tr th {\n",
       "        vertical-align: top;\n",
       "    }\n",
       "\n",
       "    .dataframe thead th {\n",
       "        text-align: right;\n",
       "    }\n",
       "</style>\n",
       "<table border=\"1\" class=\"dataframe\">\n",
       "  <thead>\n",
       "    <tr style=\"text-align: right;\">\n",
       "      <th></th>\n",
       "      <th>patient id</th>\n",
       "      <th>timepoint</th>\n",
       "      <th>cell number</th>\n",
       "      <th>#  translocations</th>\n",
       "      <th>inversion size</th>\n",
       "      <th># inversions</th>\n",
       "      <th># terminal inversions</th>\n",
       "      <th># sister chromatid exchanges</th>\n",
       "      <th># satellite associations</th>\n",
       "    </tr>\n",
       "  </thead>\n",
       "  <tbody>\n",
       "    <tr>\n",
       "      <th>0</th>\n",
       "      <td>1</td>\n",
       "      <td>1 non irrad</td>\n",
       "      <td>1</td>\n",
       "      <td>0</td>\n",
       "      <td>NaN</td>\n",
       "      <td>0</td>\n",
       "      <td>0</td>\n",
       "      <td>0</td>\n",
       "      <td>0</td>\n",
       "    </tr>\n",
       "    <tr>\n",
       "      <th>1</th>\n",
       "      <td>1</td>\n",
       "      <td>1 non irrad</td>\n",
       "      <td>2</td>\n",
       "      <td>0</td>\n",
       "      <td>NaN</td>\n",
       "      <td>1</td>\n",
       "      <td>0</td>\n",
       "      <td>0</td>\n",
       "      <td>0</td>\n",
       "    </tr>\n",
       "    <tr>\n",
       "      <th>2</th>\n",
       "      <td>1</td>\n",
       "      <td>1 non irrad</td>\n",
       "      <td>3</td>\n",
       "      <td>0</td>\n",
       "      <td>NaN</td>\n",
       "      <td>0</td>\n",
       "      <td>0</td>\n",
       "      <td>0</td>\n",
       "      <td>0</td>\n",
       "    </tr>\n",
       "    <tr>\n",
       "      <th>3</th>\n",
       "      <td>1</td>\n",
       "      <td>1 non irrad</td>\n",
       "      <td>4</td>\n",
       "      <td>0</td>\n",
       "      <td>NaN</td>\n",
       "      <td>1</td>\n",
       "      <td>0</td>\n",
       "      <td>0</td>\n",
       "      <td>0</td>\n",
       "    </tr>\n",
       "  </tbody>\n",
       "</table>\n",
       "</div>"
      ],
      "text/plain": [
       "   patient id    timepoint  cell number  #  translocations  inversion size  \\\n",
       "0           1  1 non irrad            1                  0             NaN   \n",
       "1           1  1 non irrad            2                  0             NaN   \n",
       "2           1  1 non irrad            3                  0             NaN   \n",
       "3           1  1 non irrad            4                  0             NaN   \n",
       "\n",
       "   # inversions  # terminal inversions  # sister chromatid exchanges  \\\n",
       "0             0                      0                             0   \n",
       "1             1                      0                             0   \n",
       "2             0                      0                             0   \n",
       "3             1                      0                             0   \n",
       "\n",
       "   # satellite associations  \n",
       "0                         0  \n",
       "1                         0  \n",
       "2                         0  \n",
       "3                         0  "
      ]
     },
     "execution_count": 59,
     "metadata": {},
     "output_type": "execute_result"
    }
   ],
   "source": [
    "old_df_test.head(4)"
   ]
  },
  {
   "cell_type": "code",
   "execution_count": 43,
   "metadata": {},
   "outputs": [
    {
     "data": {
      "text/plain": [
       "<matplotlib.axes._subplots.AxesSubplot at 0x12ecb9ad0>"
      ]
     },
     "execution_count": 43,
     "metadata": {},
     "output_type": "execute_result"
    },
    {
     "data": {
      "image/png": "[encoded data removed]",
      "text/plain": [
       "<Figure size 432x288 with 1 Axes>"
      ]
     },
     "metadata": {},
     "output_type": "display_data"
    }
   ],
   "source": [
    "sns.boxplot(x='timepoint', y='# inversions', data = old_df_test[old_df_test['patient id'] == 1])"
   ]
  },
  {
   "cell_type": "code",
   "execution_count": 44,
   "metadata": {},
   "outputs": [
    {
     "data": {
      "text/plain": [
       "<matplotlib.axes._subplots.AxesSubplot at 0x132b83e90>"
      ]
     },
     "execution_count": 44,
     "metadata": {},
     "output_type": "execute_result"
    },
    {
     "data": {
      "image/png": "[encoded data removed]",
      "text/plain": [
       "<Figure size 432x288 with 1 Axes>"
      ]
     },
     "metadata": {},
     "output_type": "display_data"
    }
   ],
   "source": [
    "sns.boxplot(x='timepoint', y='# inversions', data = new_df_test[new_df_test['patient id'] == 1])"
   ]
  },
  {
   "cell_type": "code",
   "execution_count": 54,
   "metadata": {},
   "outputs": [
    {
     "data": {
      "text/html": [
       "<div>\n",
       "<style scoped>\n",
       "    .dataframe tbody tr th:only-of-type {\n",
       "        vertical-align: middle;\n",
       "    }\n",
       "\n",
       "    .dataframe tbody tr th {\n",
       "        vertical-align: top;\n",
       "    }\n",
       "\n",
       "    .dataframe thead th {\n",
       "        text-align: right;\n",
       "    }\n",
       "</style>\n",
       "<table border=\"1\" class=\"dataframe\">\n",
       "  <thead>\n",
       "    <tr style=\"text-align: right;\">\n",
       "      <th></th>\n",
       "      <th>patient id</th>\n",
       "      <th>timepoint</th>\n",
       "      <th>cell number</th>\n",
       "      <th>aberration type</th>\n",
       "      <th>count per cell</th>\n",
       "    </tr>\n",
       "  </thead>\n",
       "  <tbody>\n",
       "    <tr>\n",
       "      <th>0</th>\n",
       "      <td>1</td>\n",
       "      <td>1 non irrad</td>\n",
       "      <td>1</td>\n",
       "      <td>#  translocations</td>\n",
       "      <td>0.0</td>\n",
       "    </tr>\n",
       "    <tr>\n",
       "      <th>1</th>\n",
       "      <td>1</td>\n",
       "      <td>1 non irrad</td>\n",
       "      <td>2</td>\n",
       "      <td>#  translocations</td>\n",
       "      <td>0.0</td>\n",
       "    </tr>\n",
       "    <tr>\n",
       "      <th>2</th>\n",
       "      <td>1</td>\n",
       "      <td>1 non irrad</td>\n",
       "      <td>3</td>\n",
       "      <td>#  translocations</td>\n",
       "      <td>0.0</td>\n",
       "    </tr>\n",
       "    <tr>\n",
       "      <th>3</th>\n",
       "      <td>1</td>\n",
       "      <td>1 non irrad</td>\n",
       "      <td>4</td>\n",
       "      <td>#  translocations</td>\n",
       "      <td>0.0</td>\n",
       "    </tr>\n",
       "  </tbody>\n",
       "</table>\n",
       "</div>"
      ],
      "text/plain": [
       "   patient id    timepoint  cell number    aberration type  count per cell\n",
       "0           1  1 non irrad            1  #  translocations             0.0\n",
       "1           1  1 non irrad            2  #  translocations             0.0\n",
       "2           1  1 non irrad            3  #  translocations             0.0\n",
       "3           1  1 non irrad            4  #  translocations             0.0"
      ]
     },
     "execution_count": 54,
     "metadata": {},
     "output_type": "execute_result"
    }
   ],
   "source": [
    "melt_old_df_test = pd.melt(old_df_test,\n",
    "       id_vars=['patient id', 'timepoint', 'cell number'],\n",
    "       var_name='aberration type',\n",
    "       value_name='count per cell')\n",
    "\n",
    "melt_old_df_test.head(4)"
   ]
  },
  {
   "cell_type": "code",
   "execution_count": 115,
   "metadata": {},
   "outputs": [
    {
     "data": {
      "image/png": "[encoded data removed]",
      "text/plain": [
       "<Figure size 914.3x288 with 1 Axes>"
      ]
     },
     "metadata": {},
     "output_type": "display_data"
    }
   ],
   "source": [
    "# print(old_df_test.dtypes, melt_old_df_test.dtypes)\n",
    "\n",
    "ax = sns.set(font_scale=1)\n",
    "ax = sns.set_style(style=\"darkgrid\",rc= {'patch.edgecolor': 'black'})\n",
    "ax = sns.catplot(x='aberration type', y='count per cell', \n",
    "                 hue='patient id', kind='bar', orient='v', \n",
    "                 height=4, aspect=3, data=melt_old_df_test)"
   ]
  },
  {
   "cell_type": "code",
   "execution_count": 80,
   "metadata": {},
   "outputs": [
    {
     "data": {
      "text/plain": [
       "Index(['patient id', 'timepoint', 'cell number', 'chromosome',\n",
       "       '#  translocations', '# inversions', '# terminal inversions',\n",
       "       '# sister chromatid exchanges', '# satellite associations'],\n",
       "      dtype='object')"
      ]
     },
     "execution_count": 80,
     "metadata": {},
     "output_type": "execute_result"
    }
   ],
   "source": [
    "# new_df_test.head(1)\n",
    "new_df_test.columns"
   ]
  },
  {
   "cell_type": "code",
   "execution_count": 81,
   "metadata": {},
   "outputs": [
    {
     "data": {
      "text/html": [
       "<div>\n",
       "<style scoped>\n",
       "    .dataframe tbody tr th:only-of-type {\n",
       "        vertical-align: middle;\n",
       "    }\n",
       "\n",
       "    .dataframe tbody tr th {\n",
       "        vertical-align: top;\n",
       "    }\n",
       "\n",
       "    .dataframe thead th {\n",
       "        text-align: right;\n",
       "    }\n",
       "</style>\n",
       "<table border=\"1\" class=\"dataframe\">\n",
       "  <thead>\n",
       "    <tr style=\"text-align: right;\">\n",
       "      <th></th>\n",
       "      <th>patient id</th>\n",
       "      <th>timepoint</th>\n",
       "      <th>cell number</th>\n",
       "      <th>chromosome</th>\n",
       "      <th>aberration type</th>\n",
       "      <th>count per cell</th>\n",
       "    </tr>\n",
       "  </thead>\n",
       "  <tbody>\n",
       "    <tr>\n",
       "      <th>0</th>\n",
       "      <td>1</td>\n",
       "      <td>1 non irrad</td>\n",
       "      <td>1</td>\n",
       "      <td>1</td>\n",
       "      <td>#  translocations</td>\n",
       "      <td>0</td>\n",
       "    </tr>\n",
       "    <tr>\n",
       "      <th>1</th>\n",
       "      <td>1</td>\n",
       "      <td>1 non irrad</td>\n",
       "      <td>1</td>\n",
       "      <td>2</td>\n",
       "      <td>#  translocations</td>\n",
       "      <td>0</td>\n",
       "    </tr>\n",
       "    <tr>\n",
       "      <th>2</th>\n",
       "      <td>1</td>\n",
       "      <td>1 non irrad</td>\n",
       "      <td>1</td>\n",
       "      <td>3</td>\n",
       "      <td>#  translocations</td>\n",
       "      <td>0</td>\n",
       "    </tr>\n",
       "    <tr>\n",
       "      <th>3</th>\n",
       "      <td>1</td>\n",
       "      <td>1 non irrad</td>\n",
       "      <td>2</td>\n",
       "      <td>1</td>\n",
       "      <td>#  translocations</td>\n",
       "      <td>0</td>\n",
       "    </tr>\n",
       "  </tbody>\n",
       "</table>\n",
       "</div>"
      ],
      "text/plain": [
       "   patient id    timepoint  cell number  chromosome    aberration type  \\\n",
       "0           1  1 non irrad            1           1  #  translocations   \n",
       "1           1  1 non irrad            1           2  #  translocations   \n",
       "2           1  1 non irrad            1           3  #  translocations   \n",
       "3           1  1 non irrad            2           1  #  translocations   \n",
       "\n",
       "   count per cell  \n",
       "0               0  \n",
       "1               0  \n",
       "2               0  \n",
       "3               0  "
      ]
     },
     "execution_count": 81,
     "metadata": {},
     "output_type": "execute_result"
    }
   ],
   "source": [
    "melt_new_df_test = pd.melt(new_df_test,\n",
    "       id_vars=['patient id', 'timepoint', 'cell number', 'chromosome'],\n",
    "       var_name='aberration type',\n",
    "       value_name='count per cell')\n",
    "\n",
    "melt_new_df_test.head(4)"
   ]
  },
  {
   "cell_type": "code",
   "execution_count": 82,
   "metadata": {},
   "outputs": [
    {
     "name": "stdout",
     "output_type": "stream",
     "text": [
      "patient id                       int64\n",
      "timepoint                       object\n",
      "cell number                      int64\n",
      "chromosome                       int64\n",
      "#  translocations                int64\n",
      "# inversions                     int64\n",
      "# terminal inversions            int64\n",
      "# sister chromatid exchanges     int64\n",
      "# satellite associations         int64\n",
      "dtype: object patient id          int64\n",
      "timepoint          object\n",
      "cell number         int64\n",
      "chromosome          int64\n",
      "aberration type    object\n",
      "count per cell      int64\n",
      "dtype: object\n"
     ]
    }
   ],
   "source": [
    "print(new_df_test.dtypes, melt_new_df_test.dtypes)"
   ]
  },
  {
   "cell_type": "code",
   "execution_count": 130,
   "metadata": {},
   "outputs": [
    {
     "data": {
      "text/plain": [
       "Text(0.5, 0.98, 'when parsing data using chromosome as HUE.. data is graphed CORRECTLY')"
      ]
     },
     "execution_count": 130,
     "metadata": {},
     "output_type": "execute_result"
    },
    {
     "data": {
      "image/png": "[encoded data removed]",
      "text/plain": [
       "<Figure size 914.3x288 with 1 Axes>"
      ]
     },
     "metadata": {},
     "output_type": "display_data"
    },
    {
     "data": {
      "image/png": "[encoded data removed]",
      "text/plain": [
       "<Figure size 932.05x576 with 2 Axes>"
      ]
     },
     "metadata": {},
     "output_type": "display_data"
    }
   ],
   "source": [
    "ax = sns.set(font_scale=1)\n",
    "ax = sns.set_style(style=\"darkgrid\",rc= {'patch.edgecolor': 'black'})\n",
    "ax = sns.catplot(x='aberration type', y='count per cell', \n",
    "                 hue='patient id', kind='bar', orient='v', \n",
    "                 height=4, aspect=3, data=melt_new_df_test)\n",
    "plt.title('WRONG IMPLEMENTATION GIVEN THE DATAFRAME STRUCTURE, patient 1 should show 0.5 inv, patient 2 ~.9', fontsize=14)\n",
    "\n",
    "\n",
    "ax1 = sns.set(font_scale=1)\n",
    "ax1 = sns.set_style(style=\"darkgrid\",rc= {'patch.edgecolor': 'black'})\n",
    "ax1 = sns.catplot(x='aberration type', y='count per cell', \n",
    "                 hue='chromosome', kind='bar', orient='v', col='patient id', col_wrap=1,\n",
    "                 height=4, aspect=3, data=melt_new_df_test)\n",
    "g = plt.gcf()\n",
    "g.subplots_adjust(top=0.9)\n",
    "g.suptitle('when parsing data using chromosome as HUE.. data is graphed CORRECTLY', fontsize=16)"
   ]
  },
  {
   "cell_type": "code",
   "execution_count": null,
   "metadata": {},
   "outputs": [],
   "source": [
    "# okay, so they are different - what to do ? if i record each chr.. i need to put zeros to represent stuff not being there\n",
    "# if i put NaNs.. it wont be understood as zeros.. will it? \n",
    "\n",
    "# OH! but if i graph it & break it out by col.. it works great!\n",
    "\n",
    "# its okay to keep the dataframe as is i think.. i may need to devise a way to collapse the\n",
    "# counts of aberrations per chromosome into counts per cell, ala taking 3 rows and adding results into one ,\n",
    "# to plot ...\n",
    "# but what about translocations? they wont fit in the current 'new_df' counting paradigm \n",
    "# oh! i could have two columns for translocations.. intra 1,2,3 & extra 1,2,3\n",
    "# translocations intra 1,2,3 to be graphed with inversions per chromosome ... translocations extra plus intra to be graphed with\n",
    "# all aberrations at once \n",
    "\n",
    "# solution to combining rows, shown graphically below: \n",
    "# new_df_test.groupby(['patient id', 'timepoint', 'cell number'], as_index=False).agg('sum')"
   ]
  },
  {
   "cell_type": "code",
   "execution_count": 99,
   "metadata": {},
   "outputs": [
    {
     "data": {
      "text/html": [
       "<div>\n",
       "<style scoped>\n",
       "    .dataframe tbody tr th:only-of-type {\n",
       "        vertical-align: middle;\n",
       "    }\n",
       "\n",
       "    .dataframe tbody tr th {\n",
       "        vertical-align: top;\n",
       "    }\n",
       "\n",
       "    .dataframe thead th {\n",
       "        text-align: right;\n",
       "    }\n",
       "</style>\n",
       "<table border=\"1\" class=\"dataframe\">\n",
       "  <thead>\n",
       "    <tr style=\"text-align: right;\">\n",
       "      <th></th>\n",
       "      <th>patient id</th>\n",
       "      <th>timepoint</th>\n",
       "      <th>cell number</th>\n",
       "      <th>chromosome</th>\n",
       "      <th>#  translocations</th>\n",
       "      <th># inversions</th>\n",
       "      <th># terminal inversions</th>\n",
       "      <th># sister chromatid exchanges</th>\n",
       "      <th># satellite associations</th>\n",
       "    </tr>\n",
       "  </thead>\n",
       "  <tbody>\n",
       "    <tr>\n",
       "      <th>0</th>\n",
       "      <td>1</td>\n",
       "      <td>1 non irrad</td>\n",
       "      <td>1</td>\n",
       "      <td>1</td>\n",
       "      <td>0</td>\n",
       "      <td>0</td>\n",
       "      <td>0</td>\n",
       "      <td>0</td>\n",
       "      <td>0</td>\n",
       "    </tr>\n",
       "    <tr>\n",
       "      <th>1</th>\n",
       "      <td>1</td>\n",
       "      <td>1 non irrad</td>\n",
       "      <td>1</td>\n",
       "      <td>2</td>\n",
       "      <td>0</td>\n",
       "      <td>1</td>\n",
       "      <td>0</td>\n",
       "      <td>0</td>\n",
       "      <td>0</td>\n",
       "    </tr>\n",
       "    <tr>\n",
       "      <th>2</th>\n",
       "      <td>1</td>\n",
       "      <td>1 non irrad</td>\n",
       "      <td>1</td>\n",
       "      <td>3</td>\n",
       "      <td>0</td>\n",
       "      <td>0</td>\n",
       "      <td>0</td>\n",
       "      <td>0</td>\n",
       "      <td>0</td>\n",
       "    </tr>\n",
       "    <tr>\n",
       "      <th>3</th>\n",
       "      <td>1</td>\n",
       "      <td>1 non irrad</td>\n",
       "      <td>2</td>\n",
       "      <td>1</td>\n",
       "      <td>0</td>\n",
       "      <td>0</td>\n",
       "      <td>0</td>\n",
       "      <td>0</td>\n",
       "      <td>0</td>\n",
       "    </tr>\n",
       "  </tbody>\n",
       "</table>\n",
       "</div>"
      ],
      "text/plain": [
       "   patient id    timepoint  cell number  chromosome  #  translocations  \\\n",
       "0           1  1 non irrad            1           1                  0   \n",
       "1           1  1 non irrad            1           2                  0   \n",
       "2           1  1 non irrad            1           3                  0   \n",
       "3           1  1 non irrad            2           1                  0   \n",
       "\n",
       "   # inversions  # terminal inversions  # sister chromatid exchanges  \\\n",
       "0             0                      0                             0   \n",
       "1             1                      0                             0   \n",
       "2             0                      0                             0   \n",
       "3             0                      0                             0   \n",
       "\n",
       "   # satellite associations  \n",
       "0                         0  \n",
       "1                         0  \n",
       "2                         0  \n",
       "3                         0  "
      ]
     },
     "execution_count": 99,
     "metadata": {},
     "output_type": "execute_result"
    }
   ],
   "source": [
    "new_df_test.head(4)"
   ]
  },
  {
   "cell_type": "code",
   "execution_count": 107,
   "metadata": {},
   "outputs": [
    {
     "data": {
      "text/html": [
       "<div>\n",
       "<style scoped>\n",
       "    .dataframe tbody tr th:only-of-type {\n",
       "        vertical-align: middle;\n",
       "    }\n",
       "\n",
       "    .dataframe tbody tr th {\n",
       "        vertical-align: top;\n",
       "    }\n",
       "\n",
       "    .dataframe thead th {\n",
       "        text-align: right;\n",
       "    }\n",
       "</style>\n",
       "<table border=\"1\" class=\"dataframe\">\n",
       "  <thead>\n",
       "    <tr style=\"text-align: right;\">\n",
       "      <th></th>\n",
       "      <th>patient id</th>\n",
       "      <th>timepoint</th>\n",
       "      <th>cell number</th>\n",
       "      <th>chromosome</th>\n",
       "      <th>#  translocations</th>\n",
       "      <th># inversions</th>\n",
       "      <th># terminal inversions</th>\n",
       "      <th># sister chromatid exchanges</th>\n",
       "      <th># satellite associations</th>\n",
       "    </tr>\n",
       "  </thead>\n",
       "  <tbody>\n",
       "    <tr>\n",
       "      <th>0</th>\n",
       "      <td>1</td>\n",
       "      <td>1 non irrad</td>\n",
       "      <td>1</td>\n",
       "      <td>1</td>\n",
       "      <td>0</td>\n",
       "      <td>0</td>\n",
       "      <td>0</td>\n",
       "      <td>0</td>\n",
       "      <td>0</td>\n",
       "    </tr>\n",
       "    <tr>\n",
       "      <th>1</th>\n",
       "      <td>1</td>\n",
       "      <td>1 non irrad</td>\n",
       "      <td>1</td>\n",
       "      <td>2</td>\n",
       "      <td>0</td>\n",
       "      <td>1</td>\n",
       "      <td>0</td>\n",
       "      <td>0</td>\n",
       "      <td>0</td>\n",
       "    </tr>\n",
       "    <tr>\n",
       "      <th>2</th>\n",
       "      <td>1</td>\n",
       "      <td>1 non irrad</td>\n",
       "      <td>1</td>\n",
       "      <td>3</td>\n",
       "      <td>0</td>\n",
       "      <td>0</td>\n",
       "      <td>0</td>\n",
       "      <td>0</td>\n",
       "      <td>0</td>\n",
       "    </tr>\n",
       "    <tr>\n",
       "      <th>3</th>\n",
       "      <td>1</td>\n",
       "      <td>1 non irrad</td>\n",
       "      <td>2</td>\n",
       "      <td>1</td>\n",
       "      <td>0</td>\n",
       "      <td>0</td>\n",
       "      <td>0</td>\n",
       "      <td>0</td>\n",
       "      <td>0</td>\n",
       "    </tr>\n",
       "  </tbody>\n",
       "</table>\n",
       "</div>"
      ],
      "text/plain": [
       "   patient id    timepoint  cell number  chromosome  #  translocations  \\\n",
       "0           1  1 non irrad            1           1                  0   \n",
       "1           1  1 non irrad            1           2                  0   \n",
       "2           1  1 non irrad            1           3                  0   \n",
       "3           1  1 non irrad            2           1                  0   \n",
       "\n",
       "   # inversions  # terminal inversions  # sister chromatid exchanges  \\\n",
       "0             0                      0                             0   \n",
       "1             1                      0                             0   \n",
       "2             0                      0                             0   \n",
       "3             0                      0                             0   \n",
       "\n",
       "   # satellite associations  \n",
       "0                         0  \n",
       "1                         0  \n",
       "2                         0  \n",
       "3                         0  "
      ]
     },
     "execution_count": 107,
     "metadata": {},
     "output_type": "execute_result"
    }
   ],
   "source": [
    "test_grp = new_df_test.groupby('patient id')\n",
    "test_grp_1 = test_grp.get_group(1)\n",
    "test_grp_1.head(4)"
   ]
  },
  {
   "cell_type": "code",
   "execution_count": 110,
   "metadata": {},
   "outputs": [],
   "source": [
    "test_grp2 = new_df_test.groupby('patient id')['cell number']\n",
    "test_grp_2 = test_grp.get_group(1)\n",
    "# test_grp_2"
   ]
  },
  {
   "cell_type": "code",
   "execution_count": 132,
   "metadata": {},
   "outputs": [
    {
     "data": {
      "text/html": [
       "<div>\n",
       "<style scoped>\n",
       "    .dataframe tbody tr th:only-of-type {\n",
       "        vertical-align: middle;\n",
       "    }\n",
       "\n",
       "    .dataframe tbody tr th {\n",
       "        vertical-align: top;\n",
       "    }\n",
       "\n",
       "    .dataframe thead th {\n",
       "        text-align: right;\n",
       "    }\n",
       "</style>\n",
       "<table border=\"1\" class=\"dataframe\">\n",
       "  <thead>\n",
       "    <tr style=\"text-align: right;\">\n",
       "      <th></th>\n",
       "      <th>patient id</th>\n",
       "      <th>timepoint</th>\n",
       "      <th>cell number</th>\n",
       "      <th>chromosome</th>\n",
       "      <th>#  translocations</th>\n",
       "      <th># inversions</th>\n",
       "      <th># terminal inversions</th>\n",
       "      <th># sister chromatid exchanges</th>\n",
       "      <th># satellite associations</th>\n",
       "    </tr>\n",
       "  </thead>\n",
       "  <tbody>\n",
       "    <tr>\n",
       "      <th>0</th>\n",
       "      <td>1</td>\n",
       "      <td>1 non irrad</td>\n",
       "      <td>1</td>\n",
       "      <td>6</td>\n",
       "      <td>0</td>\n",
       "      <td>1</td>\n",
       "      <td>0</td>\n",
       "      <td>0</td>\n",
       "      <td>0</td>\n",
       "    </tr>\n",
       "    <tr>\n",
       "      <th>1</th>\n",
       "      <td>1</td>\n",
       "      <td>1 non irrad</td>\n",
       "      <td>2</td>\n",
       "      <td>6</td>\n",
       "      <td>0</td>\n",
       "      <td>1</td>\n",
       "      <td>0</td>\n",
       "      <td>0</td>\n",
       "      <td>0</td>\n",
       "    </tr>\n",
       "    <tr>\n",
       "      <th>2</th>\n",
       "      <td>1</td>\n",
       "      <td>1 non irrad</td>\n",
       "      <td>3</td>\n",
       "      <td>6</td>\n",
       "      <td>0</td>\n",
       "      <td>1</td>\n",
       "      <td>0</td>\n",
       "      <td>0</td>\n",
       "      <td>0</td>\n",
       "    </tr>\n",
       "    <tr>\n",
       "      <th>3</th>\n",
       "      <td>1</td>\n",
       "      <td>1 non irrad</td>\n",
       "      <td>4</td>\n",
       "      <td>6</td>\n",
       "      <td>0</td>\n",
       "      <td>1</td>\n",
       "      <td>0</td>\n",
       "      <td>0</td>\n",
       "      <td>0</td>\n",
       "    </tr>\n",
       "  </tbody>\n",
       "</table>\n",
       "</div>"
      ],
      "text/plain": [
       "   patient id    timepoint  cell number  chromosome  #  translocations  \\\n",
       "0           1  1 non irrad            1           6                  0   \n",
       "1           1  1 non irrad            2           6                  0   \n",
       "2           1  1 non irrad            3           6                  0   \n",
       "3           1  1 non irrad            4           6                  0   \n",
       "\n",
       "   # inversions  # terminal inversions  # sister chromatid exchanges  \\\n",
       "0             1                      0                             0   \n",
       "1             1                      0                             0   \n",
       "2             1                      0                             0   \n",
       "3             1                      0                             0   \n",
       "\n",
       "   # satellite associations  \n",
       "0                         0  \n",
       "1                         0  \n",
       "2                         0  \n",
       "3                         0  "
      ]
     },
     "execution_count": 132,
     "metadata": {},
     "output_type": "execute_result"
    }
   ],
   "source": [
    "# here is how ill combine my data !!!!\n",
    "# nice, problem solved \n",
    "# data should be combined prior to analyzing translocations extra 1,2,3\n",
    "\n",
    "test_grp3 = new_df_test.groupby(['patient id', 'timepoint', 'cell number'], as_index=False).agg('sum')\n",
    "test_grp3.head(4)"
   ]
  },
  {
   "cell_type": "code",
   "execution_count": 118,
   "metadata": {},
   "outputs": [],
   "source": [
    "melt_test_grp3 = pd.melt(test_grp3,\n",
    "       id_vars=['patient id', 'timepoint', 'cell number', 'chromosome'],\n",
    "       var_name='aberration type',\n",
    "       value_name='count per cell')"
   ]
  },
  {
   "cell_type": "code",
   "execution_count": 119,
   "metadata": {},
   "outputs": [
    {
     "data": {
      "image/png": "[encoded data removed]",
      "text/plain": [
       "<Figure size 914.3x288 with 1 Axes>"
      ]
     },
     "metadata": {},
     "output_type": "display_data"
    }
   ],
   "source": [
    "ax = sns.set(font_scale=1)\n",
    "ax = sns.set_style(style=\"darkgrid\",rc= {'patch.edgecolor': 'black'})\n",
    "ax = sns.catplot(x='aberration type', y='count per cell', \n",
    "                 hue='patient id', kind='bar', orient='v', \n",
    "                 height=4, aspect=3, data=melt_test_grp3)"
   ]
  },
  {
   "cell_type": "code",
   "execution_count": 116,
   "metadata": {},
   "outputs": [
    {
     "data": {
      "image/png": "[encoded data removed]",
      "text/plain": [
       "<Figure size 914.3x288 with 1 Axes>"
      ]
     },
     "metadata": {},
     "output_type": "display_data"
    }
   ],
   "source": [
    "ax = sns.set(font_scale=1)\n",
    "ax = sns.set_style(style=\"darkgrid\",rc= {'patch.edgecolor': 'black'})\n",
    "ax = sns.catplot(x='aberration type', y='count per cell', \n",
    "                 hue='patient id', kind='bar', orient='v', \n",
    "                 height=4, aspect=3, data=melt_old_df_test)"
   ]
  },
  {
   "cell_type": "code",
   "execution_count": null,
   "metadata": {},
   "outputs": [],
   "source": [
    "# to analyze data per chromosome, drop translocations extra, melt & plot using chromosome as the hue\n",
    "\n",
    "# to analyze data per cell, add translocations extra to intra, ala:  \n",
    "# df['translocations total'] = df['translocations extra'] + df['translocations intra'] \n",
    "# drop translocations extra/intra & chromosome, \n",
    "\n",
    "# then merge rows per cell using groupby + :\n",
    "# merging_rows.groupby(['patient id', 'timepoint', 'cell number'], as_index=False).agg('sum')\n",
    "# this process yields a dataframe functionally equivalent to that used for the astros!"
   ]
  }
 ],
 "metadata": {
  "kernelspec": {
   "display_name": "Python 3",
   "language": "python",
   "name": "python3"
  },
  "language_info": {
   "codemirror_mode": {
    "name": "ipython",
    "version": 3
   },
   "file_extension": ".py",
   "mimetype": "text/x-python",
   "name": "python",
   "nbconvert_exporter": "python",
   "pygments_lexer": "ipython3",
   "version": "3.7.4"
  }
 },
 "nbformat": 4,
 "nbformat_minor": 2
}
