{
 "cells": [
  {
   "cell_type": "code",
   "execution_count": 103,
   "metadata": {},
   "outputs": [],
   "source": [
    "# handling data\n",
    "import pandas as pd\n",
    "import numpy as np\n",
    "\n",
    "# visualizing data\n",
    "import seaborn as sns \n",
    "import matplotlib.pyplot as plt"
   ]
  },
  {
   "cell_type": "code",
   "execution_count": 7,
   "metadata": {},
   "outputs": [],
   "source": [
    "# pwd"
   ]
  },
  {
   "cell_type": "code",
   "execution_count": 102,
   "metadata": {},
   "outputs": [],
   "source": [
    "# ls"
   ]
  },
  {
   "cell_type": "code",
   "execution_count": 109,
   "metadata": {},
   "outputs": [
    {
     "data": {
      "text/html": [
       "<div>\n",
       "<style scoped>\n",
       "    .dataframe tbody tr th:only-of-type {\n",
       "        vertical-align: middle;\n",
       "    }\n",
       "\n",
       "    .dataframe tbody tr th {\n",
       "        vertical-align: top;\n",
       "    }\n",
       "\n",
       "    .dataframe thead th {\n",
       "        text-align: right;\n",
       "    }\n",
       "</style>\n",
       "<table border=\"1\" class=\"dataframe\">\n",
       "  <thead>\n",
       "    <tr style=\"text-align: right;\">\n",
       "      <th></th>\n",
       "      <th>Unnamed: 0</th>\n",
       "      <th>Well</th>\n",
       "      <th>Content</th>\n",
       "      <th>Sample</th>\n",
       "      <th>Biological Set Name</th>\n",
       "      <th>Cq</th>\n",
       "      <th>Cq Mean</th>\n",
       "      <th>Cq Std. Dev</th>\n",
       "      <th>Starting Quantity (SQ)</th>\n",
       "      <th>Log Starting Quantity</th>\n",
       "      <th>...</th>\n",
       "      <th>SE</th>\n",
       "      <th>Unnamed: 18</th>\n",
       "      <th>Sample.1</th>\n",
       "      <th>Avg. Normalized  T/A SQ.1</th>\n",
       "      <th>SE.1</th>\n",
       "      <th>Unnamed: 22</th>\n",
       "      <th>Unnamed: 23</th>\n",
       "      <th>Sample.2</th>\n",
       "      <th>Mean  Patient Average Normalized T/A SQ</th>\n",
       "      <th>Mean Patient SE</th>\n",
       "    </tr>\n",
       "  </thead>\n",
       "  <tbody>\n",
       "    <tr>\n",
       "      <th>0</th>\n",
       "      <td>NaN</td>\n",
       "      <td>B01</td>\n",
       "      <td>Std-01</td>\n",
       "      <td>Std-01</td>\n",
       "      <td>NaN</td>\n",
       "      <td>19.344363</td>\n",
       "      <td>19.256957</td>\n",
       "      <td>0.12361</td>\n",
       "      <td>50.000000</td>\n",
       "      <td>1.698970</td>\n",
       "      <td>...</td>\n",
       "      <td>0.0</td>\n",
       "      <td>NaN</td>\n",
       "      <td>Std-01</td>\n",
       "      <td>1.04466</td>\n",
       "      <td>0.0</td>\n",
       "      <td>NaN</td>\n",
       "      <td>NaN</td>\n",
       "      <td>Std 1</td>\n",
       "      <td>1.113735</td>\n",
       "      <td>0.0</td>\n",
       "    </tr>\n",
       "    <tr>\n",
       "      <th>1</th>\n",
       "      <td>NaN</td>\n",
       "      <td>B02</td>\n",
       "      <td>Std-01</td>\n",
       "      <td>Std-01</td>\n",
       "      <td>NaN</td>\n",
       "      <td>19.169551</td>\n",
       "      <td>19.256957</td>\n",
       "      <td>0.12361</td>\n",
       "      <td>50.000000</td>\n",
       "      <td>1.698970</td>\n",
       "      <td>...</td>\n",
       "      <td>NaN</td>\n",
       "      <td>NaN</td>\n",
       "      <td>Std-02</td>\n",
       "      <td>1.04466</td>\n",
       "      <td>0.0</td>\n",
       "      <td>NaN</td>\n",
       "      <td>NaN</td>\n",
       "      <td>Std 2</td>\n",
       "      <td>1.113735</td>\n",
       "      <td>0.0</td>\n",
       "    </tr>\n",
       "    <tr>\n",
       "      <th>2</th>\n",
       "      <td>NaN</td>\n",
       "      <td>B03</td>\n",
       "      <td>Std-02</td>\n",
       "      <td>Std-02</td>\n",
       "      <td>NaN</td>\n",
       "      <td>20.497158</td>\n",
       "      <td>20.555070</td>\n",
       "      <td>0.08190</td>\n",
       "      <td>16.666667</td>\n",
       "      <td>1.221849</td>\n",
       "      <td>...</td>\n",
       "      <td>0.0</td>\n",
       "      <td>NaN</td>\n",
       "      <td>Std-03</td>\n",
       "      <td>1.04466</td>\n",
       "      <td>0.0</td>\n",
       "      <td>NaN</td>\n",
       "      <td>NaN</td>\n",
       "      <td>Std 3</td>\n",
       "      <td>1.113735</td>\n",
       "      <td>0.0</td>\n",
       "    </tr>\n",
       "    <tr>\n",
       "      <th>3</th>\n",
       "      <td>NaN</td>\n",
       "      <td>B04</td>\n",
       "      <td>Std-02</td>\n",
       "      <td>Std-02</td>\n",
       "      <td>NaN</td>\n",
       "      <td>20.612982</td>\n",
       "      <td>20.555070</td>\n",
       "      <td>0.08190</td>\n",
       "      <td>16.666667</td>\n",
       "      <td>1.221849</td>\n",
       "      <td>...</td>\n",
       "      <td>NaN</td>\n",
       "      <td>NaN</td>\n",
       "      <td>Std-04</td>\n",
       "      <td>1.04466</td>\n",
       "      <td>0.0</td>\n",
       "      <td>NaN</td>\n",
       "      <td>NaN</td>\n",
       "      <td>Std 4</td>\n",
       "      <td>1.113735</td>\n",
       "      <td>0.0</td>\n",
       "    </tr>\n",
       "  </tbody>\n",
       "</table>\n",
       "<p>4 rows × 27 columns</p>\n",
       "</div>"
      ],
      "text/plain": [
       "   Unnamed: 0 Well Content  Sample  Biological Set Name         Cq    Cq Mean  \\\n",
       "0         NaN  B01  Std-01  Std-01                  NaN  19.344363  19.256957   \n",
       "1         NaN  B02  Std-01  Std-01                  NaN  19.169551  19.256957   \n",
       "2         NaN  B03  Std-02  Std-02                  NaN  20.497158  20.555070   \n",
       "3         NaN  B04  Std-02  Std-02                  NaN  20.612982  20.555070   \n",
       "\n",
       "   Cq Std. Dev  Starting Quantity (SQ)  Log Starting Quantity  ...   SE  \\\n",
       "0      0.12361               50.000000               1.698970  ...  0.0   \n",
       "1      0.12361               50.000000               1.698970  ...  NaN   \n",
       "2      0.08190               16.666667               1.221849  ...  0.0   \n",
       "3      0.08190               16.666667               1.221849  ...  NaN   \n",
       "\n",
       "  Unnamed: 18  Sample.1  Avg. Normalized  T/A SQ.1  SE.1  Unnamed: 22  \\\n",
       "0         NaN    Std-01                    1.04466   0.0          NaN   \n",
       "1         NaN    Std-02                    1.04466   0.0          NaN   \n",
       "2         NaN    Std-03                    1.04466   0.0          NaN   \n",
       "3         NaN    Std-04                    1.04466   0.0          NaN   \n",
       "\n",
       "   Unnamed: 23  Sample.2  Mean  Patient Average Normalized T/A SQ  \\\n",
       "0          NaN     Std 1                                 1.113735   \n",
       "1          NaN     Std 2                                 1.113735   \n",
       "2          NaN     Std 3                                 1.113735   \n",
       "3          NaN     Std 4                                 1.113735   \n",
       "\n",
       "  Mean Patient SE  \n",
       "0             0.0  \n",
       "1             0.0  \n",
       "2             0.0  \n",
       "3             0.0  \n",
       "\n",
       "[4 rows x 27 columns]"
      ]
     },
     "execution_count": 109,
     "metadata": {},
     "output_type": "execute_result"
    }
   ],
   "source": [
    "IMRT_qPCR_df = pd.read_excel('./Tel +Alb (both plates) 2019-08-05 13 Quantification Cq Results.xlsx', skiprows=[0])\n",
    "IMRT_qPCR_df.head(4)"
   ]
  },
  {
   "cell_type": "code",
   "execution_count": 110,
   "metadata": {},
   "outputs": [
    {
     "data": {
      "text/html": [
       "<div>\n",
       "<style scoped>\n",
       "    .dataframe tbody tr th:only-of-type {\n",
       "        vertical-align: middle;\n",
       "    }\n",
       "\n",
       "    .dataframe tbody tr th {\n",
       "        vertical-align: top;\n",
       "    }\n",
       "\n",
       "    .dataframe thead th {\n",
       "        text-align: right;\n",
       "    }\n",
       "</style>\n",
       "<table border=\"1\" class=\"dataframe\">\n",
       "  <thead>\n",
       "    <tr style=\"text-align: right;\">\n",
       "      <th></th>\n",
       "      <th>Sample</th>\n",
       "      <th>Normalized T/A SQ</th>\n",
       "    </tr>\n",
       "  </thead>\n",
       "  <tbody>\n",
       "    <tr>\n",
       "      <th>0</th>\n",
       "      <td>Std-01</td>\n",
       "      <td>1.04466</td>\n",
       "    </tr>\n",
       "    <tr>\n",
       "      <th>1</th>\n",
       "      <td>Std-01</td>\n",
       "      <td>1.04466</td>\n",
       "    </tr>\n",
       "    <tr>\n",
       "      <th>2</th>\n",
       "      <td>Std-02</td>\n",
       "      <td>1.04466</td>\n",
       "    </tr>\n",
       "    <tr>\n",
       "      <th>3</th>\n",
       "      <td>Std-02</td>\n",
       "      <td>1.04466</td>\n",
       "    </tr>\n",
       "  </tbody>\n",
       "</table>\n",
       "</div>"
      ],
      "text/plain": [
       "   Sample  Normalized T/A SQ\n",
       "0  Std-01            1.04466\n",
       "1  Std-01            1.04466\n",
       "2  Std-02            1.04466\n",
       "3  Std-02            1.04466"
      ]
     },
     "execution_count": 110,
     "metadata": {},
     "output_type": "execute_result"
    }
   ],
   "source": [
    "trimmed_IMRT_qPCR_df = IMRT_qPCR_df[['Sample', 'Normalized T/A SQ']]\n",
    "trimmed_IMRT_qPCR_df.head(4)"
   ]
  },
  {
   "cell_type": "code",
   "execution_count": 85,
   "metadata": {},
   "outputs": [],
   "source": [
    "# ??????\n",
    "\n",
    "trimmed_IMRT_qPCR_df = trimmed_IMRT_qPCR_df.iloc[10:73,:]"
   ]
  },
  {
   "cell_type": "code",
   "execution_count": 112,
   "metadata": {},
   "outputs": [
    {
     "data": {
      "text/html": [
       "<div>\n",
       "<style scoped>\n",
       "    .dataframe tbody tr th:only-of-type {\n",
       "        vertical-align: middle;\n",
       "    }\n",
       "\n",
       "    .dataframe tbody tr th {\n",
       "        vertical-align: top;\n",
       "    }\n",
       "\n",
       "    .dataframe thead th {\n",
       "        text-align: right;\n",
       "    }\n",
       "</style>\n",
       "<table border=\"1\" class=\"dataframe\">\n",
       "  <thead>\n",
       "    <tr style=\"text-align: right;\">\n",
       "      <th></th>\n",
       "      <th></th>\n",
       "      <th>mean</th>\n",
       "    </tr>\n",
       "  </thead>\n",
       "  <tbody>\n",
       "    <tr>\n",
       "      <th>0</th>\n",
       "      <td>HGDNA</td>\n",
       "      <td>1.000000</td>\n",
       "    </tr>\n",
       "    <tr>\n",
       "      <th>1</th>\n",
       "      <td>SW10A</td>\n",
       "      <td>1.453657</td>\n",
       "    </tr>\n",
       "    <tr>\n",
       "      <th>2</th>\n",
       "      <td>SW10B</td>\n",
       "      <td>1.301859</td>\n",
       "    </tr>\n",
       "    <tr>\n",
       "      <th>3</th>\n",
       "      <td>SW10C</td>\n",
       "      <td>1.273364</td>\n",
       "    </tr>\n",
       "  </tbody>\n",
       "</table>\n",
       "</div>"
      ],
      "text/plain": [
       "              mean\n",
       "0  HGDNA  1.000000\n",
       "1  SW10A  1.453657\n",
       "2  SW10B  1.301859\n",
       "3  SW10C  1.273364"
      ]
     },
     "execution_count": 112,
     "metadata": {},
     "output_type": "execute_result"
    }
   ],
   "source": [
    "grouped_patient_id = trimmed_IMRT_qPCR_df.groupby('Sample').agg(['mean']).reset_index()\n",
    "grouped_patient_id.columns = grouped_patient_id.columns.droplevel(0)\n",
    "# grouped_patient_id.columns\n",
    "grouped_patient_id.head(4)"
   ]
  },
  {
   "cell_type": "code",
   "execution_count": 79,
   "metadata": {},
   "outputs": [
    {
     "data": {
      "text/plain": [
       "MultiIndex([(           'Sample',     ''),\n",
       "            ('Normalized T/A SQ', 'mean')],\n",
       "           )"
      ]
     },
     "execution_count": 79,
     "metadata": {},
     "output_type": "execute_result"
    }
   ],
   "source": [
    "# for row in df:\n",
    "#     if 'A' in row:\n",
    "#         df[new column] = 'non irrad'\n",
    "#     elif 'B' in row:\n",
    "#         df[new column] = 'B'\n",
    "\n",
    "grouped_patient_id.columns"
   ]
  },
  {
   "cell_type": "code",
   "execution_count": 101,
   "metadata": {},
   "outputs": [
    {
     "data": {
      "text/plain": [
       "<matplotlib.axes._subplots.AxesSubplot at 0x120f248d0>"
      ]
     },
     "execution_count": 101,
     "metadata": {},
     "output_type": "execute_result"
    },
    {
     "data": {
      "image/png": "[encoded data removed]",
      "text/plain": [
       "<Figure size 1008x360 with 1 Axes>"
      ]
     },
     "metadata": {
      "needs_background": "light"
     },
     "output_type": "display_data"
    }
   ],
   "source": [
    "fig = plt.figure(figsize=(14,5))\n",
    "\n",
    "sns.scatterplot(x='', y='mean', data=grouped_patient_id)"
   ]
  },
  {
   "cell_type": "code",
   "execution_count": null,
   "metadata": {},
   "outputs": [],
   "source": []
  }
 ],
 "metadata": {
  "kernelspec": {
   "display_name": "Python 3",
   "language": "python",
   "name": "python3"
  },
  "language_info": {
   "codemirror_mode": {
    "name": "ipython",
    "version": 3
   },
   "file_extension": ".py",
   "mimetype": "text/x-python",
   "name": "python",
   "nbconvert_exporter": "python",
   "pygments_lexer": "ipython3",
   "version": "3.7.4"
  }
 },
 "nbformat": 4,
 "nbformat_minor": 2
}
