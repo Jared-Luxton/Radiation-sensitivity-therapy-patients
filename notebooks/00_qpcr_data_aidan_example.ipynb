{
 "cells": [
  {
   "cell_type": "code",
   "execution_count": 23,
   "metadata": {},
   "outputs": [],
   "source": [
    "# handling data\n",
    "import numpy as np\n",
    "import pandas as pd\n",
    "\n",
    "# plotting functions\n",
    "import matplotlib.pyplot as plt\n",
    "import seaborn as sns\n",
    "sns.set_style('darkgrid')"
   ]
  },
  {
   "cell_type": "markdown",
   "metadata": {},
   "source": [
    "comments:\n",
    "\n",
    "Nice job Aidan - you've made incredible progress! I have reviewed your work and figured it'd be easier to show rather than tell. See below. Check out the table of contents addon: https://github.com/jupyterlab/jupyterlab-toc to improve navigation within your jupyter notebooks. Also, try changing cells to markdown type & type \"# Header 1, ## Header 2', etc. without the quotations - you'll access header fonts to improve the formatting of your notebooks. The layout becomes really important with larger notebooks.\n",
    "\n",
    "Again, nice job!"
   ]
  },
  {
   "cell_type": "markdown",
   "metadata": {},
   "source": [
    "# Reading and cleaning data"
   ]
  },
  {
   "cell_type": "code",
   "execution_count": 43,
   "metadata": {},
   "outputs": [],
   "source": [
    "all_qPCR_df = pd.read_excel('../data/qPCR telo data/REVISED Tel +Alb (both plates) 2019-08-05 13 Quantification Cq Results.xlsx',\n",
    "                            # grabbing first sheet\n",
    "                            sheet_name=1,\n",
    "                            # skipping first row\n",
    "                            skiprows=1,\n",
    "                            # grabbing only columns of interest\n",
    "                            usecols=[24, 25, 26,]\n",
    "                           )\n",
    "\n",
    "# renaming columns outright\n",
    "all_qPCR_df.columns = ['Sample', 'telo means qPCR', 'SEM']\n",
    "# enforce sample IDs as strings\n",
    "all_qPCR_df['Sample'] = all_qPCR_df['Sample'].astype('str')\n",
    "\n",
    "# dropping rows w/ any missing values \n",
    "all_qPCR_df.dropna(axis=0, inplace=True)\n",
    "\n",
    "# dropping rows @ a few indices (don't remember why)\n",
    "all_qPCR_df.drop([24, 47, 48], axis=0, inplace=True)"
   ]
  },
  {
   "cell_type": "code",
   "execution_count": 44,
   "metadata": {},
   "outputs": [
    {
     "data": {
      "text/html": [
       "<div>\n",
       "<style scoped>\n",
       "    .dataframe tbody tr th:only-of-type {\n",
       "        vertical-align: middle;\n",
       "    }\n",
       "\n",
       "    .dataframe tbody tr th {\n",
       "        vertical-align: top;\n",
       "    }\n",
       "\n",
       "    .dataframe thead th {\n",
       "        text-align: right;\n",
       "    }\n",
       "</style>\n",
       "<table border=\"1\" class=\"dataframe\">\n",
       "  <thead>\n",
       "    <tr style=\"text-align: right;\">\n",
       "      <th></th>\n",
       "      <th>Sample</th>\n",
       "      <th>telo means qPCR</th>\n",
       "      <th>SEM</th>\n",
       "    </tr>\n",
       "  </thead>\n",
       "  <tbody>\n",
       "    <tr>\n",
       "      <th>0</th>\n",
       "      <td>SW1A</td>\n",
       "      <td>2.182028</td>\n",
       "      <td>0.083233</td>\n",
       "    </tr>\n",
       "    <tr>\n",
       "      <th>1</th>\n",
       "      <td>SW1B</td>\n",
       "      <td>1.964348</td>\n",
       "      <td>0.051942</td>\n",
       "    </tr>\n",
       "    <tr>\n",
       "      <th>2</th>\n",
       "      <td>SW1C</td>\n",
       "      <td>1.749799</td>\n",
       "      <td>0.068195</td>\n",
       "    </tr>\n",
       "  </tbody>\n",
       "</table>\n",
       "</div>"
      ],
      "text/plain": [
       "  Sample  telo means qPCR       SEM\n",
       "0   SW1A         2.182028  0.083233\n",
       "1   SW1B         1.964348  0.051942\n",
       "2   SW1C         1.749799  0.068195"
      ]
     },
     "execution_count": 44,
     "metadata": {},
     "output_type": "execute_result"
    }
   ],
   "source": [
    "all_qPCR_df.head(3)"
   ]
  },
  {
   "cell_type": "code",
   "execution_count": 45,
   "metadata": {},
   "outputs": [],
   "source": [
    "# defining functions to clean columns / make new columns\n",
    "\n",
    "def change_sample_ID(row):\n",
    "    if 'SW9C-2D' in row:\n",
    "        row = 'SW9C'\n",
    "        return row\n",
    "    else:\n",
    "        return row\n",
    "\n",
    "def make_timepoint_col(row):\n",
    "    if 'A' in row:\n",
    "        row = '1 non irrad'\n",
    "        return row\n",
    "    elif 'B' in row:\n",
    "        row = '3 B'\n",
    "        return row\n",
    "    elif 'C' in row:\n",
    "        row = '4 C'\n",
    "        return row\n",
    "    else:\n",
    "        pass\n",
    "         \n",
    "def make_patient_ID(row):\n",
    "    if len(row) == 4:\n",
    "        return row[2]\n",
    "    elif len(row) == 5:\n",
    "        return row[2:4]"
   ]
  },
  {
   "cell_type": "code",
   "execution_count": 46,
   "metadata": {},
   "outputs": [],
   "source": [
    "# applying functions to yield new columns\n",
    "all_qPCR_df['Sample'] = all_qPCR_df['Sample'].apply(lambda x: change_sample_ID(x))\n",
    "all_qPCR_df['timepoint'] = all_qPCR_df['Sample'].apply(lambda x: make_timepoint_col(x))\n",
    "all_qPCR_df['patient id'] = all_qPCR_df['Sample'].apply(lambda x: make_patient_ID(x))\n",
    "\n",
    "all_qPCR_df['patient id'] = all_qPCR_df['patient id'].astype('str')\n",
    "all_qPCR_df.drop(['Sample'], axis=1, inplace=True)"
   ]
  },
  {
   "cell_type": "code",
   "execution_count": 47,
   "metadata": {},
   "outputs": [
    {
     "data": {
      "text/html": [
       "<div>\n",
       "<style scoped>\n",
       "    .dataframe tbody tr th:only-of-type {\n",
       "        vertical-align: middle;\n",
       "    }\n",
       "\n",
       "    .dataframe tbody tr th {\n",
       "        vertical-align: top;\n",
       "    }\n",
       "\n",
       "    .dataframe thead th {\n",
       "        text-align: right;\n",
       "    }\n",
       "</style>\n",
       "<table border=\"1\" class=\"dataframe\">\n",
       "  <thead>\n",
       "    <tr style=\"text-align: right;\">\n",
       "      <th></th>\n",
       "      <th>telo means qPCR</th>\n",
       "      <th>SEM</th>\n",
       "      <th>timepoint</th>\n",
       "      <th>patient id</th>\n",
       "    </tr>\n",
       "  </thead>\n",
       "  <tbody>\n",
       "    <tr>\n",
       "      <th>0</th>\n",
       "      <td>2.182028</td>\n",
       "      <td>0.083233</td>\n",
       "      <td>1 non irrad</td>\n",
       "      <td>1</td>\n",
       "    </tr>\n",
       "    <tr>\n",
       "      <th>1</th>\n",
       "      <td>1.964348</td>\n",
       "      <td>0.051942</td>\n",
       "      <td>3 B</td>\n",
       "      <td>1</td>\n",
       "    </tr>\n",
       "    <tr>\n",
       "      <th>2</th>\n",
       "      <td>1.749799</td>\n",
       "      <td>0.068195</td>\n",
       "      <td>4 C</td>\n",
       "      <td>1</td>\n",
       "    </tr>\n",
       "  </tbody>\n",
       "</table>\n",
       "</div>"
      ],
      "text/plain": [
       "   telo means qPCR       SEM    timepoint patient id\n",
       "0         2.182028  0.083233  1 non irrad          1\n",
       "1         1.964348  0.051942          3 B          1\n",
       "2         1.749799  0.068195          4 C          1"
      ]
     },
     "execution_count": 47,
     "metadata": {},
     "output_type": "execute_result"
    }
   ],
   "source": [
    "all_qPCR_df.head(3)"
   ]
  },
  {
   "cell_type": "code",
   "execution_count": 48,
   "metadata": {},
   "outputs": [
    {
     "data": {
      "text/html": [
       "<div>\n",
       "<style scoped>\n",
       "    .dataframe tbody tr th:only-of-type {\n",
       "        vertical-align: middle;\n",
       "    }\n",
       "\n",
       "    .dataframe tbody tr th {\n",
       "        vertical-align: top;\n",
       "    }\n",
       "\n",
       "    .dataframe thead th {\n",
       "        text-align: right;\n",
       "    }\n",
       "</style>\n",
       "<table border=\"1\" class=\"dataframe\">\n",
       "  <thead>\n",
       "    <tr style=\"text-align: right;\">\n",
       "      <th></th>\n",
       "      <th>patient id</th>\n",
       "      <th>timepoint</th>\n",
       "      <th>telo means qPCR</th>\n",
       "      <th>SEM</th>\n",
       "    </tr>\n",
       "  </thead>\n",
       "  <tbody>\n",
       "    <tr>\n",
       "      <th>0</th>\n",
       "      <td>1</td>\n",
       "      <td>1 non irrad</td>\n",
       "      <td>2.182028</td>\n",
       "      <td>0.083233</td>\n",
       "    </tr>\n",
       "    <tr>\n",
       "      <th>1</th>\n",
       "      <td>1</td>\n",
       "      <td>3 B</td>\n",
       "      <td>1.964348</td>\n",
       "      <td>0.051942</td>\n",
       "    </tr>\n",
       "    <tr>\n",
       "      <th>2</th>\n",
       "      <td>1</td>\n",
       "      <td>4 C</td>\n",
       "      <td>1.749799</td>\n",
       "      <td>0.068195</td>\n",
       "    </tr>\n",
       "  </tbody>\n",
       "</table>\n",
       "</div>"
      ],
      "text/plain": [
       "  patient id    timepoint  telo means qPCR       SEM\n",
       "0          1  1 non irrad         2.182028  0.083233\n",
       "1          1          3 B         1.964348  0.051942\n",
       "2          1          4 C         1.749799  0.068195"
      ]
     },
     "execution_count": 48,
     "metadata": {},
     "output_type": "execute_result"
    }
   ],
   "source": [
    "# reordering columns to preference\n",
    "cols = ['patient id', 'timepoint', 'telo means qPCR', 'SEM']\n",
    "all_qPCR_df = all_qPCR_df.reindex(columns=cols)\n",
    "all_qPCR_df.head(3)"
   ]
  },
  {
   "cell_type": "markdown",
   "metadata": {},
   "source": [
    "# Visualizing patient id vs means"
   ]
  },
  {
   "cell_type": "code",
   "execution_count": 53,
   "metadata": {},
   "outputs": [
    {
     "data": {
      "image/png": "[encoded data removed]",
      "text/plain": [
       "<Figure size 921.6x360 with 1 Axes>"
      ]
     },
     "metadata": {},
     "output_type": "display_data"
    }
   ],
   "source": [
    "df =  all_qPCR_df.copy()\n",
    "df['patient id'] = df['patient id'].astype('int64').sort_values(ascending=True)\n",
    "\n",
    "plt.figure(figsize=(12.8, 5))\n",
    "ax = sns.barplot(x='patient id', y='telo means qPCR', data=df)\n",
    "\n",
    "plt.xlabel('Patient ID', fontsize=16)\n",
    "plt.ylabel('Mean Telomere Length (qPCR)', fontsize=16)\n",
    "plt.tick_params(labelsize=16)"
   ]
  },
  {
   "cell_type": "code",
   "execution_count": 56,
   "metadata": {},
   "outputs": [
    {
     "data": {
      "image/png": "[encoded data removed]",
      "text/plain": [
       "<Figure size 921.6x360 with 1 Axes>"
      ]
     },
     "metadata": {},
     "output_type": "display_data"
    }
   ],
   "source": [
    "plt.figure(figsize=(12.8, 5))\n",
    "ax = sns.barplot(x='patient id', y='telo means qPCR', hue='timepoint', palette='Set2', data=df)\n",
    "\n",
    "plt.xlabel('Patient ID', fontsize=16)\n",
    "plt.ylabel('Mean Telomere Length (qPCR)', fontsize=16)\n",
    "plt.tick_params(labelsize=16)"
   ]
  },
  {
   "cell_type": "code",
   "execution_count": 50,
   "metadata": {},
   "outputs": [
    {
     "data": {
      "text/html": [
       "<div>\n",
       "<style scoped>\n",
       "    .dataframe tbody tr th:only-of-type {\n",
       "        vertical-align: middle;\n",
       "    }\n",
       "\n",
       "    .dataframe tbody tr th {\n",
       "        vertical-align: top;\n",
       "    }\n",
       "\n",
       "    .dataframe thead th {\n",
       "        text-align: right;\n",
       "    }\n",
       "</style>\n",
       "<table border=\"1\" class=\"dataframe\">\n",
       "  <thead>\n",
       "    <tr style=\"text-align: right;\">\n",
       "      <th></th>\n",
       "      <th>patient id</th>\n",
       "      <th>timepoint</th>\n",
       "      <th>telo means qPCR</th>\n",
       "      <th>SEM</th>\n",
       "    </tr>\n",
       "  </thead>\n",
       "  <tbody>\n",
       "    <tr>\n",
       "      <th>0</th>\n",
       "      <td>1</td>\n",
       "      <td>1 non irrad</td>\n",
       "      <td>2.182028</td>\n",
       "      <td>0.083233</td>\n",
       "    </tr>\n",
       "    <tr>\n",
       "      <th>1</th>\n",
       "      <td>1</td>\n",
       "      <td>3 B</td>\n",
       "      <td>1.964348</td>\n",
       "      <td>0.051942</td>\n",
       "    </tr>\n",
       "    <tr>\n",
       "      <th>2</th>\n",
       "      <td>1</td>\n",
       "      <td>4 C</td>\n",
       "      <td>1.749799</td>\n",
       "      <td>0.068195</td>\n",
       "    </tr>\n",
       "  </tbody>\n",
       "</table>\n",
       "</div>"
      ],
      "text/plain": [
       "  patient id    timepoint  telo means qPCR       SEM\n",
       "0          1  1 non irrad         2.182028  0.083233\n",
       "1          1          3 B         1.964348  0.051942\n",
       "2          1          4 C         1.749799  0.068195"
      ]
     },
     "execution_count": 50,
     "metadata": {},
     "output_type": "execute_result"
    }
   ],
   "source": [
    "all_qPCR_df.head(3)"
   ]
  },
  {
   "cell_type": "code",
   "execution_count": 51,
   "metadata": {},
   "outputs": [
    {
     "data": {
      "text/html": [
       "<div>\n",
       "<style scoped>\n",
       "    .dataframe tbody tr th:only-of-type {\n",
       "        vertical-align: middle;\n",
       "    }\n",
       "\n",
       "    .dataframe tbody tr th {\n",
       "        vertical-align: top;\n",
       "    }\n",
       "\n",
       "    .dataframe thead th {\n",
       "        text-align: right;\n",
       "    }\n",
       "</style>\n",
       "<table border=\"1\" class=\"dataframe\">\n",
       "  <thead>\n",
       "    <tr style=\"text-align: right;\">\n",
       "      <th></th>\n",
       "      <th>patient id</th>\n",
       "      <th>timepoint</th>\n",
       "      <th>telo means qPCR</th>\n",
       "      <th>SEM</th>\n",
       "    </tr>\n",
       "  </thead>\n",
       "  <tbody>\n",
       "    <tr>\n",
       "      <th>0</th>\n",
       "      <td>1</td>\n",
       "      <td>1 non irrad</td>\n",
       "      <td>2.182028</td>\n",
       "      <td>0.083233</td>\n",
       "    </tr>\n",
       "    <tr>\n",
       "      <th>1</th>\n",
       "      <td>1</td>\n",
       "      <td>3 B</td>\n",
       "      <td>1.964348</td>\n",
       "      <td>0.051942</td>\n",
       "    </tr>\n",
       "    <tr>\n",
       "      <th>2</th>\n",
       "      <td>1</td>\n",
       "      <td>4 C</td>\n",
       "      <td>1.749799</td>\n",
       "      <td>0.068195</td>\n",
       "    </tr>\n",
       "  </tbody>\n",
       "</table>\n",
       "</div>"
      ],
      "text/plain": [
       "  patient id    timepoint  telo means qPCR       SEM\n",
       "0          1  1 non irrad         2.182028  0.083233\n",
       "1          1          3 B         1.964348  0.051942\n",
       "2          1          4 C         1.749799  0.068195"
      ]
     },
     "metadata": {},
     "output_type": "display_data"
    },
    {
     "data": {
      "text/html": [
       "<div>\n",
       "<style scoped>\n",
       "    .dataframe tbody tr th:only-of-type {\n",
       "        vertical-align: middle;\n",
       "    }\n",
       "\n",
       "    .dataframe tbody tr th {\n",
       "        vertical-align: top;\n",
       "    }\n",
       "\n",
       "    .dataframe thead th {\n",
       "        text-align: right;\n",
       "    }\n",
       "</style>\n",
       "<table border=\"1\" class=\"dataframe\">\n",
       "  <thead>\n",
       "    <tr style=\"text-align: right;\">\n",
       "      <th></th>\n",
       "      <th>patient id</th>\n",
       "      <th>timepoint</th>\n",
       "      <th>telo means qPCR</th>\n",
       "      <th>SEM</th>\n",
       "    </tr>\n",
       "  </thead>\n",
       "  <tbody>\n",
       "    <tr>\n",
       "      <th>3</th>\n",
       "      <td>2</td>\n",
       "      <td>1 non irrad</td>\n",
       "      <td>1.669445</td>\n",
       "      <td>0.034776</td>\n",
       "    </tr>\n",
       "    <tr>\n",
       "      <th>4</th>\n",
       "      <td>2</td>\n",
       "      <td>3 B</td>\n",
       "      <td>1.780092</td>\n",
       "      <td>0.066181</td>\n",
       "    </tr>\n",
       "    <tr>\n",
       "      <th>5</th>\n",
       "      <td>2</td>\n",
       "      <td>4 C</td>\n",
       "      <td>1.657974</td>\n",
       "      <td>0.018744</td>\n",
       "    </tr>\n",
       "  </tbody>\n",
       "</table>\n",
       "</div>"
      ],
      "text/plain": [
       "  patient id    timepoint  telo means qPCR       SEM\n",
       "3          2  1 non irrad         1.669445  0.034776\n",
       "4          2          3 B         1.780092  0.066181\n",
       "5          2          4 C         1.657974  0.018744"
      ]
     },
     "metadata": {},
     "output_type": "display_data"
    },
    {
     "data": {
      "text/html": [
       "<div>\n",
       "<style scoped>\n",
       "    .dataframe tbody tr th:only-of-type {\n",
       "        vertical-align: middle;\n",
       "    }\n",
       "\n",
       "    .dataframe tbody tr th {\n",
       "        vertical-align: top;\n",
       "    }\n",
       "\n",
       "    .dataframe thead th {\n",
       "        text-align: right;\n",
       "    }\n",
       "</style>\n",
       "<table border=\"1\" class=\"dataframe\">\n",
       "  <thead>\n",
       "    <tr style=\"text-align: right;\">\n",
       "      <th></th>\n",
       "      <th>patient id</th>\n",
       "      <th>timepoint</th>\n",
       "      <th>telo means qPCR</th>\n",
       "      <th>SEM</th>\n",
       "    </tr>\n",
       "  </thead>\n",
       "  <tbody>\n",
       "    <tr>\n",
       "      <th>6</th>\n",
       "      <td>3</td>\n",
       "      <td>1 non irrad</td>\n",
       "      <td>1.354539</td>\n",
       "      <td>0.018292</td>\n",
       "    </tr>\n",
       "    <tr>\n",
       "      <th>7</th>\n",
       "      <td>3</td>\n",
       "      <td>3 B</td>\n",
       "      <td>1.557154</td>\n",
       "      <td>0.051560</td>\n",
       "    </tr>\n",
       "    <tr>\n",
       "      <th>8</th>\n",
       "      <td>3</td>\n",
       "      <td>4 C</td>\n",
       "      <td>1.552189</td>\n",
       "      <td>0.036392</td>\n",
       "    </tr>\n",
       "  </tbody>\n",
       "</table>\n",
       "</div>"
      ],
      "text/plain": [
       "  patient id    timepoint  telo means qPCR       SEM\n",
       "6          3  1 non irrad         1.354539  0.018292\n",
       "7          3          3 B         1.557154  0.051560\n",
       "8          3          4 C         1.552189  0.036392"
      ]
     },
     "metadata": {},
     "output_type": "display_data"
    }
   ],
   "source": [
    "# note the indexing when slicing \n",
    "t1 = all_qPCR_df.iloc[0:3].copy()\n",
    "t2 = all_qPCR_df.iloc[3:6].copy()\n",
    "t3 = all_qPCR_df.iloc[6:9].copy()\n",
    "\n",
    "for t in [t1, t2, t3]:\n",
    "    display(t)"
   ]
  },
  {
   "cell_type": "code",
   "execution_count": 37,
   "metadata": {},
   "outputs": [
    {
     "data": {
      "text/html": [
       "<div>\n",
       "<style scoped>\n",
       "    .dataframe tbody tr th:only-of-type {\n",
       "        vertical-align: middle;\n",
       "    }\n",
       "\n",
       "    .dataframe tbody tr th {\n",
       "        vertical-align: top;\n",
       "    }\n",
       "\n",
       "    .dataframe thead th {\n",
       "        text-align: right;\n",
       "    }\n",
       "</style>\n",
       "<table border=\"1\" class=\"dataframe\">\n",
       "  <thead>\n",
       "    <tr style=\"text-align: right;\">\n",
       "      <th></th>\n",
       "      <th>patient id</th>\n",
       "      <th>timepoint</th>\n",
       "      <th>telo means qPCR</th>\n",
       "      <th>SEM</th>\n",
       "    </tr>\n",
       "  </thead>\n",
       "  <tbody>\n",
       "    <tr>\n",
       "      <th>0</th>\n",
       "      <td>1</td>\n",
       "      <td>1 non irrad</td>\n",
       "      <td>2.182028</td>\n",
       "      <td>0.083233</td>\n",
       "    </tr>\n",
       "    <tr>\n",
       "      <th>1</th>\n",
       "      <td>1</td>\n",
       "      <td>3 B</td>\n",
       "      <td>1.964348</td>\n",
       "      <td>0.051942</td>\n",
       "    </tr>\n",
       "    <tr>\n",
       "      <th>2</th>\n",
       "      <td>1</td>\n",
       "      <td>4 C</td>\n",
       "      <td>1.749799</td>\n",
       "      <td>0.068195</td>\n",
       "    </tr>\n",
       "    <tr>\n",
       "      <th>3</th>\n",
       "      <td>2</td>\n",
       "      <td>1 non irrad</td>\n",
       "      <td>1.669445</td>\n",
       "      <td>0.034776</td>\n",
       "    </tr>\n",
       "    <tr>\n",
       "      <th>4</th>\n",
       "      <td>2</td>\n",
       "      <td>3 B</td>\n",
       "      <td>1.780092</td>\n",
       "      <td>0.066181</td>\n",
       "    </tr>\n",
       "    <tr>\n",
       "      <th>5</th>\n",
       "      <td>2</td>\n",
       "      <td>4 C</td>\n",
       "      <td>1.657974</td>\n",
       "      <td>0.018744</td>\n",
       "    </tr>\n",
       "    <tr>\n",
       "      <th>6</th>\n",
       "      <td>3</td>\n",
       "      <td>1 non irrad</td>\n",
       "      <td>1.354539</td>\n",
       "      <td>0.018292</td>\n",
       "    </tr>\n",
       "    <tr>\n",
       "      <th>7</th>\n",
       "      <td>3</td>\n",
       "      <td>3 B</td>\n",
       "      <td>1.557154</td>\n",
       "      <td>0.051560</td>\n",
       "    </tr>\n",
       "    <tr>\n",
       "      <th>8</th>\n",
       "      <td>3</td>\n",
       "      <td>4 C</td>\n",
       "      <td>1.552189</td>\n",
       "      <td>0.036392</td>\n",
       "    </tr>\n",
       "  </tbody>\n",
       "</table>\n",
       "</div>"
      ],
      "text/plain": [
       "  patient id    timepoint  telo means qPCR       SEM\n",
       "0          1  1 non irrad         2.182028  0.083233\n",
       "1          1          3 B         1.964348  0.051942\n",
       "2          1          4 C         1.749799  0.068195\n",
       "3          2  1 non irrad         1.669445  0.034776\n",
       "4          2          3 B         1.780092  0.066181\n",
       "5          2          4 C         1.657974  0.018744\n",
       "6          3  1 non irrad         1.354539  0.018292\n",
       "7          3          3 B         1.557154  0.051560\n",
       "8          3          4 C         1.552189  0.036392"
      ]
     },
     "execution_count": 37,
     "metadata": {},
     "output_type": "execute_result"
    }
   ],
   "source": [
    "pd.concat([t1, t2, t3], axis=0)"
   ]
  },
  {
   "cell_type": "markdown",
   "metadata": {},
   "source": [
    "# Reshaping data example"
   ]
  },
  {
   "cell_type": "code",
   "execution_count": 65,
   "metadata": {},
   "outputs": [],
   "source": [
    "# dropping SEM column for simplicity\n",
    "SEM = all_qPCR_df['SEM'].copy()\n",
    "pivot_example = all_qPCR_df.drop(['SEM'], axis=1).copy()\n",
    "\n",
    "# pivot out timepoint\n",
    "pivot_example = pivot_example.pivot_table(index='patient id', columns='timepoint', values='telo means qPCR').reset_index()"
   ]
  },
  {
   "cell_type": "code",
   "execution_count": 66,
   "metadata": {},
   "outputs": [
    {
     "data": {
      "text/html": [
       "<div>\n",
       "<style scoped>\n",
       "    .dataframe tbody tr th:only-of-type {\n",
       "        vertical-align: middle;\n",
       "    }\n",
       "\n",
       "    .dataframe tbody tr th {\n",
       "        vertical-align: top;\n",
       "    }\n",
       "\n",
       "    .dataframe thead th {\n",
       "        text-align: right;\n",
       "    }\n",
       "</style>\n",
       "<table border=\"1\" class=\"dataframe\">\n",
       "  <thead>\n",
       "    <tr style=\"text-align: right;\">\n",
       "      <th>timepoint</th>\n",
       "      <th>patient id</th>\n",
       "      <th>1 non irrad</th>\n",
       "      <th>3 B</th>\n",
       "      <th>4 C</th>\n",
       "    </tr>\n",
       "  </thead>\n",
       "  <tbody>\n",
       "    <tr>\n",
       "      <th>0</th>\n",
       "      <td>1</td>\n",
       "      <td>2.182028</td>\n",
       "      <td>1.964348</td>\n",
       "      <td>1.749799</td>\n",
       "    </tr>\n",
       "    <tr>\n",
       "      <th>1</th>\n",
       "      <td>10</td>\n",
       "      <td>1.363500</td>\n",
       "      <td>1.221117</td>\n",
       "      <td>1.194389</td>\n",
       "    </tr>\n",
       "    <tr>\n",
       "      <th>2</th>\n",
       "      <td>11</td>\n",
       "      <td>1.463803</td>\n",
       "      <td>0.968085</td>\n",
       "      <td>1.179877</td>\n",
       "    </tr>\n",
       "  </tbody>\n",
       "</table>\n",
       "</div>"
      ],
      "text/plain": [
       "timepoint patient id  1 non irrad       3 B       4 C\n",
       "0                  1     2.182028  1.964348  1.749799\n",
       "1                 10     1.363500  1.221117  1.194389\n",
       "2                 11     1.463803  0.968085  1.179877"
      ]
     },
     "execution_count": 66,
     "metadata": {},
     "output_type": "execute_result"
    }
   ],
   "source": [
    "pivot_example.head(3)"
   ]
  },
  {
   "cell_type": "code",
   "execution_count": 68,
   "metadata": {},
   "outputs": [
    {
     "data": {
      "text/html": [
       "<div>\n",
       "<style scoped>\n",
       "    .dataframe tbody tr th:only-of-type {\n",
       "        vertical-align: middle;\n",
       "    }\n",
       "\n",
       "    .dataframe tbody tr th {\n",
       "        vertical-align: top;\n",
       "    }\n",
       "\n",
       "    .dataframe thead th {\n",
       "        text-align: right;\n",
       "    }\n",
       "</style>\n",
       "<table border=\"1\" class=\"dataframe\">\n",
       "  <thead>\n",
       "    <tr style=\"text-align: right;\">\n",
       "      <th></th>\n",
       "      <th>patient id</th>\n",
       "      <th>timepoint</th>\n",
       "      <th>telo means qPCR</th>\n",
       "    </tr>\n",
       "  </thead>\n",
       "  <tbody>\n",
       "    <tr>\n",
       "      <th>0</th>\n",
       "      <td>1</td>\n",
       "      <td>1 non irrad</td>\n",
       "      <td>2.182028</td>\n",
       "    </tr>\n",
       "    <tr>\n",
       "      <th>1</th>\n",
       "      <td>10</td>\n",
       "      <td>1 non irrad</td>\n",
       "      <td>1.363500</td>\n",
       "    </tr>\n",
       "    <tr>\n",
       "      <th>2</th>\n",
       "      <td>11</td>\n",
       "      <td>1 non irrad</td>\n",
       "      <td>1.463803</td>\n",
       "    </tr>\n",
       "  </tbody>\n",
       "</table>\n",
       "</div>"
      ],
      "text/plain": [
       "  patient id    timepoint  telo means qPCR\n",
       "0          1  1 non irrad         2.182028\n",
       "1         10  1 non irrad         1.363500\n",
       "2         11  1 non irrad         1.463803"
      ]
     },
     "execution_count": 68,
     "metadata": {},
     "output_type": "execute_result"
    }
   ],
   "source": [
    "# nekt back timepoint\n",
    "\n",
    "pivot_example.melt(id_vars='patient id', var_name='timepoint', value_name='telo means qPCR').head(3)"
   ]
  }
 ],
 "metadata": {
  "kernelspec": {
   "display_name": "Python 3",
   "language": "python",
   "name": "python3"
  },
  "language_info": {
   "codemirror_mode": {
    "name": "ipython",
    "version": 3
   },
   "file_extension": ".py",
   "mimetype": "text/x-python",
   "name": "python",
   "nbconvert_exporter": "python",
   "pygments_lexer": "ipython3",
   "version": "3.7.7"
  }
 },
 "nbformat": 4,
 "nbformat_minor": 4
}
