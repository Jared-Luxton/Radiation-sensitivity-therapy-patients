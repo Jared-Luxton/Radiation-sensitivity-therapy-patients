{
 "cells": [
  {
   "cell_type": "code",
   "execution_count": 1,
   "metadata": {},
   "outputs": [
    {
     "name": "stderr",
     "output_type": "stream",
     "text": [
      "/usr/local/lib/python3.7/site-packages/statsmodels/compat/pandas.py:49: FutureWarning: The Panel class is removed from pandas. Accessing it from the top-level namespace will also be removed in the next version\n",
      "  data_klasses = (pandas.Series, pandas.DataFrame, pandas.Panel)\n"
     ]
    }
   ],
   "source": [
    "# tools for handling files\n",
    "import sys\n",
    "import os\n",
    "\n",
    "# pandas/numpy for handling data\n",
    "import pandas as pd\n",
    "import numpy as np\n",
    "from pandas import ExcelWriter\n",
    "from pandas import ExcelFile\n",
    "\n",
    "# for reading individual telomere length data from files\n",
    "from ast import literal_eval\n",
    "\n",
    "# for grabbing individual cells\n",
    "import more_itertools\n",
    "\n",
    "# my module containing functions for handling/visualizing/analyzing telomere length/chr rearrangement data\n",
    "import telomere_methods_rad_patient as trp\n",
    "\n",
    "# incase reloading modules is required\n",
    "import importlib\n",
    "%load_ext autoreload\n",
    "%autoreload "
   ]
  },
  {
   "cell_type": "markdown",
   "metadata": {},
   "source": [
    "---\n",
    "&nbsp; \n",
    "\n",
    "...\n",
    "\n",
    "&nbsp;\n",
    "\n",
    "---"
   ]
  },
  {
   "cell_type": "markdown",
   "metadata": {
    "toc-hr-collapsed": true
   },
   "source": [
    "# Loading Telomere Length Data from TeloFISH\n",
    "---"
   ]
  },
  {
   "cell_type": "markdown",
   "metadata": {
    "toc-hr-collapsed": false
   },
   "source": [
    "## Extracting telomere length data output from ImageJ from all radiation therapy patients"
   ]
  },
  {
   "cell_type": "code",
   "execution_count": 2,
   "metadata": {},
   "outputs": [
    {
     "name": "stdout",
     "output_type": "stream",
     "text": [
      "SW9A non irrad.xlsx data extraction in progress..\n",
      "BJ1 for SW9_.xlsx data extraction in progress..\n",
      "SW11A non irrad.xlsx data extraction in progress..\n",
      "BJ1 for SW15_.xlsx data extraction in progress..\n",
      "SW6A non irrad.xlsx data extraction in progress..\n",
      "SW6A irrad @ 4 Gy.xlsx data extraction in progress..\n",
      "SW8B.xlsx data extraction in progress..\n",
      "SW14A irrad @ 4 Gy.xlsx data extraction in progress..\n",
      "SW8A irrad @ 4 Gy.xlsx data extraction in progress..\n",
      "SW5A irrad @ 4 Gy.xlsx data extraction in progress..\n",
      "SW8C.xlsx data extraction in progress..\n",
      "SW1A non irrad.xlsx data extraction in progress..\n",
      "BJ1 for SW11_.xlsx data extraction in progress..\n",
      "SW16A non irrad.xlsx data extraction in progress..\n",
      "BJ1 for SW13_.xlsx data extraction in progress..\n",
      "BJ-hTERT for SW9_.xlsx data extraction in progress..\n",
      "BJ1 for SW14_.xlsx data extraction in progress..\n",
      "SW9B.xlsx data extraction in progress..\n",
      "BJ1 for SW8_.xlsx data extraction in progress..\n",
      "SW_1_ok_3_C_.xlsx data extraction in progress..\n"
     ]
    },
    {
     "name": "stderr",
     "output_type": "stream",
     "text": [
      "/usr/local/lib/python3.7/site-packages/scipy/stats/stats.py:2275: RuntimeWarning: Mean of empty slice.\n",
      "  mns = a.mean(axis=axis)\n",
      "/usr/local/lib/python3.7/site-packages/numpy/core/_methods.py:154: RuntimeWarning: invalid value encountered in true_divide\n",
      "  ret, rcount, out=ret, casting='unsafe', subok=False)\n",
      "/usr/local/lib/python3.7/site-packages/numpy/core/_methods.py:217: RuntimeWarning: Degrees of freedom <= 0 for slice\n",
      "  keepdims=keepdims)\n",
      "/usr/local/lib/python3.7/site-packages/numpy/core/_methods.py:186: RuntimeWarning: invalid value encountered in true_divide\n",
      "  arrmean, rcount, out=arrmean, casting='unsafe', subok=False)\n",
      "/usr/local/lib/python3.7/site-packages/numpy/core/_methods.py:207: RuntimeWarning: invalid value encountered in true_divide\n",
      "  ret, rcount, out=ret, casting='unsafe', subok=False)\n"
     ]
    },
    {
     "name": "stdout",
     "output_type": "stream",
     "text": [
      "SW3A irrad @ 4 Gy.xlsx data extraction in progress..\n",
      "SW11A irrad @ 4 Gy.xlsx data extraction in progress..\n",
      "BJ1 for SW16_.xlsx data extraction in progress..\n",
      "BJ1 for SW12_.xlsx data extraction in progress..\n",
      "SW8A non irrad.xlsx data extraction in progress..\n",
      "BJ-hTERT for SW8_.xlsx data extraction in progress..\n",
      "SW10A non irrad.xlsx data extraction in progress..\n",
      "SW12A irrad @ 4 Gy.xlsx data extraction in progress..\n",
      "SW9C.xlsx data extraction in progress..\n",
      "BJ1 for SW10_.xlsx data extraction in progress..\n",
      "SW7A non irrad.xlsx data extraction in progress..\n",
      "SW1A irrad @ 4 Gy.xlsx data extraction in progress..\n",
      "SW13A irrad @ 4 Gy.xlsx data extraction in progress..\n",
      "SW1B.xlsx data extraction in progress..\n",
      "BJ-hTERT for SW6_.xlsx data extraction in progress..\n",
      "SW13B.xlsx data extraction in progress..\n",
      "BJ1 for SW2_.xlsx data extraction in progress..\n",
      "SW2A non irrad.xlsx data extraction in progress..\n",
      "SW5C.xlsx data extraction in progress..\n",
      "SW15C.xlsx data extraction in progress..\n",
      "SW7C.xlsx data extraction in progress..\n",
      "SW11B.xlsx data extraction in progress..\n",
      "SW3B.xlsx data extraction in progress..\n",
      "BJ-hTERT for SW15_.xlsx data extraction in progress..\n",
      "SW15A non irrad.xlsx data extraction in progress..\n",
      "SW12A non irrad.xlsx data extraction in progress..\n",
      "BJ-hTERT for SW11_.xlsx data extraction in progress..\n",
      "SW3C.xlsx data extraction in progress..\n",
      "SW11C.xlsx data extraction in progress..\n",
      "SW7B.xlsx data extraction in progress..\n",
      "SW15B.xlsx data extraction in progress..\n",
      "BJ1 for SW6_.xlsx data extraction in progress..\n",
      "BJ-hTERT for SW2_.xlsx data extraction in progress..\n",
      "SW5B.xlsx data extraction in progress..\n",
      "SW5A non irrad.xlsx data extraction in progress..\n",
      "SW1C.xlsx data extraction in progress..\n",
      "BJ-hTERT for SW13_.xlsx data extraction in progress..\n",
      "SW10A irrad @ 4 Gy.xlsx data extraction in progress..\n",
      "SW2A irrad @ 4 Gy.xlsx data extraction in progress..\n",
      "BJ1 for SW1_.xlsx data extraction in progress..\n",
      "SW10B.xlsx data extraction in progress..\n",
      "BJ-hTERT for SW5_.xlsx data extraction in progress..\n",
      "SW2B.xlsx data extraction in progress..\n",
      "SW13A non irrad.xlsx data extraction in progress..\n",
      "SW14C.xlsx data extraction in progress..\n",
      "SW6C.xlsx data extraction in progress..\n",
      "SW9A irrad @ 4 Gy.xlsx data extraction in progress..\n",
      "SW16A irrad @ 4 Gy.xlsx data extraction in progress..\n",
      "BJ-hTERT for SW14_.xlsx data extraction in progress..\n",
      "BJ-hTERT for SW16_.xlsx data extraction in progress..\n",
      "SW16C.xlsx data extraction in progress..\n",
      "BJ1 for SW3_.xlsx data extraction in progress..\n",
      "SW12B.xlsx data extraction in progress..\n",
      "BJ-hTERT for SW7_.xlsx data extraction in progress..\n",
      "SW12C.xlsx data extraction in progress..\n",
      "SW16B.xlsx data extraction in progress..\n",
      "BJ-hTERT for SW3_.xlsx data extraction in progress..\n",
      "BJ1 for SW7_.xlsx data extraction in progress..\n",
      "BJ-hTERT for SW12_.xlsx data extraction in progress..\n",
      "SW3A non irrad.xlsx data extraction in progress..\n",
      "SW15A irrad @ 4 Gy.xlsx data extraction in progress..\n",
      "SW7A irrad @ 4 Gy.xlsx data extraction in progress..\n",
      "BJ-hTERT for SW10_.xlsx data extraction in progress..\n",
      "SW6B.xlsx data extraction in progress..\n",
      "SW14B.xlsx data extraction in progress..\n",
      "BJ-hTERT for SW1_.xlsx data extraction in progress..\n",
      "SW14A non irrad.xlsx data extraction in progress..\n",
      "BJ1 for SW5_.xlsx data extraction in progress..\n",
      "SW2C.xlsx data extraction in progress..\n",
      "SW10C.xlsx data extraction in progress..\n",
      "completed file collection\n"
     ]
    }
   ],
   "source": [
    "all_patients_dict = trp.generate_dictionary_from_TeloLength_data('../data/raw patient teloFISH data/')"
   ]
  },
  {
   "cell_type": "markdown",
   "metadata": {},
   "source": [
    "## Making dataframe from dict w/ all patients telomere length data, contains telo means & individual telos as list"
   ]
  },
  {
   "cell_type": "code",
   "execution_count": 3,
   "metadata": {},
   "outputs": [
    {
     "name": "stdout",
     "output_type": "stream",
     "text": [
      "(59, 7)\n"
     ]
    }
   ],
   "source": [
    "all_patients_df = trp.generate_dataframe_from_dict(all_patients_dict)\n",
    "\n",
    "# don't need telo means per cell @ this time\n",
    "all_patients_df = all_patients_df.drop(['cell data'], axis=1)\n",
    "print(all_patients_df.shape)"
   ]
  },
  {
   "cell_type": "markdown",
   "metadata": {
    "toc-hr-collapsed": true
   },
   "source": [
    "## Saving all patients telomere length data for later retrieval"
   ]
  },
  {
   "cell_type": "code",
   "execution_count": 4,
   "metadata": {},
   "outputs": [],
   "source": [
    "# changing telo data to list in prep for saving to csv\n",
    "all_patients_df['telo data'] = all_patients_df['telo data'].apply(lambda row: row.tolist())\n",
    "all_patients_df.to_csv('../data/compiled patient data csv files/all_patients_df.csv', index=False)"
   ]
  },
  {
   "cell_type": "markdown",
   "metadata": {},
   "source": [
    "## Generating all patients telo df containing telo counts per quartile melted into tidy data format "
   ]
  },
  {
   "cell_type": "code",
   "execution_count": 5,
   "metadata": {},
   "outputs": [
    {
     "data": {
      "text/html": [
       "<div>\n",
       "<style scoped>\n",
       "    .dataframe tbody tr th:only-of-type {\n",
       "        vertical-align: middle;\n",
       "    }\n",
       "\n",
       "    .dataframe tbody tr th {\n",
       "        vertical-align: top;\n",
       "    }\n",
       "\n",
       "    .dataframe thead th {\n",
       "        text-align: right;\n",
       "    }\n",
       "</style>\n",
       "<table border=\"1\" class=\"dataframe\">\n",
       "  <thead>\n",
       "    <tr style=\"text-align: right;\">\n",
       "      <th></th>\n",
       "      <th>patient id</th>\n",
       "      <th>timepoint</th>\n",
       "      <th>telo data</th>\n",
       "      <th>telo means</th>\n",
       "      <th>relative Q</th>\n",
       "      <th>Q freq counts</th>\n",
       "    </tr>\n",
       "  </thead>\n",
       "  <tbody>\n",
       "    <tr>\n",
       "      <th>0</th>\n",
       "      <td>1</td>\n",
       "      <td>1 non irrad</td>\n",
       "      <td>[70.74301669292741, 91.86033510872664, 59.1284...</td>\n",
       "      <td>84.796483</td>\n",
       "      <td>Q1</td>\n",
       "      <td>1195.0</td>\n",
       "    </tr>\n",
       "    <tr>\n",
       "      <th>1</th>\n",
       "      <td>1</td>\n",
       "      <td>2 irrad @ 4 Gy</td>\n",
       "      <td>[91.86033510872664, 119.31165592077517, 99.251...</td>\n",
       "      <td>90.975826</td>\n",
       "      <td>Q1</td>\n",
       "      <td>724.0</td>\n",
       "    </tr>\n",
       "    <tr>\n",
       "      <th>2</th>\n",
       "      <td>1</td>\n",
       "      <td>3 B</td>\n",
       "      <td>[191.10982054566642, 141.48603338585482, 114.0...</td>\n",
       "      <td>116.779989</td>\n",
       "      <td>Q1</td>\n",
       "      <td>231.0</td>\n",
       "    </tr>\n",
       "    <tr>\n",
       "      <th>3</th>\n",
       "      <td>1</td>\n",
       "      <td>4 C</td>\n",
       "      <td>[86.58100550477684, 139.3729078012595, 99.2504...</td>\n",
       "      <td>99.346299</td>\n",
       "      <td>Q1</td>\n",
       "      <td>372.0</td>\n",
       "    </tr>\n",
       "  </tbody>\n",
       "</table>\n",
       "</div>"
      ],
      "text/plain": [
       "   patient id       timepoint  \\\n",
       "0           1     1 non irrad   \n",
       "1           1  2 irrad @ 4 Gy   \n",
       "2           1             3 B   \n",
       "3           1             4 C   \n",
       "\n",
       "                                           telo data  telo means relative Q  \\\n",
       "0  [70.74301669292741, 91.86033510872664, 59.1284...   84.796483         Q1   \n",
       "1  [91.86033510872664, 119.31165592077517, 99.251...   90.975826         Q1   \n",
       "2  [191.10982054566642, 141.48603338585482, 114.0...  116.779989         Q1   \n",
       "3  [86.58100550477684, 139.3729078012595, 99.2504...   99.346299         Q1   \n",
       "\n",
       "   Q freq counts  \n",
       "0         1195.0  \n",
       "1          724.0  \n",
       "2          231.0  \n",
       "3          372.0  "
      ]
     },
     "execution_count": 5,
     "metadata": {},
     "output_type": "execute_result"
    }
   ],
   "source": [
    "melted_all_patients_df = pd.melt(\n",
    "    all_patients_df,\n",
    "    id_vars = [col for col in all_patients_df.columns if col != 'Q1' and col != 'Q2-3' and col != 'Q4'],\n",
    "    var_name='relative Q',\n",
    "    value_name='Q freq counts')\n",
    "\n",
    "melted_all_patients_df['Q freq counts'] = melted_all_patients_df['Q freq counts'].astype('float64')\n",
    "melted_all_patients_df.head(4)"
   ]
  },
  {
   "cell_type": "markdown",
   "metadata": {},
   "source": [
    "## Saving melted all patients df to csv"
   ]
  },
  {
   "cell_type": "code",
   "execution_count": 6,
   "metadata": {},
   "outputs": [],
   "source": [
    "melted_all_patients_df.to_csv('../data/compiled patient data csv files/melted_all_patients_df.csv', index=False)"
   ]
  },
  {
   "cell_type": "markdown",
   "metadata": {},
   "source": [
    "## Pivoted Dataframe w/ timepoints as columns, and telomere length means for each patient timepoint in rows"
   ]
  },
  {
   "cell_type": "code",
   "execution_count": 7,
   "metadata": {},
   "outputs": [],
   "source": [
    "pivot_patients_telo_means_df = all_patients_df.pivot(index='patient id', columns='timepoint', values='telo means')\n",
    "pivot_patients_telo_means_df = pivot_patients_telo_means_df.drop(13)"
   ]
  },
  {
   "cell_type": "markdown",
   "metadata": {},
   "source": [
    "## Saving pivoted telo means df to file"
   ]
  },
  {
   "cell_type": "code",
   "execution_count": 8,
   "metadata": {},
   "outputs": [],
   "source": [
    "pivot_patients_telo_means_df.to_csv('../data/compiled patient data csv files/pivot_patients_telo_means_df.csv', index=False)"
   ]
  },
  {
   "cell_type": "markdown",
   "metadata": {},
   "source": [
    "## Exploding individual telomere length measurements from contained list into dataframe (i.e row per individual telomere) while retaining related column info"
   ]
  },
  {
   "cell_type": "code",
   "execution_count": 9,
   "metadata": {},
   "outputs": [
    {
     "name": "stdout",
     "output_type": "stream",
     "text": [
      "(59, 4600)\n"
     ]
    },
    {
     "data": {
      "text/html": [
       "<div>\n",
       "<style scoped>\n",
       "    .dataframe tbody tr th:only-of-type {\n",
       "        vertical-align: middle;\n",
       "    }\n",
       "\n",
       "    .dataframe tbody tr th {\n",
       "        vertical-align: top;\n",
       "    }\n",
       "\n",
       "    .dataframe thead th {\n",
       "        text-align: right;\n",
       "    }\n",
       "</style>\n",
       "<table border=\"1\" class=\"dataframe\">\n",
       "  <thead>\n",
       "    <tr style=\"text-align: right;\">\n",
       "      <th></th>\n",
       "      <th>0</th>\n",
       "      <th>1</th>\n",
       "      <th>2</th>\n",
       "      <th>3</th>\n",
       "      <th>4</th>\n",
       "      <th>5</th>\n",
       "      <th>6</th>\n",
       "      <th>7</th>\n",
       "      <th>8</th>\n",
       "      <th>9</th>\n",
       "      <th>...</th>\n",
       "      <th>4590</th>\n",
       "      <th>4591</th>\n",
       "      <th>4592</th>\n",
       "      <th>4593</th>\n",
       "      <th>4594</th>\n",
       "      <th>4595</th>\n",
       "      <th>4596</th>\n",
       "      <th>4597</th>\n",
       "      <th>4598</th>\n",
       "      <th>4599</th>\n",
       "    </tr>\n",
       "  </thead>\n",
       "  <tbody>\n",
       "    <tr>\n",
       "      <th>0</th>\n",
       "      <td>70.743017</td>\n",
       "      <td>91.860335</td>\n",
       "      <td>59.128492</td>\n",
       "      <td>65.463687</td>\n",
       "      <td>51.737430</td>\n",
       "      <td>52.793296</td>\n",
       "      <td>59.128492</td>\n",
       "      <td>69.687151</td>\n",
       "      <td>70.743017</td>\n",
       "      <td>144.653631</td>\n",
       "      <td>...</td>\n",
       "      <td>70.743017</td>\n",
       "      <td>153.099028</td>\n",
       "      <td>161.547486</td>\n",
       "      <td>89.748603</td>\n",
       "      <td>166.826815</td>\n",
       "      <td>71.798883</td>\n",
       "      <td>181.607122</td>\n",
       "      <td>49.625202</td>\n",
       "      <td>71.798883</td>\n",
       "      <td>102.418994</td>\n",
       "    </tr>\n",
       "    <tr>\n",
       "      <th>1</th>\n",
       "      <td>91.860335</td>\n",
       "      <td>119.311656</td>\n",
       "      <td>99.251397</td>\n",
       "      <td>144.653631</td>\n",
       "      <td>108.754190</td>\n",
       "      <td>100.307262</td>\n",
       "      <td>106.641392</td>\n",
       "      <td>107.697247</td>\n",
       "      <td>162.601726</td>\n",
       "      <td>103.474860</td>\n",
       "      <td>...</td>\n",
       "      <td>84.468429</td>\n",
       "      <td>69.687151</td>\n",
       "      <td>101.363128</td>\n",
       "      <td>147.819751</td>\n",
       "      <td>168.938547</td>\n",
       "      <td>88.692737</td>\n",
       "      <td>88.691850</td>\n",
       "      <td>48.569832</td>\n",
       "      <td>54.905028</td>\n",
       "      <td>97.139665</td>\n",
       "    </tr>\n",
       "    <tr>\n",
       "      <th>2</th>\n",
       "      <td>191.109821</td>\n",
       "      <td>141.486033</td>\n",
       "      <td>114.033519</td>\n",
       "      <td>156.266594</td>\n",
       "      <td>126.703910</td>\n",
       "      <td>185.832402</td>\n",
       "      <td>115.089385</td>\n",
       "      <td>84.469274</td>\n",
       "      <td>150.988827</td>\n",
       "      <td>71.798165</td>\n",
       "      <td>...</td>\n",
       "      <td>73.910614</td>\n",
       "      <td>141.484619</td>\n",
       "      <td>158.379888</td>\n",
       "      <td>74.966480</td>\n",
       "      <td>86.581006</td>\n",
       "      <td>93.971127</td>\n",
       "      <td>111.921788</td>\n",
       "      <td>89.748603</td>\n",
       "      <td>105.586592</td>\n",
       "      <td>97.011747</td>\n",
       "    </tr>\n",
       "    <tr>\n",
       "      <th>3</th>\n",
       "      <td>86.581006</td>\n",
       "      <td>139.372908</td>\n",
       "      <td>99.250404</td>\n",
       "      <td>85.525140</td>\n",
       "      <td>101.363128</td>\n",
       "      <td>109.810056</td>\n",
       "      <td>87.636871</td>\n",
       "      <td>111.921788</td>\n",
       "      <td>134.094972</td>\n",
       "      <td>76.022346</td>\n",
       "      <td>...</td>\n",
       "      <td>96.083799</td>\n",
       "      <td>107.698324</td>\n",
       "      <td>93.972067</td>\n",
       "      <td>59.127900</td>\n",
       "      <td>99.251397</td>\n",
       "      <td>76.021586</td>\n",
       "      <td>76.022346</td>\n",
       "      <td>59.127900</td>\n",
       "      <td>129.871508</td>\n",
       "      <td>172.106145</td>\n",
       "    </tr>\n",
       "  </tbody>\n",
       "</table>\n",
       "<p>4 rows × 4600 columns</p>\n",
       "</div>"
      ],
      "text/plain": [
       "         0           1           2           3           4           5     \\\n",
       "0   70.743017   91.860335   59.128492   65.463687   51.737430   52.793296   \n",
       "1   91.860335  119.311656   99.251397  144.653631  108.754190  100.307262   \n",
       "2  191.109821  141.486033  114.033519  156.266594  126.703910  185.832402   \n",
       "3   86.581006  139.372908   99.250404   85.525140  101.363128  109.810056   \n",
       "\n",
       "         6           7           8           9     ...       4590        4591  \\\n",
       "0   59.128492   69.687151   70.743017  144.653631  ...  70.743017  153.099028   \n",
       "1  106.641392  107.697247  162.601726  103.474860  ...  84.468429   69.687151   \n",
       "2  115.089385   84.469274  150.988827   71.798165  ...  73.910614  141.484619   \n",
       "3   87.636871  111.921788  134.094972   76.022346  ...  96.083799  107.698324   \n",
       "\n",
       "         4592        4593        4594       4595        4596       4597  \\\n",
       "0  161.547486   89.748603  166.826815  71.798883  181.607122  49.625202   \n",
       "1  101.363128  147.819751  168.938547  88.692737   88.691850  48.569832   \n",
       "2  158.379888   74.966480   86.581006  93.971127  111.921788  89.748603   \n",
       "3   93.972067   59.127900   99.251397  76.021586   76.022346  59.127900   \n",
       "\n",
       "         4598        4599  \n",
       "0   71.798883  102.418994  \n",
       "1   54.905028   97.139665  \n",
       "2  105.586592   97.011747  \n",
       "3  129.871508  172.106145  \n",
       "\n",
       "[4 rows x 4600 columns]"
      ]
     },
     "execution_count": 9,
     "metadata": {},
     "output_type": "execute_result"
    }
   ],
   "source": [
    "# can imagine the lists containing the individual telos per patient exploding to the right; maintains the index relationship\n",
    "explode_telos_raw = all_patients_df['telo data'].apply(pd.Series)\n",
    "\n",
    "print(explode_telos_raw.shape)\n",
    "explode_telos_raw.head(4)"
   ]
  },
  {
   "cell_type": "code",
   "execution_count": 10,
   "metadata": {},
   "outputs": [
    {
     "data": {
      "text/html": [
       "<div>\n",
       "<style scoped>\n",
       "    .dataframe tbody tr th:only-of-type {\n",
       "        vertical-align: middle;\n",
       "    }\n",
       "\n",
       "    .dataframe tbody tr th {\n",
       "        vertical-align: top;\n",
       "    }\n",
       "\n",
       "    .dataframe thead th {\n",
       "        text-align: right;\n",
       "    }\n",
       "</style>\n",
       "<table border=\"1\" class=\"dataframe\">\n",
       "  <thead>\n",
       "    <tr style=\"text-align: right;\">\n",
       "      <th></th>\n",
       "      <th>patient id</th>\n",
       "      <th>timepoint</th>\n",
       "      <th>telo means</th>\n",
       "      <th>individual telomeres</th>\n",
       "    </tr>\n",
       "  </thead>\n",
       "  <tbody>\n",
       "    <tr>\n",
       "      <th>0</th>\n",
       "      <td>1</td>\n",
       "      <td>1 non irrad</td>\n",
       "      <td>84.796483</td>\n",
       "      <td>70.743017</td>\n",
       "    </tr>\n",
       "    <tr>\n",
       "      <th>1</th>\n",
       "      <td>1</td>\n",
       "      <td>2 irrad @ 4 Gy</td>\n",
       "      <td>90.975826</td>\n",
       "      <td>91.860335</td>\n",
       "    </tr>\n",
       "    <tr>\n",
       "      <th>2</th>\n",
       "      <td>1</td>\n",
       "      <td>3 B</td>\n",
       "      <td>116.779989</td>\n",
       "      <td>191.109821</td>\n",
       "    </tr>\n",
       "    <tr>\n",
       "      <th>3</th>\n",
       "      <td>1</td>\n",
       "      <td>4 C</td>\n",
       "      <td>99.346299</td>\n",
       "      <td>86.581006</td>\n",
       "    </tr>\n",
       "  </tbody>\n",
       "</table>\n",
       "</div>"
      ],
      "text/plain": [
       "   patient id       timepoint  telo means  individual telomeres\n",
       "0           1     1 non irrad   84.796483             70.743017\n",
       "1           1  2 irrad @ 4 Gy   90.975826             91.860335\n",
       "2           1             3 B  116.779989            191.109821\n",
       "3           1             4 C   99.346299             86.581006"
      ]
     },
     "execution_count": 10,
     "metadata": {},
     "output_type": "execute_result"
    }
   ],
   "source": [
    "exploded_telos_all_patients_df = (explode_telos_raw\n",
    "                                  \n",
    "    # we'll merge the exploded telos df w/ our original all patients df on the index!\n",
    "    .merge(all_patients_df, right_index = True, left_index = True)\n",
    "    .drop(['telo data', 'Q1', 'Q2-3', 'Q4'], axis = 1)\n",
    "    .melt(id_vars = ['patient id', 'timepoint', 'telo means'], value_name = \"individual telomeres\") \n",
    "    .drop(\"variable\", axis = 1)\n",
    "    .dropna())\n",
    "\n",
    "exploded_telos_all_patients_df.head(4)"
   ]
  },
  {
   "cell_type": "markdown",
   "metadata": {},
   "source": [
    "## Saving exploded telomere df for later retrieval"
   ]
  },
  {
   "cell_type": "code",
   "execution_count": 11,
   "metadata": {},
   "outputs": [],
   "source": [
    "exploded_telos_all_patients_df.to_csv('../data/compiled patient data csv files/exploded_telos_all_patients_df.csv', index=False)"
   ]
  },
  {
   "cell_type": "markdown",
   "metadata": {
    "toc-hr-collapsed": true
   },
   "source": [
    "# Loading Telomere Length Data from qPCR - Aidan & Lynn\n",
    "---"
   ]
  },
  {
   "cell_type": "markdown",
   "metadata": {},
   "source": [
    "## Extracting average telomere length data by qPCR data from Aidan & Lynn"
   ]
  },
  {
   "cell_type": "code",
   "execution_count": 12,
   "metadata": {},
   "outputs": [],
   "source": [
    "all_qPCR_df = pd.read_excel('../data/qPCR telo data/REVISED Tel +Alb (both plates) 2019-08-05 13 Quantification Cq Results.xlsx',\n",
    "                            sheet_name=1,\n",
    "                           skiprows=1,\n",
    "                            usecols=[24, 25, 26,]\n",
    "                           )\n",
    "\n",
    "all_qPCR_df.columns = ['Sample', 'telo means qPCR', 'SEM']\n",
    "all_qPCR_df['Sample'] = all_qPCR_df['Sample'].astype('str')"
   ]
  },
  {
   "cell_type": "code",
   "execution_count": 13,
   "metadata": {},
   "outputs": [],
   "source": [
    "all_qPCR_df.dropna(axis=0, inplace=True)\n",
    "all_qPCR_df.drop([24, 47, 48], axis=0, inplace=True)"
   ]
  },
  {
   "cell_type": "code",
   "execution_count": 14,
   "metadata": {},
   "outputs": [],
   "source": [
    "all_qPCR_df['Sample'] = all_qPCR_df['Sample'].apply(lambda x: trp.change_sample_ID(x))\n",
    "all_qPCR_df['timepoint'] = all_qPCR_df['Sample'].apply(lambda x: trp.make_timepoint_col(x))\n",
    "all_qPCR_df['patient id'] = all_qPCR_df['Sample'].apply(lambda x: trp.make_patient_ID(x))\n",
    "\n",
    "all_qPCR_df['patient id'] = all_qPCR_df['patient id'].astype('str')\n",
    "all_qPCR_df.drop(['Sample'], axis=1, inplace=True)"
   ]
  },
  {
   "cell_type": "code",
   "execution_count": 15,
   "metadata": {},
   "outputs": [
    {
     "data": {
      "text/html": [
       "<div>\n",
       "<style scoped>\n",
       "    .dataframe tbody tr th:only-of-type {\n",
       "        vertical-align: middle;\n",
       "    }\n",
       "\n",
       "    .dataframe tbody tr th {\n",
       "        vertical-align: top;\n",
       "    }\n",
       "\n",
       "    .dataframe thead th {\n",
       "        text-align: right;\n",
       "    }\n",
       "</style>\n",
       "<table border=\"1\" class=\"dataframe\">\n",
       "  <thead>\n",
       "    <tr style=\"text-align: right;\">\n",
       "      <th></th>\n",
       "      <th>patient id</th>\n",
       "      <th>timepoint</th>\n",
       "      <th>telo means qPCR</th>\n",
       "      <th>SEM</th>\n",
       "    </tr>\n",
       "  </thead>\n",
       "  <tbody>\n",
       "    <tr>\n",
       "      <th>0</th>\n",
       "      <td>1</td>\n",
       "      <td>1 non irrad</td>\n",
       "      <td>2.182028</td>\n",
       "      <td>0.083233</td>\n",
       "    </tr>\n",
       "    <tr>\n",
       "      <th>1</th>\n",
       "      <td>1</td>\n",
       "      <td>3 B</td>\n",
       "      <td>1.964348</td>\n",
       "      <td>0.051942</td>\n",
       "    </tr>\n",
       "    <tr>\n",
       "      <th>2</th>\n",
       "      <td>1</td>\n",
       "      <td>4 C</td>\n",
       "      <td>1.749799</td>\n",
       "      <td>0.068195</td>\n",
       "    </tr>\n",
       "    <tr>\n",
       "      <th>3</th>\n",
       "      <td>2</td>\n",
       "      <td>1 non irrad</td>\n",
       "      <td>1.669445</td>\n",
       "      <td>0.034776</td>\n",
       "    </tr>\n",
       "  </tbody>\n",
       "</table>\n",
       "</div>"
      ],
      "text/plain": [
       "  patient id    timepoint  telo means qPCR       SEM\n",
       "0          1  1 non irrad         2.182028  0.083233\n",
       "1          1          3 B         1.964348  0.051942\n",
       "2          1          4 C         1.749799  0.068195\n",
       "3          2  1 non irrad         1.669445  0.034776"
      ]
     },
     "execution_count": 15,
     "metadata": {},
     "output_type": "execute_result"
    }
   ],
   "source": [
    "cols = ['patient id', 'timepoint', 'telo means qPCR', 'SEM']\n",
    "all_qPCR_df = all_qPCR_df.reindex(columns=cols)\n",
    "all_qPCR_df.head(4)"
   ]
  },
  {
   "cell_type": "code",
   "execution_count": 16,
   "metadata": {},
   "outputs": [],
   "source": [
    "all_qPCR_df.to_csv('../data/qPCR telo data/all_qPCR_df.csv', index=False)"
   ]
  },
  {
   "cell_type": "markdown",
   "metadata": {},
   "source": [
    "# Loading Chromosome Aberration Data from Subtelo-dGH \n",
    "---"
   ]
  },
  {
   "cell_type": "code",
   "execution_count": 17,
   "metadata": {},
   "outputs": [
    {
     "name": "stdout",
     "output_type": "stream",
     "text": [
      "<DirEntry 'SW14_timepoints_subtelodGH.xlsx'>\n",
      "<DirEntry 'SW3_timepoints_subtelodGH.xlsx'>\n",
      "<DirEntry 'SW8_timepoints_subtelodGH.xlsx'>\n",
      "<DirEntry 'SW13_timepoints_subtelodGH.xlsx'>\n",
      "<DirEntry 'SW9_timepoints_subtelodGH.xlsx'>\n",
      "<DirEntry 'SW5_timepoints_subtelodGH.xlsx'>\n",
      "<DirEntry 'SW12_timepoints_subtelodGH.xlsx'>\n",
      "<DirEntry 'SW15_timepoints_subtelodGH.xlsx'>\n",
      "<DirEntry 'SW2_timepoints_subtelodGH.xlsx'>\n",
      "<DirEntry 'SW10_timepoints_subtelodGH.xlsx'>\n",
      "<DirEntry 'SW7_timepoints_subtelodGH.xlsx'>\n",
      "<DirEntry 'SW1_timepoints_subtelodGH.xlsx'>\n",
      "<DirEntry 'SW16_timepoints_subtelodGH.xlsx'>\n",
      "<DirEntry 'SW11_timepoints_subtelodGH.xlsx'>\n",
      "<DirEntry 'SW6_timepoints_subtelodGH.xlsx'>\n"
     ]
    }
   ],
   "source": [
    "all_chr_aberr_df = trp.make_dataframe_chr_aberr_data('../data/dGH scoresheets/')"
   ]
  },
  {
   "cell_type": "code",
   "execution_count": 18,
   "metadata": {},
   "outputs": [],
   "source": [
    "all_chr_aberr_df.to_csv('../data/compiled patient data csv files/all_chr_aberr_df.csv', index=False)"
   ]
  },
  {
   "cell_type": "markdown",
   "metadata": {},
   "source": [
    "# Loading Complete Blood Count data"
   ]
  },
  {
   "cell_type": "code",
   "execution_count": 31,
   "metadata": {},
   "outputs": [],
   "source": [
    "# loading excel file\n",
    "cbc_data = pd.read_excel('../data/to colorado.xlsx')\n",
    "\n",
    "# minor data cleaning\n",
    "cbc_data.rename({'patient': 'patient id',\n",
    "                 'mrn': 'timepoint'}, axis=1, inplace=True)\n",
    "\n",
    "def extract_patient_ID(row):\n",
    "    if 'SW' in row:\n",
    "        row = row.replace('SW', '  ').strip()\n",
    "    return row\n",
    "\n",
    "cbc_data['patient id'] = cbc_data['patient id'].apply(lambda row: extract_patient_ID(row))\n",
    "cbc_data['patient id'] = cbc_data['patient id'].astype('int64')"
   ]
  },
  {
   "cell_type": "code",
   "execution_count": 32,
   "metadata": {},
   "outputs": [],
   "source": [
    "# saving to file\n",
    "cbc_data.to_csv('../data/compiled patient data csv files/cleaned cbc data.csv', index=False)"
   ]
  },
  {
   "cell_type": "code",
   "execution_count": null,
   "metadata": {},
   "outputs": [],
   "source": []
  }
 ],
 "metadata": {
  "kernelspec": {
   "display_name": "Python 3",
   "language": "python",
   "name": "python3"
  },
  "language_info": {
   "codemirror_mode": {
    "name": "ipython",
    "version": 3
   },
   "file_extension": ".py",
   "mimetype": "text/x-python",
   "name": "python",
   "nbconvert_exporter": "python",
   "pygments_lexer": "ipython3",
   "version": "3.7.6"
  },
  "toc-autonumbering": true
 },
 "nbformat": 4,
 "nbformat_minor": 2
}
